{
 "cells": [
  {
   "cell_type": "markdown",
   "id": "10d48306",
   "metadata": {},
   "source": [
    "# Apa itu == \n",
    "\n",
    "apakah sisi kiri sama dengan sisi kanan"
   ]
  },
  {
   "cell_type": "code",
   "execution_count": 1,
   "id": "fc29035a",
   "metadata": {},
   "outputs": [
    {
     "name": "stdout",
     "output_type": "stream",
     "text": [
      "1.  True\n",
      "2.  False\n",
      "3.  False\n",
      "4.  True\n",
      "5.  True\n",
      "6.  True\n"
     ]
    }
   ],
   "source": [
    "print ('1. ', True == 1)\n",
    "print ('2. ', '' == 0)\n",
    "print ('3. ', [] == False)\n",
    "print ('4. ', 23 == 23.0)\n",
    "print ('5. ', [] == [])\n",
    "print ('6. ', () == ())"
   ]
  },
  {
   "cell_type": "code",
   "execution_count": 2,
   "id": "3b64c2c3",
   "metadata": {},
   "outputs": [],
   "source": [
    "# pengecualian\n",
    "\n",
    "# disini ada pengecualian, penting diingat #True = 1 dan #False = 0\n",
    "# int = float"
   ]
  },
  {
   "cell_type": "code",
   "execution_count": 3,
   "id": "c770585f",
   "metadata": {},
   "outputs": [
    {
     "name": "stdout",
     "output_type": "stream",
     "text": [
      "1.  False\n",
      "2.  False\n",
      "3.  False\n",
      "4.  False\n",
      "5.  False\n",
      "6.  True\n"
     ]
    },
    {
     "name": "stderr",
     "output_type": "stream",
     "text": [
      "<>:1: SyntaxWarning: \"is\" with a literal. Did you mean \"==\"?\n",
      "<>:2: SyntaxWarning: \"is\" with a literal. Did you mean \"==\"?\n",
      "<>:4: SyntaxWarning: \"is\" with a literal. Did you mean \"==\"?\n",
      "<>:6: SyntaxWarning: \"is\" with a literal. Did you mean \"==\"?\n",
      "<>:1: SyntaxWarning: \"is\" with a literal. Did you mean \"==\"?\n",
      "<>:2: SyntaxWarning: \"is\" with a literal. Did you mean \"==\"?\n",
      "<>:4: SyntaxWarning: \"is\" with a literal. Did you mean \"==\"?\n",
      "<>:6: SyntaxWarning: \"is\" with a literal. Did you mean \"==\"?\n",
      "C:\\Users\\HP\\AppData\\Local\\Temp\\ipykernel_8220\\1159433032.py:1: SyntaxWarning: \"is\" with a literal. Did you mean \"==\"?\n",
      "  print ('1. ', True is 1)\n",
      "C:\\Users\\HP\\AppData\\Local\\Temp\\ipykernel_8220\\1159433032.py:2: SyntaxWarning: \"is\" with a literal. Did you mean \"==\"?\n",
      "  print ('2. ', '' is 0)\n",
      "C:\\Users\\HP\\AppData\\Local\\Temp\\ipykernel_8220\\1159433032.py:4: SyntaxWarning: \"is\" with a literal. Did you mean \"==\"?\n",
      "  print ('4. ', 23 is 23.0)\n",
      "C:\\Users\\HP\\AppData\\Local\\Temp\\ipykernel_8220\\1159433032.py:6: SyntaxWarning: \"is\" with a literal. Did you mean \"==\"?\n",
      "  print ('6. ', () is ())\n"
     ]
    }
   ],
   "source": [
    "print ('1. ', True is 1)\n",
    "print ('2. ', '' is 0)\n",
    "print ('3. ', [] is False)\n",
    "print ('4. ', 23 is 23.0)\n",
    "print ('5. ', [] is []) # jika dia sequence (yang bisa diurutkan misal list, dict, set), mutable (bisa dirubah) maka dianggap berbeda\n",
    "print ('6. ', () is ()) # jika dia sequence immutable (tidak bisa dirubah) maka dianggap sama"
   ]
  },
  {
   "cell_type": "markdown",
   "id": "022a8e4e",
   "metadata": {},
   "source": [
    "# == membandingkan nilai\n",
    "# is membandingkan posisi memory"
   ]
  }
 ],
 "metadata": {
  "kernelspec": {
   "display_name": "Python 3 (ipykernel)",
   "language": "python",
   "name": "python3"
  },
  "language_info": {
   "codemirror_mode": {
    "name": "ipython",
    "version": 3
   },
   "file_extension": ".py",
   "mimetype": "text/x-python",
   "name": "python",
   "nbconvert_exporter": "python",
   "pygments_lexer": "ipython3",
   "version": "3.11.4"
  }
 },
 "nbformat": 4,
 "nbformat_minor": 5
}
