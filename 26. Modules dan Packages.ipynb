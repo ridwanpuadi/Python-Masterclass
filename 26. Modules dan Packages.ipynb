{
 "cells": [
  {
   "cell_type": "markdown",
   "id": "04e84b6e",
   "metadata": {},
   "source": [
    "**Apa itu Module dan Package**\n",
    "\n",
    "* Modul = sebuah script Python yang memiliki ekstensi *.py\n",
    "* Jupyter Notebook menggunakan eksistensi .*ipynb\n",
    "* Package = kumpulan dari beberapa modul\n",
    "* Agar sebuah folder bisa menjadi package, ia memerlukan file dengan nama \"__init__.py\"\n",
    "\n",
    "* pakai spyder yang lebih mudah untuk praktek"
   ]
  }
 ],
 "metadata": {
  "kernelspec": {
   "display_name": "Python 3 (ipykernel)",
   "language": "python",
   "name": "python3"
  },
  "language_info": {
   "codemirror_mode": {
    "name": "ipython",
    "version": 3
   },
   "file_extension": ".py",
   "mimetype": "text/x-python",
   "name": "python",
   "nbconvert_exporter": "python",
   "pygments_lexer": "ipython3",
   "version": "3.11.4"
  }
 },
 "nbformat": 4,
 "nbformat_minor": 5
}
