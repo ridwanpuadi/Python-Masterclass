{
 "cells": [
  {
   "cell_type": "markdown",
   "id": "aed48a32",
   "metadata": {},
   "source": [
    "**Perbedaan dictionary dengan list**\n",
    "\n",
    "* tidak memiliki urutan\n",
    "* pengambilan item dengan cara menggunakan 'key' / kepala\n",
    "* format : dict1 = {'key1':'item', 'key2':'item', 'key3':'item')"
   ]
  },
  {
   "cell_type": "code",
   "execution_count": 1,
   "id": "3e8de0a7",
   "metadata": {},
   "outputs": [
    {
     "data": {
      "text/plain": [
       "{'k1': 'ayam', 'k2': 'sapi', 'k3': 'kambing'}"
      ]
     },
     "execution_count": 1,
     "metadata": {},
     "output_type": "execute_result"
    }
   ],
   "source": [
    "dict1 = {'k1':'ayam', 'k2':'sapi', 'k3':'kambing'}\n",
    "dict1"
   ]
  },
  {
   "cell_type": "code",
   "execution_count": 2,
   "id": "3f57fcdc",
   "metadata": {},
   "outputs": [
    {
     "data": {
      "text/plain": [
       "{'k1:ayam', 'k2:sapi', 'k3:kambing'}"
      ]
     },
     "execution_count": 2,
     "metadata": {},
     "output_type": "execute_result"
    }
   ],
   "source": [
    "dict1 = {'k1:ayam', 'k2:sapi', 'k3:kambing'}\n",
    "dict1"
   ]
  },
  {
   "cell_type": "code",
   "execution_count": 4,
   "id": "0f35fa43",
   "metadata": {},
   "outputs": [
    {
     "data": {
      "text/plain": [
       "set"
      ]
     },
     "execution_count": 4,
     "metadata": {},
     "output_type": "execute_result"
    }
   ],
   "source": [
    "type(dict1)"
   ]
  },
  {
   "cell_type": "code",
   "execution_count": 6,
   "id": "4bb9ce0f",
   "metadata": {},
   "outputs": [
    {
     "data": {
      "text/plain": [
       "'kambing'"
      ]
     },
     "execution_count": 6,
     "metadata": {},
     "output_type": "execute_result"
    }
   ],
   "source": [
    "# mengambil objek dalam sebuah dictionary\n",
    "\n",
    "dict1 ['k3']"
   ]
  },
  {
   "cell_type": "code",
   "execution_count": 7,
   "id": "41934d40",
   "metadata": {},
   "outputs": [],
   "source": [
    "daftar_harga_mobil = {'kijang innova':250, 'avanza':200, 'vios':220}"
   ]
  },
  {
   "cell_type": "code",
   "execution_count": 8,
   "id": "b564e3f5",
   "metadata": {},
   "outputs": [
    {
     "data": {
      "text/plain": [
       "{'kijang innova': 250, 'avanza': 200, 'vios': 220}"
      ]
     },
     "execution_count": 8,
     "metadata": {},
     "output_type": "execute_result"
    }
   ],
   "source": [
    "daftar_harga_mobil"
   ]
  },
  {
   "cell_type": "code",
   "execution_count": 9,
   "id": "a7fe52f3",
   "metadata": {},
   "outputs": [
    {
     "data": {
      "text/plain": [
       "200"
      ]
     },
     "execution_count": 9,
     "metadata": {},
     "output_type": "execute_result"
    }
   ],
   "source": [
    "daftar_harga_mobil ['avanza']"
   ]
  },
  {
   "cell_type": "code",
   "execution_count": 7,
   "id": "c49c4878",
   "metadata": {},
   "outputs": [],
   "source": [
    "# objek di dalam sebuah dict bisa campuran type data\n",
    "\n",
    "dict2 = {'k1':'ayam', 'k2':30, 'k3':['a','b',30,50], 'k4':{'k5':'apel', 'k6':'jeruk', 'k7': 'mangga'}}"
   ]
  },
  {
   "cell_type": "code",
   "execution_count": 12,
   "id": "60e2fbaf",
   "metadata": {},
   "outputs": [
    {
     "data": {
      "text/plain": [
       "{'k1': 'ayam',\n",
       " 'k2': 30,\n",
       " 'k3': ['a', 'b', 30, 50],\n",
       " 'k4': {'k5': 'apel', 'k6': 'jeruk', 'k7': 'mangga'}}"
      ]
     },
     "execution_count": 12,
     "metadata": {},
     "output_type": "execute_result"
    }
   ],
   "source": [
    "dict2"
   ]
  },
  {
   "cell_type": "code",
   "execution_count": 8,
   "id": "3a3b32b1",
   "metadata": {},
   "outputs": [
    {
     "data": {
      "text/plain": [
       "'jeruk'"
      ]
     },
     "execution_count": 8,
     "metadata": {},
     "output_type": "execute_result"
    }
   ],
   "source": [
    "# misal ingin mengambil item 'jeruk'\n",
    "\n",
    "dict2['k4']['k6']"
   ]
  },
  {
   "cell_type": "code",
   "execution_count": 9,
   "id": "9aefcfe3",
   "metadata": {},
   "outputs": [],
   "source": [
    "# mengganti item dalam sebuah dict\n",
    "\n",
    "dict2['k3'] = 'ganti items'"
   ]
  },
  {
   "cell_type": "code",
   "execution_count": 10,
   "id": "b881ce01",
   "metadata": {},
   "outputs": [
    {
     "data": {
      "text/plain": [
       "{'k1': 'ayam',\n",
       " 'k2': 30,\n",
       " 'k3': 'ganti items',\n",
       " 'k4': {'k5': 'apel', 'k6': 'jeruk', 'k7': 'mangga'}}"
      ]
     },
     "execution_count": 10,
     "metadata": {},
     "output_type": "execute_result"
    }
   ],
   "source": [
    "dict2"
   ]
  },
  {
   "cell_type": "code",
   "execution_count": 11,
   "id": "695604f0",
   "metadata": {},
   "outputs": [
    {
     "data": {
      "text/plain": [
       "dict_keys(['k1', 'k2', 'k3', 'k4'])"
      ]
     },
     "execution_count": 11,
     "metadata": {},
     "output_type": "execute_result"
    }
   ],
   "source": [
    "# method yang sering digunakan dalam dict\n",
    "# memanggil kepalanya saja 'keys', memanggil nilainya saja 'value' dan memanggil kepala & nilai 'items'\n",
    "\n",
    "dict2.keys()"
   ]
  },
  {
   "cell_type": "code",
   "execution_count": 12,
   "id": "b835226e",
   "metadata": {},
   "outputs": [
    {
     "data": {
      "text/plain": [
       "dict_values(['ayam', 30, 'ganti items', {'k5': 'apel', 'k6': 'jeruk', 'k7': 'mangga'}])"
      ]
     },
     "execution_count": 12,
     "metadata": {},
     "output_type": "execute_result"
    }
   ],
   "source": [
    "dict2.values()"
   ]
  },
  {
   "cell_type": "code",
   "execution_count": 13,
   "id": "b12360c5",
   "metadata": {},
   "outputs": [
    {
     "data": {
      "text/plain": [
       "dict_items([('k1', 'ayam'), ('k2', 30), ('k3', 'ganti items'), ('k4', {'k5': 'apel', 'k6': 'jeruk', 'k7': 'mangga'})])"
      ]
     },
     "execution_count": 13,
     "metadata": {},
     "output_type": "execute_result"
    }
   ],
   "source": [
    "dict2.items()"
   ]
  },
  {
   "cell_type": "markdown",
   "id": "25f97697",
   "metadata": {},
   "source": [
    "**ganti kata mangga menjadi capital**"
   ]
  },
  {
   "cell_type": "code",
   "execution_count": 23,
   "id": "1e1b123f",
   "metadata": {},
   "outputs": [
    {
     "data": {
      "text/plain": [
       "'mangga'"
      ]
     },
     "execution_count": 23,
     "metadata": {},
     "output_type": "execute_result"
    }
   ],
   "source": [
    "dict2['k4']['k7']"
   ]
  },
  {
   "cell_type": "code",
   "execution_count": 24,
   "id": "08c14395",
   "metadata": {},
   "outputs": [],
   "source": [
    "capital = dict2['k4']['k7']"
   ]
  },
  {
   "cell_type": "code",
   "execution_count": 25,
   "id": "3f8f8629",
   "metadata": {},
   "outputs": [
    {
     "data": {
      "text/plain": [
       "'mangga'"
      ]
     },
     "execution_count": 25,
     "metadata": {},
     "output_type": "execute_result"
    }
   ],
   "source": [
    "capital"
   ]
  },
  {
   "cell_type": "code",
   "execution_count": 26,
   "id": "65268d33",
   "metadata": {},
   "outputs": [
    {
     "data": {
      "text/plain": [
       "'MANGGA'"
      ]
     },
     "execution_count": 26,
     "metadata": {},
     "output_type": "execute_result"
    }
   ],
   "source": [
    "capital.upper()"
   ]
  },
  {
   "cell_type": "code",
   "execution_count": 27,
   "id": "38373a41",
   "metadata": {},
   "outputs": [],
   "source": [
    "capital = capital.upper()"
   ]
  },
  {
   "cell_type": "code",
   "execution_count": 28,
   "id": "115d17d5",
   "metadata": {},
   "outputs": [
    {
     "data": {
      "text/plain": [
       "'MANGGA'"
      ]
     },
     "execution_count": 28,
     "metadata": {},
     "output_type": "execute_result"
    }
   ],
   "source": [
    "capital"
   ]
  },
  {
   "cell_type": "markdown",
   "id": "4b75abec",
   "metadata": {},
   "source": [
    "**cara kedua paling cepat u/ capital**"
   ]
  },
  {
   "cell_type": "code",
   "execution_count": 29,
   "id": "9358ea6b",
   "metadata": {},
   "outputs": [],
   "source": [
    "capital2 = dict2['k4']['k7'].upper()"
   ]
  },
  {
   "cell_type": "code",
   "execution_count": 30,
   "id": "f6a255a9",
   "metadata": {},
   "outputs": [
    {
     "data": {
      "text/plain": [
       "'MANGGA'"
      ]
     },
     "execution_count": 30,
     "metadata": {},
     "output_type": "execute_result"
    }
   ],
   "source": [
    "capital2"
   ]
  },
  {
   "cell_type": "code",
   "execution_count": null,
   "id": "d7f344bd",
   "metadata": {},
   "outputs": [],
   "source": []
  }
 ],
 "metadata": {
  "kernelspec": {
   "display_name": "Python 3 (ipykernel)",
   "language": "python",
   "name": "python3"
  },
  "language_info": {
   "codemirror_mode": {
    "name": "ipython",
    "version": 3
   },
   "file_extension": ".py",
   "mimetype": "text/x-python",
   "name": "python",
   "nbconvert_exporter": "python",
   "pygments_lexer": "ipython3",
   "version": "3.11.4"
  }
 },
 "nbformat": 4,
 "nbformat_minor": 5
}
