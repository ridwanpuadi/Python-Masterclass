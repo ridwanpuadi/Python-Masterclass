{
 "cells": [
  {
   "cell_type": "code",
   "execution_count": 11,
   "id": "d8682e8f",
   "metadata": {},
   "outputs": [],
   "source": [
    "bil3 = 10/2"
   ]
  },
  {
   "cell_type": "code",
   "execution_count": 12,
   "id": "08108692",
   "metadata": {},
   "outputs": [
    {
     "data": {
      "text/plain": [
       "5.0"
      ]
     },
     "execution_count": 12,
     "metadata": {},
     "output_type": "execute_result"
    }
   ],
   "source": [
    "bil3"
   ]
  },
  {
   "cell_type": "code",
   "execution_count": 13,
   "id": "33f4a128",
   "metadata": {},
   "outputs": [
    {
     "data": {
      "text/plain": [
       "float"
      ]
     },
     "execution_count": 13,
     "metadata": {},
     "output_type": "execute_result"
    }
   ],
   "source": [
    "type (bil3)"
   ]
  },
  {
   "cell_type": "code",
   "execution_count": 24,
   "id": "6aff4910",
   "metadata": {},
   "outputs": [
    {
     "data": {
      "text/plain": [
       "3"
      ]
     },
     "execution_count": 24,
     "metadata": {},
     "output_type": "execute_result"
    }
   ],
   "source": [
    "11%4"
   ]
  },
  {
   "cell_type": "code",
   "execution_count": 25,
   "id": "ba46b486",
   "metadata": {},
   "outputs": [
    {
     "data": {
      "text/plain": [
       "3.3333333333333335"
      ]
     },
     "execution_count": 25,
     "metadata": {},
     "output_type": "execute_result"
    }
   ],
   "source": [
    "10/3"
   ]
  },
  {
   "cell_type": "code",
   "execution_count": 26,
   "id": "4dd61a03",
   "metadata": {},
   "outputs": [
    {
     "data": {
      "text/plain": [
       "1"
      ]
     },
     "execution_count": 26,
     "metadata": {},
     "output_type": "execute_result"
    }
   ],
   "source": [
    "10%3"
   ]
  },
  {
   "cell_type": "code",
   "execution_count": 27,
   "id": "5d555464",
   "metadata": {},
   "outputs": [
    {
     "data": {
      "text/plain": [
       "0"
      ]
     },
     "execution_count": 27,
     "metadata": {},
     "output_type": "execute_result"
    }
   ],
   "source": [
    "10%2"
   ]
  },
  {
   "cell_type": "code",
   "execution_count": 28,
   "id": "4da36424",
   "metadata": {},
   "outputs": [
    {
     "data": {
      "text/plain": [
       "0"
      ]
     },
     "execution_count": 28,
     "metadata": {},
     "output_type": "execute_result"
    }
   ],
   "source": [
    "10%1"
   ]
  },
  {
   "cell_type": "code",
   "execution_count": 31,
   "id": "2aa81f1e",
   "metadata": {},
   "outputs": [
    {
     "data": {
      "text/plain": [
       "4"
      ]
     },
     "execution_count": 31,
     "metadata": {},
     "output_type": "execute_result"
    }
   ],
   "source": [
    "2**2"
   ]
  },
  {
   "cell_type": "code",
   "execution_count": 33,
   "id": "0a5e33f6",
   "metadata": {},
   "outputs": [
    {
     "data": {
      "text/plain": [
       "62"
      ]
     },
     "execution_count": 33,
     "metadata": {},
     "output_type": "execute_result"
    }
   ],
   "source": [
    "2 + 10 * 3 + 4 * 5 + 10"
   ]
  },
  {
   "cell_type": "code",
   "execution_count": 34,
   "id": "f48a6e46",
   "metadata": {},
   "outputs": [
    {
     "data": {
      "text/plain": [
       "'Belajar Python itu Mudah'"
      ]
     },
     "execution_count": 34,
     "metadata": {},
     "output_type": "execute_result"
    }
   ],
   "source": [
    "# cara melakukan INDEXing\n",
    "\n",
    "\"Belajar Python itu Mudah\""
   ]
  },
  {
   "cell_type": "code",
   "execution_count": 35,
   "id": "cf5a432b",
   "metadata": {},
   "outputs": [
    {
     "data": {
      "text/plain": [
       "'a'"
      ]
     },
     "execution_count": 35,
     "metadata": {},
     "output_type": "execute_result"
    }
   ],
   "source": [
    "\"Belajar Python itu Mudah\" [3]"
   ]
  },
  {
   "cell_type": "code",
   "execution_count": 36,
   "id": "11e387fd",
   "metadata": {},
   "outputs": [
    {
     "data": {
      "text/plain": [
       "'r'"
      ]
     },
     "execution_count": 36,
     "metadata": {},
     "output_type": "execute_result"
    }
   ],
   "source": [
    "\"Belajar Python itu Mudah\" [6]"
   ]
  },
  {
   "cell_type": "code",
   "execution_count": 37,
   "id": "97dc35e3",
   "metadata": {},
   "outputs": [
    {
     "data": {
      "text/plain": [
       "'a'"
      ]
     },
     "execution_count": 37,
     "metadata": {},
     "output_type": "execute_result"
    }
   ],
   "source": [
    "\"Belajar Python itu Mudah\" [-2]"
   ]
  },
  {
   "cell_type": "code",
   "execution_count": 38,
   "id": "abb23038",
   "metadata": {},
   "outputs": [
    {
     "data": {
      "text/plain": [
       "'h'"
      ]
     },
     "execution_count": 38,
     "metadata": {},
     "output_type": "execute_result"
    }
   ],
   "source": [
    "\"Belajar Python itu Mudah\" [-1]"
   ]
  },
  {
   "cell_type": "code",
   "execution_count": 39,
   "id": "5e5d512a",
   "metadata": {},
   "outputs": [
    {
     "data": {
      "text/plain": [
       "'l'"
      ]
     },
     "execution_count": 39,
     "metadata": {},
     "output_type": "execute_result"
    }
   ],
   "source": [
    "# cara melakukan Slicing dari mana ke .....\n",
    "\n",
    "\"Belajar Python itu Mudah\" [2:3]"
   ]
  },
  {
   "cell_type": "code",
   "execution_count": 40,
   "id": "56cd4e6c",
   "metadata": {},
   "outputs": [
    {
     "data": {
      "text/plain": [
       "'lajar Python itu Mud'"
      ]
     },
     "execution_count": 40,
     "metadata": {},
     "output_type": "execute_result"
    }
   ],
   "source": [
    "\"Belajar Python itu Mudah\" [2:-2]"
   ]
  },
  {
   "cell_type": "code",
   "execution_count": 41,
   "id": "7f44b524",
   "metadata": {},
   "outputs": [
    {
     "data": {
      "text/plain": [
       "'ajar'"
      ]
     },
     "execution_count": 41,
     "metadata": {},
     "output_type": "execute_result"
    }
   ],
   "source": [
    "\"Belajar Python itu Mudah\" [3:7]"
   ]
  },
  {
   "cell_type": "code",
   "execution_count": 42,
   "id": "1b0e7d68",
   "metadata": {},
   "outputs": [
    {
     "data": {
      "text/plain": [
       "'a yhniuMd'"
      ]
     },
     "execution_count": 42,
     "metadata": {},
     "output_type": "execute_result"
    }
   ],
   "source": [
    "# Cara melakukan step(jarak)\n",
    "# rumusnya adalah (awal:akhir:jarak)\n",
    "\n",
    "\"Belajar Python itu Mudah\"[5:-2:2]"
   ]
  },
  {
   "cell_type": "code",
   "execution_count": 48,
   "id": "85654f06",
   "metadata": {},
   "outputs": [
    {
     "data": {
      "text/plain": [
       "[1, 2, 3, 4, 5, 6, 7]"
      ]
     },
     "execution_count": 48,
     "metadata": {},
     "output_type": "execute_result"
    }
   ],
   "source": [
    "item = [1,2,3,4,5,6,7]\n",
    "item"
   ]
  },
  {
   "cell_type": "code",
   "execution_count": 49,
   "id": "ddf90f5d",
   "metadata": {},
   "outputs": [
    {
     "data": {
      "text/plain": [
       "4"
      ]
     },
     "execution_count": 49,
     "metadata": {},
     "output_type": "execute_result"
    }
   ],
   "source": [
    "item [3]"
   ]
  },
  {
   "cell_type": "code",
   "execution_count": 54,
   "id": "419da986",
   "metadata": {},
   "outputs": [
    {
     "data": {
      "text/plain": [
       "[3, 5]"
      ]
     },
     "execution_count": 54,
     "metadata": {},
     "output_type": "execute_result"
    }
   ],
   "source": [
    "item [2:-2:2]"
   ]
  },
  {
   "cell_type": "markdown",
   "id": "5a2f84b5",
   "metadata": {},
   "source": [
    "# type data"
   ]
  },
  {
   "cell_type": "code",
   "execution_count": 1,
   "id": "f01fc922",
   "metadata": {},
   "outputs": [
    {
     "data": {
      "text/plain": [
       "'saya belajar'"
      ]
     },
     "execution_count": 1,
     "metadata": {},
     "output_type": "execute_result"
    }
   ],
   "source": [
    "# String (str) = karakter kata c/ 'saya belajar' \"saya tidak belajar\" \"0.2\" '1'\n",
    "'saya belajar'\n",
    "type1 = \"saya belajar\"\n",
    "type1"
   ]
  },
  {
   "cell_type": "code",
   "execution_count": 2,
   "id": "2d8f210a",
   "metadata": {},
   "outputs": [
    {
     "data": {
      "text/plain": [
       "str"
      ]
     },
     "execution_count": 2,
     "metadata": {},
     "output_type": "execute_result"
    }
   ],
   "source": [
    "type(type1)"
   ]
  },
  {
   "cell_type": "code",
   "execution_count": 91,
   "id": "7e201d36",
   "metadata": {},
   "outputs": [
    {
     "data": {
      "text/plain": [
       "100"
      ]
     },
     "execution_count": 91,
     "metadata": {},
     "output_type": "execute_result"
    }
   ],
   "source": [
    "# Integer (int) = angka tanpa decimal c/ 2 100 5\n",
    "2\n",
    "5\n",
    "type2 = 100\n",
    "type2"
   ]
  },
  {
   "cell_type": "code",
   "execution_count": 94,
   "id": "3f632bfe",
   "metadata": {},
   "outputs": [
    {
     "data": {
      "text/plain": [
       "int"
      ]
     },
     "execution_count": 94,
     "metadata": {},
     "output_type": "execute_result"
    }
   ],
   "source": [
    "type(type2)"
   ]
  },
  {
   "cell_type": "code",
   "execution_count": 96,
   "id": "b43151db",
   "metadata": {},
   "outputs": [
    {
     "data": {
      "text/plain": [
       "100.2"
      ]
     },
     "execution_count": 96,
     "metadata": {},
     "output_type": "execute_result"
    }
   ],
   "source": [
    "# Float (float) = angak dengan decimal c/ 2.4  5.7  100.2\n",
    "1.4\n",
    "5.7\n",
    "type3 = 100.2\n",
    "type3"
   ]
  },
  {
   "cell_type": "code",
   "execution_count": 97,
   "id": "974160aa",
   "metadata": {},
   "outputs": [
    {
     "data": {
      "text/plain": [
       "float"
      ]
     },
     "execution_count": 97,
     "metadata": {},
     "output_type": "execute_result"
    }
   ],
   "source": [
    "type(type3)"
   ]
  },
  {
   "cell_type": "code",
   "execution_count": 98,
   "id": "2b3759f2",
   "metadata": {},
   "outputs": [
    {
     "data": {
      "text/plain": [
       "[2.4, 'saya belajar', 2]"
      ]
     },
     "execution_count": 98,
     "metadata": {},
     "output_type": "execute_result"
    }
   ],
   "source": [
    " # List (list) = kumpulan beberapa objek dengan diawali \"kurung siku []\" c/ [1, '2.40', \"belajar\"]\n",
    "[1]\n",
    "type4 = [2.40, 'saya belajar', 2]\n",
    "type4"
   ]
  },
  {
   "cell_type": "code",
   "execution_count": 99,
   "id": "6e1973f1",
   "metadata": {},
   "outputs": [
    {
     "data": {
      "text/plain": [
       "list"
      ]
     },
     "execution_count": 99,
     "metadata": {},
     "output_type": "execute_result"
    }
   ],
   "source": [
    "type(type4)"
   ]
  },
  {
   "cell_type": "code",
   "execution_count": 102,
   "id": "d72d2349",
   "metadata": {},
   "outputs": [
    {
     "data": {
      "text/plain": [
       "{'item1': 'ayam', 'item2': 'sapi', 'item3': 'kambing'}"
      ]
     },
     "execution_count": 102,
     "metadata": {},
     "output_type": "execute_result"
    }
   ],
   "source": [
    "# Dictionaries (dict) = kumpulan beberapa objek berpasangan diawali \"kurung kurawal {}\"\n",
    "# c/ {\"item1\" : \"ayam\", \"item2\" : \"sapi\", \"item3\" : \"kambing\"}\n",
    "\n",
    "type5 = {\"item1\" : \"ayam\", \"item2\" : \"sapi\", \"item3\" : \"kambing\"}\n",
    "type5"
   ]
  },
  {
   "cell_type": "code",
   "execution_count": 103,
   "id": "452302b2",
   "metadata": {},
   "outputs": [
    {
     "data": {
      "text/plain": [
       "dict"
      ]
     },
     "execution_count": 103,
     "metadata": {},
     "output_type": "execute_result"
    }
   ],
   "source": [
    "type(type5)"
   ]
  },
  {
   "cell_type": "code",
   "execution_count": 105,
   "id": "77a4cce7",
   "metadata": {},
   "outputs": [
    {
     "data": {
      "text/plain": [
       "(1, 'saya belajar', 2.4)"
      ]
     },
     "execution_count": 105,
     "metadata": {},
     "output_type": "execute_result"
    }
   ],
   "source": [
    "# Tuples (tup) = kumpulan beberapa objek yang tidak bisa diubah diawali \"kurung lengkung ()\"\n",
    "# c/ (1,'saya belajar', 2.40)\n",
    "\n",
    "type6 = (1,'saya belajar', 2.40)\n",
    "type6"
   ]
  },
  {
   "cell_type": "code",
   "execution_count": 106,
   "id": "e797c802",
   "metadata": {},
   "outputs": [
    {
     "data": {
      "text/plain": [
       "tuple"
      ]
     },
     "execution_count": 106,
     "metadata": {},
     "output_type": "execute_result"
    }
   ],
   "source": [
    "type(type6)"
   ]
  },
  {
   "cell_type": "code",
   "execution_count": 108,
   "id": "2a5f0a25",
   "metadata": {},
   "outputs": [
    {
     "data": {
      "text/plain": [
       "{'apel', 'nanas', 'pisang', 'semangka'}"
      ]
     },
     "execution_count": 108,
     "metadata": {},
     "output_type": "execute_result"
    }
   ],
   "source": [
    "# Sets (set) = kumpulan beberapa objek tanpa urutan diawali \"kurung kurawal {}\" \n",
    "# c/ {'apel', 'pisang', 'nanas', 'semangka'}\n",
    "\n",
    "type7 = {'apel', 'pisang', 'nanas', 'semangka'}\n",
    "type7"
   ]
  },
  {
   "cell_type": "code",
   "execution_count": 109,
   "id": "51224a6a",
   "metadata": {},
   "outputs": [
    {
     "data": {
      "text/plain": [
       "set"
      ]
     },
     "execution_count": 109,
     "metadata": {},
     "output_type": "execute_result"
    }
   ],
   "source": [
    "type(type7)"
   ]
  },
  {
   "cell_type": "code",
   "execution_count": 112,
   "id": "3ad5a002",
   "metadata": {},
   "outputs": [
    {
     "data": {
      "text/plain": [
       "True"
      ]
     },
     "execution_count": 112,
     "metadata": {},
     "output_type": "execute_result"
    }
   ],
   "source": [
    "# Boolean (bool) = True/Fals c/ \n",
    "\n",
    "type8 = True\n",
    "type8"
   ]
  },
  {
   "cell_type": "code",
   "execution_count": 113,
   "id": "d840022c",
   "metadata": {},
   "outputs": [
    {
     "data": {
      "text/plain": [
       "bool"
      ]
     },
     "execution_count": 113,
     "metadata": {},
     "output_type": "execute_result"
    }
   ],
   "source": [
    "type(type8)"
   ]
  }
 ],
 "metadata": {
  "kernelspec": {
   "display_name": "Python 3 (ipykernel)",
   "language": "python",
   "name": "python3"
  },
  "language_info": {
   "codemirror_mode": {
    "name": "ipython",
    "version": 3
   },
   "file_extension": ".py",
   "mimetype": "text/x-python",
   "name": "python",
   "nbconvert_exporter": "python",
   "pygments_lexer": "ipython3",
   "version": "3.11.4"
  }
 },
 "nbformat": 4,
 "nbformat_minor": 5
}
