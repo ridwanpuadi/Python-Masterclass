{
 "cells": [
  {
   "cell_type": "markdown",
   "id": "851ffa0c",
   "metadata": {},
   "source": [
    "**string tidak bisa digantikan isi datanya (immutable)**"
   ]
  },
  {
   "cell_type": "code",
   "execution_count": 2,
   "id": "f5b8c80b",
   "metadata": {},
   "outputs": [],
   "source": [
    "var1 = [1,2,3,4,5,6]"
   ]
  },
  {
   "cell_type": "code",
   "execution_count": 4,
   "id": "e52b9e98",
   "metadata": {},
   "outputs": [
    {
     "data": {
      "text/plain": [
       "[1, 2, 100, 4, 5, 6]"
      ]
     },
     "execution_count": 4,
     "metadata": {},
     "output_type": "execute_result"
    }
   ],
   "source": [
    "# kita ganti katanya (indeks)\n",
    "\n",
    "var1 [2] = 100\n",
    "var1"
   ]
  },
  {
   "cell_type": "code",
   "execution_count": 8,
   "id": "98b6b970",
   "metadata": {},
   "outputs": [],
   "source": [
    "nama1 = 'bambang'"
   ]
  },
  {
   "cell_type": "code",
   "execution_count": 9,
   "id": "dedc90ba",
   "metadata": {},
   "outputs": [
    {
     "data": {
      "text/plain": [
       "'b'"
      ]
     },
     "execution_count": 9,
     "metadata": {},
     "output_type": "execute_result"
    }
   ],
   "source": [
    "nama1[3]"
   ]
  },
  {
   "cell_type": "code",
   "execution_count": 10,
   "id": "39617797",
   "metadata": {},
   "outputs": [
    {
     "data": {
      "text/plain": [
       "'bamb'"
      ]
     },
     "execution_count": 10,
     "metadata": {},
     "output_type": "execute_result"
    }
   ],
   "source": [
    "nama1[:4]"
   ]
  },
  {
   "cell_type": "code",
   "execution_count": 11,
   "id": "3c65df48",
   "metadata": {},
   "outputs": [
    {
     "data": {
      "text/plain": [
       "'bamban'"
      ]
     },
     "execution_count": 11,
     "metadata": {},
     "output_type": "execute_result"
    }
   ],
   "source": [
    "nama1[:-1]"
   ]
  },
  {
   "cell_type": "code",
   "execution_count": 12,
   "id": "8bc5e17f",
   "metadata": {},
   "outputs": [
    {
     "ename": "TypeError",
     "evalue": "'str' object does not support item assignment",
     "output_type": "error",
     "traceback": [
      "\u001b[1;31m---------------------------------------------------------------------------\u001b[0m",
      "\u001b[1;31mTypeError\u001b[0m                                 Traceback (most recent call last)",
      "Cell \u001b[1;32mIn[12], line 3\u001b[0m\n\u001b[0;32m      1\u001b[0m \u001b[38;5;66;03m# coba kita ganti kata dalam nama bambang\u001b[39;00m\n\u001b[1;32m----> 3\u001b[0m nama1 [\u001b[38;5;241m3\u001b[39m] \u001b[38;5;241m=\u001b[39m \u001b[38;5;124m'\u001b[39m\u001b[38;5;124mi\u001b[39m\u001b[38;5;124m'\u001b[39m\n",
      "\u001b[1;31mTypeError\u001b[0m: 'str' object does not support item assignment"
     ]
    }
   ],
   "source": [
    "# coba kita ganti kata dalam nama bambang\n",
    "\n",
    "nama1 [3] = 'i'"
   ]
  },
  {
   "cell_type": "code",
   "execution_count": 13,
   "id": "1aac7213",
   "metadata": {},
   "outputs": [
    {
     "data": {
      "text/plain": [
       "'bambang Lukito'"
      ]
     },
     "execution_count": 13,
     "metadata": {},
     "output_type": "execute_result"
    }
   ],
   "source": [
    "# string bisa digabungkan\n",
    "\n",
    "nama1 + ' Lukito'"
   ]
  },
  {
   "cell_type": "code",
   "execution_count": 15,
   "id": "80e1b74a",
   "metadata": {},
   "outputs": [
    {
     "data": {
      "text/plain": [
       "'bambang Lukito'"
      ]
     },
     "execution_count": 15,
     "metadata": {},
     "output_type": "execute_result"
    }
   ],
   "source": [
    "ganti_nama = nama1+ ' Lukito'\n",
    "ganti_nama"
   ]
  },
  {
   "cell_type": "code",
   "execution_count": 17,
   "id": "51ceab97",
   "metadata": {},
   "outputs": [
    {
     "data": {
      "text/plain": [
       "'bambangbambangbambang'"
      ]
     },
     "execution_count": 17,
     "metadata": {},
     "output_type": "execute_result"
    }
   ],
   "source": [
    "# string juga bisa dikalikan selain ditambah\n",
    "\n",
    "nama1 * 3"
   ]
  },
  {
   "cell_type": "code",
   "execution_count": 18,
   "id": "e510d5ae",
   "metadata": {},
   "outputs": [
    {
     "data": {
      "text/plain": [
       "'bambang sedang belajar python sedang belajar python'"
      ]
     },
     "execution_count": 18,
     "metadata": {},
     "output_type": "execute_result"
    }
   ],
   "source": [
    "nama1 + ' sedang belajar python'*2"
   ]
  },
  {
   "cell_type": "code",
   "execution_count": 22,
   "id": "9c463cac",
   "metadata": {},
   "outputs": [
    {
     "data": {
      "text/plain": [
       "'bambang sedang belajar python'"
      ]
     },
     "execution_count": 22,
     "metadata": {},
     "output_type": "execute_result"
    }
   ],
   "source": [
    "tindakan = nama1 + ' sedang belajar python'\n",
    "tindakan"
   ]
  },
  {
   "cell_type": "markdown",
   "id": "fb15d770",
   "metadata": {},
   "source": [
    "# Method in Python"
   ]
  },
  {
   "cell_type": "code",
   "execution_count": 1,
   "id": "737e8a70",
   "metadata": {},
   "outputs": [
    {
     "data": {
      "text/plain": [
       "'Makanan Sehat Itu adalah 4 Sehat 5 Sempurna'"
      ]
     },
     "execution_count": 1,
     "metadata": {},
     "output_type": "execute_result"
    }
   ],
   "source": [
    "var1 = 'Makanan Sehat Itu adalah 4 Sehat 5 Sempurna'\n",
    "var1"
   ]
  },
  {
   "cell_type": "code",
   "execution_count": 2,
   "id": "1937e89e",
   "metadata": {},
   "outputs": [
    {
     "data": {
      "text/plain": [
       "'MAKANAN SEHAT ITU ADALAH 4 SEHAT 5 SEMPURNA'"
      ]
     },
     "execution_count": 2,
     "metadata": {},
     "output_type": "execute_result"
    }
   ],
   "source": [
    "var1.upper()"
   ]
  },
  {
   "cell_type": "code",
   "execution_count": 3,
   "id": "7c26653f",
   "metadata": {},
   "outputs": [
    {
     "data": {
      "text/plain": [
       "'Makanan Sehat Itu adalah 4 Sehat 5 Sempurna'"
      ]
     },
     "execution_count": 3,
     "metadata": {},
     "output_type": "execute_result"
    }
   ],
   "source": [
    "var1"
   ]
  },
  {
   "cell_type": "code",
   "execution_count": 4,
   "id": "0476e606",
   "metadata": {},
   "outputs": [
    {
     "data": {
      "text/plain": [
       "'MAKANAN SEHAT ITU ADALAH 4 SEHAT 5 SEMPURNA'"
      ]
     },
     "execution_count": 4,
     "metadata": {},
     "output_type": "execute_result"
    }
   ],
   "source": [
    "var2 = var1.upper()\n",
    "var2"
   ]
  },
  {
   "cell_type": "code",
   "execution_count": 5,
   "id": "3d31a4a6",
   "metadata": {},
   "outputs": [
    {
     "data": {
      "text/plain": [
       "<function str.upper()>"
      ]
     },
     "execution_count": 5,
     "metadata": {},
     "output_type": "execute_result"
    }
   ],
   "source": [
    "var1.upper"
   ]
  },
  {
   "cell_type": "code",
   "execution_count": 8,
   "id": "afde6c94",
   "metadata": {},
   "outputs": [
    {
     "data": {
      "text/plain": [
       "[1, 2, 'sehat']"
      ]
     },
     "execution_count": 8,
     "metadata": {},
     "output_type": "execute_result"
    }
   ],
   "source": [
    "var3 = [1, 2, 'sehat']\n",
    "var3"
   ]
  },
  {
   "cell_type": "code",
   "execution_count": 9,
   "id": "a653ec8b",
   "metadata": {},
   "outputs": [
    {
     "data": {
      "text/plain": [
       "'Makanan Sehat Itu adalah 4 Sehat 5 Sempurna'"
      ]
     },
     "execution_count": 9,
     "metadata": {},
     "output_type": "execute_result"
    }
   ],
   "source": [
    "var1 = 'Makanan Sehat Itu adalah 4 Sehat 5 Sempurna'\n",
    "var1"
   ]
  },
  {
   "cell_type": "code",
   "execution_count": 10,
   "id": "15f04ef8",
   "metadata": {},
   "outputs": [
    {
     "data": {
      "text/plain": [
       "['Makanan', 'Sehat', 'Itu', 'adalah', '4', 'Sehat', '5', 'Sempurna']"
      ]
     },
     "execution_count": 10,
     "metadata": {},
     "output_type": "execute_result"
    }
   ],
   "source": [
    "var1.split() # sering digunakan pada teknik NLP (Natural Languange Procesing)"
   ]
  },
  {
   "cell_type": "code",
   "execution_count": 13,
   "id": "8723a1d7",
   "metadata": {},
   "outputs": [
    {
     "data": {
      "text/plain": [
       "['M', 'k', 'n', 'n Seh', 't Itu ', 'd', 'l', 'h 4 Seh', 't 5 Sempurn', '']"
      ]
     },
     "execution_count": 13,
     "metadata": {},
     "output_type": "execute_result"
    }
   ],
   "source": [
    "var1.split('a')"
   ]
  },
  {
   "cell_type": "code",
   "execution_count": 14,
   "id": "330a9ed3",
   "metadata": {},
   "outputs": [
    {
     "name": "stdout",
     "output_type": "stream",
     "text": [
      "Makanan Sehat Itu adalah 4 Sehat 5 Sempurna\n"
     ]
    }
   ],
   "source": [
    "print(var1) # hasilnya tidak memakai tanda petik"
   ]
  },
  {
   "cell_type": "code",
   "execution_count": 18,
   "id": "5ff6cf21",
   "metadata": {},
   "outputs": [
    {
     "name": "stdout",
     "output_type": "stream",
     "text": [
      "dun ini ada uang Rp. 10000 buat beli ayam\n"
     ]
    }
   ],
   "source": [
    " # memakai method format\n",
    "\n",
    "print ('dun ini ada uang Rp. {} buat beli ayam'.format(10000))"
   ]
  },
  {
   "cell_type": "code",
   "execution_count": 21,
   "id": "3ac67289",
   "metadata": {},
   "outputs": [
    {
     "name": "stdout",
     "output_type": "stream",
     "text": [
      "urutan pemenang lomba lari adalah kudil dede madun\n"
     ]
    }
   ],
   "source": [
    "print ('urutan pemenang lomba lari adalah {} {} {}'.format ('kudil', 'dede', 'madun'))"
   ]
  },
  {
   "cell_type": "code",
   "execution_count": 22,
   "id": "cefc2be4",
   "metadata": {},
   "outputs": [
    {
     "name": "stdout",
     "output_type": "stream",
     "text": [
      "urutan pemenang lomba lari adalah dede madun kudil\n"
     ]
    }
   ],
   "source": [
    "print ('urutan pemenang lomba lari adalah {a} {b} {c}'.format (c='kudil', a='dede', b='madun'))"
   ]
  },
  {
   "cell_type": "code",
   "execution_count": 23,
   "id": "9e9d4b7e",
   "metadata": {},
   "outputs": [
    {
     "name": "stdout",
     "output_type": "stream",
     "text": [
      "urutan pemenang lomba lari adalah dede kudil madun\n"
     ]
    }
   ],
   "source": [
    "# memakai indexs\n",
    "\n",
    "print ('urutan pemenang lomba lari adalah {1} {0} {2}'.format ('kudil', 'dede', 'madun'))"
   ]
  },
  {
   "cell_type": "code",
   "execution_count": 25,
   "id": "cd3328a8",
   "metadata": {},
   "outputs": [
    {
     "data": {
      "text/plain": [
       "3.142857142857143"
      ]
     },
     "execution_count": 25,
     "metadata": {},
     "output_type": "execute_result"
    }
   ],
   "source": [
    "phi = 22/7\n",
    "phi"
   ]
  },
  {
   "cell_type": "code",
   "execution_count": 26,
   "id": "fce405aa",
   "metadata": {},
   "outputs": [
    {
     "name": "stdout",
     "output_type": "stream",
     "text": [
      "untuk menghitung luas lingkaran adalah, gunakan phi = 3.142857142857143\n"
     ]
    }
   ],
   "source": [
    "print ('untuk menghitung luas lingkaran adalah, gunakan phi = {}'.format (phi))"
   ]
  },
  {
   "cell_type": "code",
   "execution_count": 27,
   "id": "ec2ec4d0",
   "metadata": {},
   "outputs": [],
   "source": [
    "luas1 = 667.9\n",
    "luas2 = 998.7"
   ]
  },
  {
   "cell_type": "code",
   "execution_count": 28,
   "id": "fd37ac7b",
   "metadata": {},
   "outputs": [
    {
     "name": "stdout",
     "output_type": "stream",
     "text": [
      "luas tanah yang dimiliki oleh madun adalah 667.9 998.7\n"
     ]
    }
   ],
   "source": [
    "# rumus format penulisan untuk method print (nilai:lebar.tingkat_presisi f)\n",
    "\n",
    "print ('luas tanah yang dimiliki oleh madun adalah {a} {b}'.format (a=luas1, b=luas2))"
   ]
  },
  {
   "cell_type": "code",
   "execution_count": 29,
   "id": "cd629c2b",
   "metadata": {},
   "outputs": [
    {
     "name": "stdout",
     "output_type": "stream",
     "text": [
      "luas tanah yang dimiliki oleh madun adalah  667.900 998.7\n"
     ]
    }
   ],
   "source": [
    "print ('luas tanah yang dimiliki oleh madun adalah {a:8.3f} {b}'.format (a=luas1, b=luas2))"
   ]
  },
  {
   "cell_type": "code",
   "execution_count": 30,
   "id": "e2271012",
   "metadata": {},
   "outputs": [
    {
     "name": "stdout",
     "output_type": "stream",
     "text": [
      "luas tanah yang dimiliki oleh madun adalah       667.90000 998.7\n"
     ]
    }
   ],
   "source": [
    "print ('luas tanah yang dimiliki oleh madun adalah {a:15.5f} {b}'.format (a=luas1, b=luas2))"
   ]
  },
  {
   "cell_type": "code",
   "execution_count": 31,
   "id": "73eb34e1",
   "metadata": {},
   "outputs": [
    {
     "name": "stdout",
     "output_type": "stream",
     "text": [
      "luas tanah yang dimiliki oleh madun adalah      667.9 998.7\n"
     ]
    }
   ],
   "source": [
    "print ('luas tanah yang dimiliki oleh madun adalah {a:10.1f} {b}'.format (a=luas1, b=luas2))"
   ]
  }
 ],
 "metadata": {
  "kernelspec": {
   "display_name": "Python 3 (ipykernel)",
   "language": "python",
   "name": "python3"
  },
  "language_info": {
   "codemirror_mode": {
    "name": "ipython",
    "version": 3
   },
   "file_extension": ".py",
   "mimetype": "text/x-python",
   "name": "python",
   "nbconvert_exporter": "python",
   "pygments_lexer": "ipython3",
   "version": "3.11.4"
  }
 },
 "nbformat": 4,
 "nbformat_minor": 5
}
