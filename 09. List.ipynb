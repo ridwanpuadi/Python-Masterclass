{
 "cells": [
  {
   "cell_type": "code",
   "execution_count": 3,
   "id": "fbff969d",
   "metadata": {},
   "outputs": [],
   "source": [
    "keranjang = [1,2.3,'apel']"
   ]
  },
  {
   "cell_type": "code",
   "execution_count": 4,
   "id": "b10b008b",
   "metadata": {},
   "outputs": [
    {
     "data": {
      "text/plain": [
       "3"
      ]
     },
     "execution_count": 4,
     "metadata": {},
     "output_type": "execute_result"
    }
   ],
   "source": [
    "len(keranjang)"
   ]
  },
  {
   "cell_type": "code",
   "execution_count": 5,
   "id": "c9d60abc",
   "metadata": {},
   "outputs": [
    {
     "name": "stdout",
     "output_type": "stream",
     "text": [
      "1\n",
      "2.3\n",
      "apel\n"
     ]
    }
   ],
   "source": [
    "#len akan sangat berguna ketika menggunakan looping\n",
    "\n",
    "for i in range (len(keranjang)):\n",
    "    print (keranjang[i])"
   ]
  },
  {
   "cell_type": "code",
   "execution_count": 7,
   "id": "47cc1a7f",
   "metadata": {},
   "outputs": [
    {
     "name": "stdout",
     "output_type": "stream",
     "text": [
      "1\n",
      "2.3\n"
     ]
    }
   ],
   "source": [
    "#looping pakai indeks\n",
    "\n",
    "for i in range (0,2):\n",
    "    print (keranjang[i])"
   ]
  },
  {
   "cell_type": "code",
   "execution_count": 8,
   "id": "5a4a810f",
   "metadata": {},
   "outputs": [
    {
     "data": {
      "text/plain": [
       "[1, 2.3, 'apel']"
      ]
     },
     "execution_count": 8,
     "metadata": {},
     "output_type": "execute_result"
    }
   ],
   "source": [
    "keranjang"
   ]
  },
  {
   "cell_type": "code",
   "execution_count": 9,
   "id": "cc0254d2",
   "metadata": {},
   "outputs": [],
   "source": [
    "#mengganti isi dalam list\n",
    "\n",
    "keranjang [1] = 'mangga'"
   ]
  },
  {
   "cell_type": "code",
   "execution_count": 10,
   "id": "1c4da350",
   "metadata": {},
   "outputs": [
    {
     "data": {
      "text/plain": [
       "[1, 'mangga', 'apel']"
      ]
     },
     "execution_count": 10,
     "metadata": {},
     "output_type": "execute_result"
    }
   ],
   "source": [
    "keranjang"
   ]
  },
  {
   "cell_type": "code",
   "execution_count": 11,
   "id": "94558a95",
   "metadata": {},
   "outputs": [],
   "source": [
    "# menambahkan objek dalam list\n",
    "\n",
    "jeruk = ['jeruk']"
   ]
  },
  {
   "cell_type": "code",
   "execution_count": 12,
   "id": "c9e1ffef",
   "metadata": {},
   "outputs": [],
   "source": [
    "keranjang = keranjang + jeruk"
   ]
  },
  {
   "cell_type": "code",
   "execution_count": 13,
   "id": "44206829",
   "metadata": {},
   "outputs": [
    {
     "data": {
      "text/plain": [
       "[1, 'mangga', 'apel', 'jeruk']"
      ]
     },
     "execution_count": 13,
     "metadata": {},
     "output_type": "execute_result"
    }
   ],
   "source": [
    "keranjang"
   ]
  },
  {
   "cell_type": "code",
   "execution_count": 14,
   "id": "10255d52",
   "metadata": {},
   "outputs": [],
   "source": [
    "# lebih singkat lagi bisa dengan menggunaka format append (hanya bisa di isi satu objek/item)\n",
    "\n",
    "keranjang.append('pisang')"
   ]
  },
  {
   "cell_type": "code",
   "execution_count": 15,
   "id": "892833d5",
   "metadata": {},
   "outputs": [
    {
     "data": {
      "text/plain": [
       "[1, 'mangga', 'apel', 'jeruk', 'pisang']"
      ]
     },
     "execution_count": 15,
     "metadata": {},
     "output_type": "execute_result"
    }
   ],
   "source": [
    "keranjang"
   ]
  },
  {
   "cell_type": "code",
   "execution_count": 16,
   "id": "f009f961",
   "metadata": {},
   "outputs": [],
   "source": [
    "buah_lagi = ['anggur','nanas','jeruk bali', 'apel washington']"
   ]
  },
  {
   "cell_type": "code",
   "execution_count": 17,
   "id": "2466d8b4",
   "metadata": {},
   "outputs": [],
   "source": [
    "keranjang = keranjang + buah_lagi"
   ]
  },
  {
   "cell_type": "code",
   "execution_count": 18,
   "id": "251662f2",
   "metadata": {},
   "outputs": [
    {
     "data": {
      "text/plain": [
       "[1,\n",
       " 'mangga',\n",
       " 'apel',\n",
       " 'jeruk',\n",
       " 'pisang',\n",
       " 'anggur',\n",
       " 'nanas',\n",
       " 'jeruk bali',\n",
       " 'apel washington']"
      ]
     },
     "execution_count": 18,
     "metadata": {},
     "output_type": "execute_result"
    }
   ],
   "source": [
    "keranjang"
   ]
  },
  {
   "cell_type": "code",
   "execution_count": 19,
   "id": "d978d7e6",
   "metadata": {},
   "outputs": [
    {
     "data": {
      "text/plain": [
       "9"
      ]
     },
     "execution_count": 19,
     "metadata": {},
     "output_type": "execute_result"
    }
   ],
   "source": [
    "len(keranjang)"
   ]
  },
  {
   "cell_type": "code",
   "execution_count": 20,
   "id": "116099bf",
   "metadata": {},
   "outputs": [],
   "source": [
    "# membentuk list di dalam list\n",
    "\n",
    "keranjang.append(buah_lagi)"
   ]
  },
  {
   "cell_type": "code",
   "execution_count": 21,
   "id": "694ce156",
   "metadata": {},
   "outputs": [
    {
     "data": {
      "text/plain": [
       "[1,\n",
       " 'mangga',\n",
       " 'apel',\n",
       " 'jeruk',\n",
       " 'pisang',\n",
       " 'anggur',\n",
       " 'nanas',\n",
       " 'jeruk bali',\n",
       " 'apel washington',\n",
       " ['anggur', 'nanas', 'jeruk bali', 'apel washington']]"
      ]
     },
     "execution_count": 21,
     "metadata": {},
     "output_type": "execute_result"
    }
   ],
   "source": [
    "keranjang"
   ]
  },
  {
   "cell_type": "code",
   "execution_count": 22,
   "id": "8ea1078b",
   "metadata": {},
   "outputs": [
    {
     "data": {
      "text/plain": [
       "[1, 2, 3, 4, 5, 6]"
      ]
     },
     "execution_count": 22,
     "metadata": {},
     "output_type": "execute_result"
    }
   ],
   "source": [
    "# cara menghapus item/objek dalam sebuah list menggunakan method pop\n",
    "\n",
    "baru = [1,2,3,4,5,6]\n",
    "baru"
   ]
  },
  {
   "cell_type": "code",
   "execution_count": 23,
   "id": "03b48094",
   "metadata": {},
   "outputs": [
    {
     "data": {
      "text/plain": [
       "6"
      ]
     },
     "execution_count": 23,
     "metadata": {},
     "output_type": "execute_result"
    }
   ],
   "source": [
    "baru.pop()"
   ]
  },
  {
   "cell_type": "code",
   "execution_count": 24,
   "id": "ed774291",
   "metadata": {},
   "outputs": [
    {
     "data": {
      "text/plain": [
       "[1, 2, 3, 4, 5]"
      ]
     },
     "execution_count": 24,
     "metadata": {},
     "output_type": "execute_result"
    }
   ],
   "source": [
    "baru"
   ]
  },
  {
   "cell_type": "code",
   "execution_count": 25,
   "id": "73d61c7e",
   "metadata": {},
   "outputs": [
    {
     "data": {
      "text/plain": [
       "2"
      ]
     },
     "execution_count": 25,
     "metadata": {},
     "output_type": "execute_result"
    }
   ],
   "source": [
    "baru.pop(1)"
   ]
  },
  {
   "cell_type": "code",
   "execution_count": 26,
   "id": "c62bd9c7",
   "metadata": {},
   "outputs": [
    {
     "data": {
      "text/plain": [
       "[1, 3, 4, 5]"
      ]
     },
     "execution_count": 26,
     "metadata": {},
     "output_type": "execute_result"
    }
   ],
   "source": [
    "baru"
   ]
  },
  {
   "cell_type": "code",
   "execution_count": 46,
   "id": "a52aa600",
   "metadata": {},
   "outputs": [],
   "source": [
    "baru_lagi = baru.pop(2)"
   ]
  },
  {
   "cell_type": "code",
   "execution_count": 47,
   "id": "4528d4d0",
   "metadata": {},
   "outputs": [
    {
     "data": {
      "text/plain": [
       "4"
      ]
     },
     "execution_count": 47,
     "metadata": {},
     "output_type": "execute_result"
    }
   ],
   "source": [
    "baru_lagi"
   ]
  },
  {
   "cell_type": "code",
   "execution_count": 48,
   "id": "d2d9ffb1",
   "metadata": {},
   "outputs": [
    {
     "data": {
      "text/plain": [
       "[1, 3, 5]"
      ]
     },
     "execution_count": 48,
     "metadata": {},
     "output_type": "execute_result"
    }
   ],
   "source": [
    "baru"
   ]
  },
  {
   "cell_type": "code",
   "execution_count": 28,
   "id": "8cc73424",
   "metadata": {},
   "outputs": [
    {
     "data": {
      "text/plain": [
       "4"
      ]
     },
     "execution_count": 28,
     "metadata": {},
     "output_type": "execute_result"
    }
   ],
   "source": [
    "baru_lagi = baru.pop()\n",
    "baru_lagi"
   ]
  },
  {
   "cell_type": "code",
   "execution_count": 29,
   "id": "0f9d5966",
   "metadata": {},
   "outputs": [
    {
     "data": {
      "text/plain": [
       "[1, 3]"
      ]
     },
     "execution_count": 29,
     "metadata": {},
     "output_type": "execute_result"
    }
   ],
   "source": [
    "baru"
   ]
  },
  {
   "cell_type": "code",
   "execution_count": 30,
   "id": "5a1b1bee",
   "metadata": {},
   "outputs": [
    {
     "data": {
      "text/plain": [
       "[1, 2, 3, 4, 5, 6, 7, 8]"
      ]
     },
     "execution_count": 30,
     "metadata": {},
     "output_type": "execute_result"
    }
   ],
   "source": [
    "baru = [1,2,3,4,5,6,7,8]\n",
    "baru"
   ]
  },
  {
   "cell_type": "code",
   "execution_count": 31,
   "id": "f7a5c6c4",
   "metadata": {},
   "outputs": [
    {
     "data": {
      "text/plain": [
       "[1, 2, 3, 4, 5, 6, 7]"
      ]
     },
     "execution_count": 31,
     "metadata": {},
     "output_type": "execute_result"
    }
   ],
   "source": [
    "baru2 = baru.pop()\n",
    "baru"
   ]
  },
  {
   "cell_type": "code",
   "execution_count": 32,
   "id": "a3413fb7",
   "metadata": {},
   "outputs": [],
   "source": [
    "# cara mengurutkan suatu item dalam list menggunakan format sort\n",
    "\n",
    "variabel = [1,6,5,9,5,7]"
   ]
  },
  {
   "cell_type": "code",
   "execution_count": 33,
   "id": "a3a1ea1d",
   "metadata": {},
   "outputs": [],
   "source": [
    "variabel.sort()"
   ]
  },
  {
   "cell_type": "code",
   "execution_count": 34,
   "id": "3ae2233c",
   "metadata": {},
   "outputs": [
    {
     "data": {
      "text/plain": [
       "[1, 5, 5, 6, 7, 9]"
      ]
     },
     "execution_count": 34,
     "metadata": {},
     "output_type": "execute_result"
    }
   ],
   "source": [
    "variabel"
   ]
  },
  {
   "cell_type": "code",
   "execution_count": 35,
   "id": "bd779198",
   "metadata": {},
   "outputs": [],
   "source": [
    "variabel2 = ['Imam', 'Rayyan', 'Dede', 'Safa']\n",
    "variabel2.sort()"
   ]
  },
  {
   "cell_type": "code",
   "execution_count": 36,
   "id": "4c6a0be1",
   "metadata": {},
   "outputs": [
    {
     "data": {
      "text/plain": [
       "['Dede', 'Imam', 'Rayyan', 'Safa']"
      ]
     },
     "execution_count": 36,
     "metadata": {},
     "output_type": "execute_result"
    }
   ],
   "source": [
    "variabel2"
   ]
  },
  {
   "cell_type": "code",
   "execution_count": 1,
   "id": "9cb507c0",
   "metadata": {},
   "outputs": [],
   "source": [
    "# Method Sort tidak bisa di masukan sebagai nilai karena nonType (himpunan kosong)\n",
    "\n",
    "var_2 = [2,5,4,8,6,9,1]"
   ]
  },
  {
   "cell_type": "code",
   "execution_count": 2,
   "id": "f5cdd106",
   "metadata": {},
   "outputs": [
    {
     "data": {
      "text/plain": [
       "[2, 5, 4, 8, 6, 9, 1]"
      ]
     },
     "execution_count": 2,
     "metadata": {},
     "output_type": "execute_result"
    }
   ],
   "source": [
    "var_2"
   ]
  },
  {
   "cell_type": "code",
   "execution_count": 3,
   "id": "92fd6071",
   "metadata": {},
   "outputs": [],
   "source": [
    "var_3 = var_2.sort()"
   ]
  },
  {
   "cell_type": "code",
   "execution_count": 7,
   "id": "a5cb3c1f",
   "metadata": {},
   "outputs": [],
   "source": [
    "var_3"
   ]
  },
  {
   "cell_type": "code",
   "execution_count": 9,
   "id": "4823fe67",
   "metadata": {},
   "outputs": [
    {
     "data": {
      "text/plain": [
       "[1, 2, 4, 5, 6, 8, 9]"
      ]
     },
     "execution_count": 9,
     "metadata": {},
     "output_type": "execute_result"
    }
   ],
   "source": [
    "var_2"
   ]
  },
  {
   "cell_type": "code",
   "execution_count": 5,
   "id": "62afce55",
   "metadata": {},
   "outputs": [
    {
     "data": {
      "text/plain": [
       "NoneType"
      ]
     },
     "execution_count": 5,
     "metadata": {},
     "output_type": "execute_result"
    }
   ],
   "source": [
    "type (var_2.sort())"
   ]
  },
  {
   "cell_type": "code",
   "execution_count": 45,
   "id": "9534dc8c",
   "metadata": {},
   "outputs": [
    {
     "data": {
      "text/plain": [
       "[1, 2, 4, 5, 6, 8, 9]"
      ]
     },
     "execution_count": 45,
     "metadata": {},
     "output_type": "execute_result"
    }
   ],
   "source": [
    "# maka salah satu caranya adalah dengan cara\n",
    "\n",
    "var_2"
   ]
  },
  {
   "cell_type": "code",
   "execution_count": 47,
   "id": "53482744",
   "metadata": {},
   "outputs": [
    {
     "data": {
      "text/plain": [
       "[1, 2, 4, 5, 6, 8, 9]"
      ]
     },
     "execution_count": 47,
     "metadata": {},
     "output_type": "execute_result"
    }
   ],
   "source": [
    "var_3 = var_2\n",
    "var_3"
   ]
  },
  {
   "cell_type": "code",
   "execution_count": 55,
   "id": "ea507cba",
   "metadata": {},
   "outputs": [],
   "source": [
    "# method sort bisa digunakan juga dengan string\n",
    "\n",
    "var_baru = ['a','d','c','e']"
   ]
  },
  {
   "cell_type": "code",
   "execution_count": 56,
   "id": "71084232",
   "metadata": {},
   "outputs": [],
   "source": [
    "var_baru.sort()"
   ]
  },
  {
   "cell_type": "code",
   "execution_count": 57,
   "id": "e48fef08",
   "metadata": {},
   "outputs": [
    {
     "data": {
      "text/plain": [
       "['a', 'c', 'd', 'e']"
      ]
     },
     "execution_count": 57,
     "metadata": {},
     "output_type": "execute_result"
    }
   ],
   "source": [
    "var_baru"
   ]
  },
  {
   "cell_type": "code",
   "execution_count": 58,
   "id": "ed1ad309",
   "metadata": {},
   "outputs": [],
   "source": [
    "# kebalikan dari method sort adalah reverse\n",
    "\n",
    "var_baru.reverse()"
   ]
  },
  {
   "cell_type": "code",
   "execution_count": 59,
   "id": "a651f77b",
   "metadata": {},
   "outputs": [
    {
     "data": {
      "text/plain": [
       "['e', 'd', 'c', 'a']"
      ]
     },
     "execution_count": 59,
     "metadata": {},
     "output_type": "execute_result"
    }
   ],
   "source": [
    "var_baru"
   ]
  },
  {
   "cell_type": "markdown",
   "id": "04d85072",
   "metadata": {},
   "source": [
    "# NESTED LIST\n",
    "\n",
    "didalam sebuah list ada list"
   ]
  },
  {
   "cell_type": "code",
   "execution_count": 11,
   "id": "a63e841d",
   "metadata": {},
   "outputs": [],
   "source": [
    "isi = [1,2,3,4,5,[6,7,8]]"
   ]
  },
  {
   "cell_type": "code",
   "execution_count": 12,
   "id": "30a1653c",
   "metadata": {},
   "outputs": [
    {
     "data": {
      "text/plain": [
       "[1, 2, 3, 4, 5, [6, 7, 8]]"
      ]
     },
     "execution_count": 12,
     "metadata": {},
     "output_type": "execute_result"
    }
   ],
   "source": [
    "isi"
   ]
  },
  {
   "cell_type": "code",
   "execution_count": 13,
   "id": "299f3ad2",
   "metadata": {},
   "outputs": [
    {
     "data": {
      "text/plain": [
       "4"
      ]
     },
     "execution_count": 13,
     "metadata": {},
     "output_type": "execute_result"
    }
   ],
   "source": [
    "isi [3]"
   ]
  },
  {
   "cell_type": "code",
   "execution_count": 14,
   "id": "2a27a1cc",
   "metadata": {},
   "outputs": [
    {
     "data": {
      "text/plain": [
       "[1, 2]"
      ]
     },
     "execution_count": 14,
     "metadata": {},
     "output_type": "execute_result"
    }
   ],
   "source": [
    "isi [:2]"
   ]
  },
  {
   "cell_type": "code",
   "execution_count": 66,
   "id": "307abcd7",
   "metadata": {},
   "outputs": [
    {
     "data": {
      "text/plain": [
       "[6, 7, 8]"
      ]
     },
     "execution_count": 66,
     "metadata": {},
     "output_type": "execute_result"
    }
   ],
   "source": [
    "# indeks dalam sebuah list\n",
    "\n",
    "isi [5]"
   ]
  },
  {
   "cell_type": "code",
   "execution_count": 15,
   "id": "46694bdb",
   "metadata": {},
   "outputs": [
    {
     "data": {
      "text/plain": [
       "6"
      ]
     },
     "execution_count": 15,
     "metadata": {},
     "output_type": "execute_result"
    }
   ],
   "source": [
    "# mengambil objek dalam sebuah list di dalam list\n",
    "\n",
    "isi [5][0]"
   ]
  },
  {
   "cell_type": "code",
   "execution_count": 68,
   "id": "0bd7621e",
   "metadata": {},
   "outputs": [
    {
     "data": {
      "text/plain": [
       "7"
      ]
     },
     "execution_count": 68,
     "metadata": {},
     "output_type": "execute_result"
    }
   ],
   "source": [
    "isi [5][1]"
   ]
  },
  {
   "cell_type": "code",
   "execution_count": 73,
   "id": "946b5976",
   "metadata": {},
   "outputs": [],
   "source": [
    "isi2 = [1,2,3,4,5,[6,7,8,[9,10,11,'target',12]]]"
   ]
  },
  {
   "cell_type": "code",
   "execution_count": 74,
   "id": "a6661204",
   "metadata": {},
   "outputs": [
    {
     "data": {
      "text/plain": [
       "[1, 2, 3, 4, 5, [6, 7, 8, [9, 10, 11, 'target', 12]]]"
      ]
     },
     "execution_count": 74,
     "metadata": {},
     "output_type": "execute_result"
    }
   ],
   "source": [
    "isi2"
   ]
  },
  {
   "cell_type": "code",
   "execution_count": 76,
   "id": "1a110be4",
   "metadata": {},
   "outputs": [
    {
     "data": {
      "text/plain": [
       "[6, 7, 8, [9, 10, 11, 'target', 12]]"
      ]
     },
     "execution_count": 76,
     "metadata": {},
     "output_type": "execute_result"
    }
   ],
   "source": [
    "# cara mengeluarkan objek 'target\n",
    "\n",
    "isi2[5]"
   ]
  },
  {
   "cell_type": "code",
   "execution_count": 77,
   "id": "15118931",
   "metadata": {},
   "outputs": [
    {
     "data": {
      "text/plain": [
       "[9, 10, 11, 'target', 12]"
      ]
     },
     "execution_count": 77,
     "metadata": {},
     "output_type": "execute_result"
    }
   ],
   "source": [
    "isi2[5][3]"
   ]
  },
  {
   "cell_type": "code",
   "execution_count": 78,
   "id": "cc94a317",
   "metadata": {},
   "outputs": [
    {
     "data": {
      "text/plain": [
       "'target'"
      ]
     },
     "execution_count": 78,
     "metadata": {},
     "output_type": "execute_result"
    }
   ],
   "source": [
    "isi2[5][3][3]"
   ]
  },
  {
   "cell_type": "markdown",
   "id": "f6818e04",
   "metadata": {},
   "source": [
    "# Lebih dalam dengan List"
   ]
  },
  {
   "cell_type": "code",
   "execution_count": 89,
   "id": "3ffa1dab",
   "metadata": {},
   "outputs": [],
   "source": [
    "var1 = list()"
   ]
  },
  {
   "cell_type": "code",
   "execution_count": 90,
   "id": "9c803a02",
   "metadata": {},
   "outputs": [
    {
     "data": {
      "text/plain": [
       "list"
      ]
     },
     "execution_count": 90,
     "metadata": {},
     "output_type": "execute_result"
    }
   ],
   "source": [
    "type(var1)"
   ]
  },
  {
   "cell_type": "code",
   "execution_count": 91,
   "id": "cb52f5e1",
   "metadata": {},
   "outputs": [],
   "source": [
    "var2 = []"
   ]
  },
  {
   "cell_type": "code",
   "execution_count": 93,
   "id": "f94eb4d7",
   "metadata": {},
   "outputs": [
    {
     "data": {
      "text/plain": [
       "list"
      ]
     },
     "execution_count": 93,
     "metadata": {},
     "output_type": "execute_result"
    }
   ],
   "source": [
    "type (var2)"
   ]
  },
  {
   "cell_type": "code",
   "execution_count": 96,
   "id": "2352b0bf",
   "metadata": {},
   "outputs": [
    {
     "name": "stdout",
     "output_type": "stream",
     "text": [
      "apakah sama antara var1 dengan var2\n"
     ]
    }
   ],
   "source": [
    "if var1 == var2:\n",
    "    print ('apakah sama antara var1 dengan var2')"
   ]
  },
  {
   "cell_type": "code",
   "execution_count": 97,
   "id": "b9bcb91c",
   "metadata": {},
   "outputs": [
    {
     "data": {
      "text/plain": [
       "['s',\n",
       " 'a',\n",
       " 'y',\n",
       " 'a',\n",
       " ' ',\n",
       " 's',\n",
       " 'a',\n",
       " 'n',\n",
       " 'g',\n",
       " 'a',\n",
       " 't',\n",
       " ' ',\n",
       " 's',\n",
       " 'e',\n",
       " 'n',\n",
       " 'a',\n",
       " 'n',\n",
       " 'g',\n",
       " ' ',\n",
       " 'b',\n",
       " 'e',\n",
       " 'l',\n",
       " 'a',\n",
       " 'j',\n",
       " 'a',\n",
       " 'r',\n",
       " ' ',\n",
       " 'p',\n",
       " 'y',\n",
       " 't',\n",
       " 'h',\n",
       " 'o',\n",
       " 'n']"
      ]
     },
     "execution_count": 97,
     "metadata": {},
     "output_type": "execute_result"
    }
   ],
   "source": [
    "list ('saya sangat senang belajar python')"
   ]
  },
  {
   "cell_type": "code",
   "execution_count": 79,
   "id": "e2f8bb8f",
   "metadata": {},
   "outputs": [],
   "source": [
    " ganjil = (1,3,5,7,9)"
   ]
  },
  {
   "cell_type": "code",
   "execution_count": 80,
   "id": "fd26dbb5",
   "metadata": {},
   "outputs": [],
   "source": [
    "genap = (2,4,6,8,10)"
   ]
  },
  {
   "cell_type": "code",
   "execution_count": 81,
   "id": "4f17f132",
   "metadata": {},
   "outputs": [],
   "source": [
    "# cara menggabungkan sebuah list\n",
    "\n",
    "angka = ganjil + genap"
   ]
  },
  {
   "cell_type": "code",
   "execution_count": 82,
   "id": "d2c2908c",
   "metadata": {},
   "outputs": [
    {
     "data": {
      "text/plain": [
       "(1, 3, 5, 7, 9, 2, 4, 6, 8, 10)"
      ]
     },
     "execution_count": 82,
     "metadata": {},
     "output_type": "execute_result"
    }
   ],
   "source": [
    "angka"
   ]
  },
  {
   "cell_type": "code",
   "execution_count": 83,
   "id": "81b49480",
   "metadata": {},
   "outputs": [],
   "source": [
    "# jika ingin memunculkan dua buah list\n",
    "\n",
    "bilangan = [ganjil, genap]"
   ]
  },
  {
   "cell_type": "code",
   "execution_count": 84,
   "id": "7dbfc569",
   "metadata": {},
   "outputs": [
    {
     "data": {
      "text/plain": [
       "[(1, 3, 5, 7, 9), (2, 4, 6, 8, 10)]"
      ]
     },
     "execution_count": 84,
     "metadata": {},
     "output_type": "execute_result"
    }
   ],
   "source": [
    "bilangan"
   ]
  },
  {
   "cell_type": "code",
   "execution_count": 85,
   "id": "dbdbd2db",
   "metadata": {},
   "outputs": [
    {
     "name": "stdout",
     "output_type": "stream",
     "text": [
      "(1, 3, 5, 7, 9)\n",
      "(2, 4, 6, 8, 10)\n"
     ]
    }
   ],
   "source": [
    "# menggunakan list untuk iterasi, contoh list disini adalah 'bilangan'\n",
    "\n",
    "for i in bilangan:\n",
    "    print (i)"
   ]
  },
  {
   "cell_type": "code",
   "execution_count": 87,
   "id": "fdea851e",
   "metadata": {},
   "outputs": [
    {
     "name": "stdout",
     "output_type": "stream",
     "text": [
      "(1, 3, 5, 7, 9)\n",
      "1\n",
      "3\n",
      "5\n",
      "7\n",
      "9\n",
      "(2, 4, 6, 8, 10)\n",
      "2\n",
      "4\n",
      "6\n",
      "8\n",
      "10\n"
     ]
    }
   ],
   "source": [
    "for i in bilangan: #hasilnya horizontal\n",
    "    print (i)\n",
    "    \n",
    "    for a in i: #hasilnya vertical\n",
    "        print (a)"
   ]
  },
  {
   "cell_type": "code",
   "execution_count": null,
   "id": "69d0c8fa",
   "metadata": {},
   "outputs": [],
   "source": []
  }
 ],
 "metadata": {
  "kernelspec": {
   "display_name": "Python 3 (ipykernel)",
   "language": "python",
   "name": "python3"
  },
  "language_info": {
   "codemirror_mode": {
    "name": "ipython",
    "version": 3
   },
   "file_extension": ".py",
   "mimetype": "text/x-python",
   "name": "python",
   "nbconvert_exporter": "python",
   "pygments_lexer": "ipython3",
   "version": "3.11.4"
  }
 },
 "nbformat": 4,
 "nbformat_minor": 5
}
