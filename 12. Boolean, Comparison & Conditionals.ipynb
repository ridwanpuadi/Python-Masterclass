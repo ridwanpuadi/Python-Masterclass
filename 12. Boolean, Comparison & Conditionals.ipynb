{
 "cells": [
  {
   "cell_type": "markdown",
   "id": "d8ae572b",
   "metadata": {},
   "source": [
    "**Boolean sebuah tipe data yang memberikan nilai true and false**"
   ]
  },
  {
   "cell_type": "code",
   "execution_count": 1,
   "id": "bb90afb5",
   "metadata": {},
   "outputs": [
    {
     "data": {
      "text/plain": [
       "True"
      ]
     },
     "execution_count": 1,
     "metadata": {},
     "output_type": "execute_result"
    }
   ],
   "source": [
    "True"
   ]
  },
  {
   "cell_type": "code",
   "execution_count": 2,
   "id": "5d877363",
   "metadata": {},
   "outputs": [
    {
     "data": {
      "text/plain": [
       "False"
      ]
     },
     "execution_count": 2,
     "metadata": {},
     "output_type": "execute_result"
    }
   ],
   "source": [
    "False"
   ]
  },
  {
   "cell_type": "code",
   "execution_count": 3,
   "id": "d77cd880",
   "metadata": {},
   "outputs": [
    {
     "data": {
      "text/plain": [
       "bool"
      ]
     },
     "execution_count": 3,
     "metadata": {},
     "output_type": "execute_result"
    }
   ],
   "source": [
    "type (True)"
   ]
  },
  {
   "cell_type": "markdown",
   "id": "54566776",
   "metadata": {},
   "source": [
    "# comparison operators"
   ]
  },
  {
   "cell_type": "markdown",
   "id": "efd22deb",
   "metadata": {},
   "source": [
    "* (==) sama dengan:\n",
    "* (!=) tidak sama dengan:\n",
    "* (>) lebih besar dari (ekslusif)\n",
    "* (<) lebih kecil dari (ekslusif)\n",
    "* (>=) lebih besar dari (inklusif)\n",
    "* (<=) lebih kecil dari (inklusif)"
   ]
  },
  {
   "cell_type": "code",
   "execution_count": 1,
   "id": "b5d5eb79",
   "metadata": {},
   "outputs": [
    {
     "name": "stdout",
     "output_type": "stream",
     "text": [
      "35\n"
     ]
    }
   ],
   "source": [
    "# sama dengan satu kali '=' itu adalah assigment\n",
    "\n",
    "a = 35\n",
    "print (a)"
   ]
  },
  {
   "cell_type": "code",
   "execution_count": 8,
   "id": "f692190e",
   "metadata": {},
   "outputs": [
    {
     "data": {
      "text/plain": [
       "True"
      ]
     },
     "execution_count": 8,
     "metadata": {},
     "output_type": "execute_result"
    }
   ],
   "source": [
    "'a'=='a'"
   ]
  },
  {
   "cell_type": "code",
   "execution_count": 9,
   "id": "510513aa",
   "metadata": {},
   "outputs": [
    {
     "data": {
      "text/plain": [
       "False"
      ]
     },
     "execution_count": 9,
     "metadata": {},
     "output_type": "execute_result"
    }
   ],
   "source": [
    "'a'=='b'"
   ]
  },
  {
   "cell_type": "code",
   "execution_count": 10,
   "id": "20dea33c",
   "metadata": {},
   "outputs": [
    {
     "data": {
      "text/plain": [
       "True"
      ]
     },
     "execution_count": 10,
     "metadata": {},
     "output_type": "execute_result"
    }
   ],
   "source": [
    "'a'!='b'"
   ]
  },
  {
   "cell_type": "code",
   "execution_count": 11,
   "id": "3785828a",
   "metadata": {},
   "outputs": [
    {
     "data": {
      "text/plain": [
       "False"
      ]
     },
     "execution_count": 11,
     "metadata": {},
     "output_type": "execute_result"
    }
   ],
   "source": [
    "'a'!='a'"
   ]
  },
  {
   "cell_type": "code",
   "execution_count": 12,
   "id": "3a902aea",
   "metadata": {},
   "outputs": [
    {
     "data": {
      "text/plain": [
       "False"
      ]
     },
     "execution_count": 12,
     "metadata": {},
     "output_type": "execute_result"
    }
   ],
   "source": [
    "23 > 25"
   ]
  },
  {
   "cell_type": "code",
   "execution_count": 13,
   "id": "de143f7e",
   "metadata": {},
   "outputs": [
    {
     "data": {
      "text/plain": [
       "True"
      ]
     },
     "execution_count": 13,
     "metadata": {},
     "output_type": "execute_result"
    }
   ],
   "source": [
    "23 < 25"
   ]
  },
  {
   "cell_type": "code",
   "execution_count": 11,
   "id": "0c5a8ada",
   "metadata": {},
   "outputs": [
    {
     "data": {
      "text/plain": [
       "False"
      ]
     },
     "execution_count": 11,
     "metadata": {},
     "output_type": "execute_result"
    }
   ],
   "source": [
    "25 <= 24"
   ]
  },
  {
   "cell_type": "code",
   "execution_count": 15,
   "id": "6903386d",
   "metadata": {},
   "outputs": [
    {
     "data": {
      "text/plain": [
       "True"
      ]
     },
     "execution_count": 15,
     "metadata": {},
     "output_type": "execute_result"
    }
   ],
   "source": [
    "25 >= 25"
   ]
  },
  {
   "cell_type": "code",
   "execution_count": 12,
   "id": "9b5201f9",
   "metadata": {},
   "outputs": [
    {
     "data": {
      "text/plain": [
       "True"
      ]
     },
     "execution_count": 12,
     "metadata": {},
     "output_type": "execute_result"
    }
   ],
   "source": [
    "25 <= 25"
   ]
  },
  {
   "cell_type": "markdown",
   "id": "0535a105",
   "metadata": {},
   "source": [
    "# comparison operators berantai"
   ]
  },
  {
   "cell_type": "markdown",
   "id": "cf8b5450",
   "metadata": {},
   "source": [
    "* (and) dua kondisi harus **True** untuk menghasilkan **True**\n",
    "* (or) salah satu kondisi harus **True** untuk menghasilkan **True**\n",
    "* (not) memberikan boolean yang berlawanan"
   ]
  },
  {
   "cell_type": "code",
   "execution_count": 17,
   "id": "e8167f6a",
   "metadata": {},
   "outputs": [
    {
     "data": {
      "text/plain": [
       "False"
      ]
     },
     "execution_count": 17,
     "metadata": {},
     "output_type": "execute_result"
    }
   ],
   "source": [
    "3>4 and 4>5"
   ]
  },
  {
   "cell_type": "code",
   "execution_count": 18,
   "id": "eb5cdfbc",
   "metadata": {},
   "outputs": [
    {
     "data": {
      "text/plain": [
       "True"
      ]
     },
     "execution_count": 18,
     "metadata": {},
     "output_type": "execute_result"
    }
   ],
   "source": [
    "4>3 and 7>4"
   ]
  },
  {
   "cell_type": "code",
   "execution_count": 19,
   "id": "28ad4663",
   "metadata": {},
   "outputs": [
    {
     "data": {
      "text/plain": [
       "False"
      ]
     },
     "execution_count": 19,
     "metadata": {},
     "output_type": "execute_result"
    }
   ],
   "source": [
    "3>4 or 4>5"
   ]
  },
  {
   "cell_type": "code",
   "execution_count": 20,
   "id": "2835ae44",
   "metadata": {},
   "outputs": [
    {
     "data": {
      "text/plain": [
       "True"
      ]
     },
     "execution_count": 20,
     "metadata": {},
     "output_type": "execute_result"
    }
   ],
   "source": [
    "3>4 or 4<5"
   ]
  },
  {
   "cell_type": "code",
   "execution_count": 22,
   "id": "d0379539",
   "metadata": {},
   "outputs": [
    {
     "data": {
      "text/plain": [
       "False"
      ]
     },
     "execution_count": 22,
     "metadata": {},
     "output_type": "execute_result"
    }
   ],
   "source": [
    "not True"
   ]
  },
  {
   "cell_type": "code",
   "execution_count": 23,
   "id": "18418f77",
   "metadata": {},
   "outputs": [
    {
     "data": {
      "text/plain": [
       "False"
      ]
     },
     "execution_count": 23,
     "metadata": {},
     "output_type": "execute_result"
    }
   ],
   "source": [
    "not (3<4 or 4<5)"
   ]
  },
  {
   "cell_type": "code",
   "execution_count": 25,
   "id": "6be54648",
   "metadata": {},
   "outputs": [
    {
     "data": {
      "text/plain": [
       "True"
      ]
     },
     "execution_count": 25,
     "metadata": {},
     "output_type": "execute_result"
    }
   ],
   "source": [
    "not (3>4 or 4>5)"
   ]
  },
  {
   "cell_type": "code",
   "execution_count": 26,
   "id": "742c6de8",
   "metadata": {},
   "outputs": [
    {
     "data": {
      "text/plain": [
       "True"
      ]
     },
     "execution_count": 26,
     "metadata": {},
     "output_type": "execute_result"
    }
   ],
   "source": [
    "2<3<10"
   ]
  },
  {
   "cell_type": "code",
   "execution_count": 28,
   "id": "684df498",
   "metadata": {},
   "outputs": [
    {
     "data": {
      "text/plain": [
       "True"
      ]
     },
     "execution_count": 28,
     "metadata": {},
     "output_type": "execute_result"
    }
   ],
   "source": [
    "#recomended\n",
    "2<3 and 3<10"
   ]
  },
  {
   "cell_type": "markdown",
   "id": "b27adcd5",
   "metadata": {},
   "source": [
    "# Conditionals (if, elif, else)"
   ]
  },
  {
   "cell_type": "code",
   "execution_count": 3,
   "id": "e79261ba",
   "metadata": {},
   "outputs": [
    {
     "name": "stdout",
     "output_type": "stream",
     "text": [
      "berhasil\n"
     ]
    }
   ],
   "source": [
    "# if (sebuah kondisi = True):\n",
    "#    eksekusi\n",
    "\n",
    "if 3>2:\n",
    "    print ('berhasil')"
   ]
  },
  {
   "cell_type": "code",
   "execution_count": 39,
   "id": "e83df2a6",
   "metadata": {
    "scrolled": false
   },
   "outputs": [
    {
     "name": "stdout",
     "output_type": "stream",
     "text": [
      "berhasil\n"
     ]
    }
   ],
   "source": [
    "if not False:\n",
    "    print ('berhasil')"
   ]
  },
  {
   "cell_type": "code",
   "execution_count": 37,
   "id": "01327ead",
   "metadata": {},
   "outputs": [
    {
     "name": "stdout",
     "output_type": "stream",
     "text": [
      "berhasil\n"
     ]
    }
   ],
   "source": [
    "# if (sebuah kondisi = True):\n",
    "#    eksekusi\n",
    "# else:\n",
    "#    eksekusi\n",
    "\n",
    "if not False: # ini adalah kondisi True\n",
    "    print ('berhasil')\n",
    "else:\n",
    "    print ('perintah ke 2')"
   ]
  },
  {
   "cell_type": "code",
   "execution_count": 38,
   "id": "b2bafbf0",
   "metadata": {},
   "outputs": [
    {
     "name": "stdout",
     "output_type": "stream",
     "text": [
      "perintah ke 2\n"
     ]
    }
   ],
   "source": [
    "if False: # ini adalah kondisi not True\n",
    "    print ('berhasil')\n",
    "else:\n",
    "    print ('perintah ke 2')\n",
    "    \n",
    "# if akan berhasil jika kondisinya adalah True\n",
    "# Jika kondisi If not True maka dia akan mencari baris lain untuk di print misalnya ditambahkan 'else'"
   ]
  },
  {
   "cell_type": "code",
   "execution_count": 40,
   "id": "cbf3e9e3",
   "metadata": {},
   "outputs": [],
   "source": [
    "# if (sebuah kondisi = True):\n",
    "#    eksekusi\n",
    "# elif (sebuah kondisi = True): sebuah penambahan dari if misalnya jika kondisi if not True kita bisa tambah elif\n",
    "#    eksekusi\n",
    "# else:\n",
    "#    eksekusi"
   ]
  },
  {
   "cell_type": "code",
   "execution_count": 9,
   "id": "51ec4004",
   "metadata": {},
   "outputs": [
    {
     "name": "stdout",
     "output_type": "stream",
     "text": [
      "yeay berhasil\n"
     ]
    }
   ],
   "source": [
    "if False:\n",
    "    print ('berhasil')\n",
    "elif not False:\n",
    "    print ('yeay berhasil')\n",
    "else:\n",
    "    print ('perintah ke 2')"
   ]
  },
  {
   "cell_type": "code",
   "execution_count": 41,
   "id": "bcb57204",
   "metadata": {},
   "outputs": [],
   "source": [
    "berat = 80"
   ]
  },
  {
   "cell_type": "code",
   "execution_count": 42,
   "id": "5c19bfa1",
   "metadata": {},
   "outputs": [
    {
     "name": "stdout",
     "output_type": "stream",
     "text": [
      "beratmu pasti diantara 88-90\n"
     ]
    }
   ],
   "source": [
    "if berat>100:\n",
    "    print ('kamu terlalu gemuk, harus diet')\n",
    "elif 0<=berat<=50:\n",
    "    print ('kamu terlalu kurus, harus tambah makam')\n",
    "elif berat >50 and berat <79:\n",
    "    print ('berat badan mu ideal')\n",
    "else:\n",
    "    print ('beratmu pasti diantara 88-90')"
   ]
  },
  {
   "cell_type": "code",
   "execution_count": 45,
   "id": "dbf91b96",
   "metadata": {},
   "outputs": [],
   "source": [
    "berat = 110"
   ]
  },
  {
   "cell_type": "code",
   "execution_count": 46,
   "id": "a7ca6364",
   "metadata": {},
   "outputs": [
    {
     "name": "stdout",
     "output_type": "stream",
     "text": [
      "kamu terlalu gemuk, harus diet\n"
     ]
    }
   ],
   "source": [
    "if berat>100:\n",
    "    print ('kamu terlalu gemuk, harus diet')\n",
    "elif 0<=berat<=50:\n",
    "    print ('kamu terlalu kurus, harus tambah makam')\n",
    "elif berat >50 and berat <79:\n",
    "    print ('berat badan mu ideal')\n",
    "else:\n",
    "    print ('beratmu pasti diantara 88-90')"
   ]
  },
  {
   "cell_type": "code",
   "execution_count": 47,
   "id": "e9288aaf",
   "metadata": {},
   "outputs": [],
   "source": [
    "berat = 40"
   ]
  },
  {
   "cell_type": "code",
   "execution_count": 48,
   "id": "f39e45bb",
   "metadata": {},
   "outputs": [
    {
     "name": "stdout",
     "output_type": "stream",
     "text": [
      "kamu terlalu kurus, harus tambah makam\n"
     ]
    }
   ],
   "source": [
    "if berat>100:\n",
    "    print ('kamu terlalu gemuk, harus diet')\n",
    "elif 0<=berat<=50:\n",
    "    print ('kamu terlalu kurus, harus tambah makam')\n",
    "elif berat >50 and berat <79:\n",
    "    print ('berat badan mu ideal')\n",
    "else:\n",
    "    print ('beratmu pasti diantara 88-90')"
   ]
  },
  {
   "cell_type": "code",
   "execution_count": 49,
   "id": "6841a4bf",
   "metadata": {},
   "outputs": [],
   "source": [
    "berat = 65"
   ]
  },
  {
   "cell_type": "code",
   "execution_count": 50,
   "id": "d8d44063",
   "metadata": {},
   "outputs": [
    {
     "name": "stdout",
     "output_type": "stream",
     "text": [
      "berat badan mu ideal\n"
     ]
    }
   ],
   "source": [
    "if berat>100:\n",
    "    print ('kamu terlalu gemuk, harus diet')\n",
    "elif 0<=berat<=50:\n",
    "    print ('kamu terlalu kurus, harus tambah makam')\n",
    "elif berat >50 and berat <79:\n",
    "    print ('berat badan mu ideal')\n",
    "else:\n",
    "    print ('beratmu pasti diantara 88-90')"
   ]
  },
  {
   "cell_type": "code",
   "execution_count": 2,
   "id": "269c12d6",
   "metadata": {},
   "outputs": [],
   "source": [
    "total_belanja = 100000\n",
    "bayar = total_belanja"
   ]
  },
  {
   "cell_type": "code",
   "execution_count": 4,
   "id": "1c48442f",
   "metadata": {},
   "outputs": [
    {
     "name": "stdout",
     "output_type": "stream",
     "text": [
      "mendapatkan diskon minuman dingin\n"
     ]
    }
   ],
   "source": [
    "if total_belanja > 90000:\n",
    "    print ('mendapatkan diskon minuman dingin')\n",
    "else:\n",
    "    print ('diskon 5%')"
   ]
  },
  {
   "cell_type": "code",
   "execution_count": 5,
   "id": "f4dcaf12",
   "metadata": {},
   "outputs": [],
   "source": [
    "nilai = 80"
   ]
  },
  {
   "cell_type": "code",
   "execution_count": 8,
   "id": "e2d71bf8",
   "metadata": {},
   "outputs": [
    {
     "name": "stdout",
     "output_type": "stream",
     "text": [
      "grade = b\n"
     ]
    }
   ],
   "source": [
    "if nilai >= 90:\n",
    "   print ('grade = A')\n",
    "else:\n",
    "   print ('grade = b')"
   ]
  },
  {
   "cell_type": "code",
   "execution_count": null,
   "id": "962d1abf",
   "metadata": {},
   "outputs": [],
   "source": []
  }
 ],
 "metadata": {
  "kernelspec": {
   "display_name": "Python 3 (ipykernel)",
   "language": "python",
   "name": "python3"
  },
  "language_info": {
   "codemirror_mode": {
    "name": "ipython",
    "version": 3
   },
   "file_extension": ".py",
   "mimetype": "text/x-python",
   "name": "python",
   "nbconvert_exporter": "python",
   "pygments_lexer": "ipython3",
   "version": "3.11.4"
  }
 },
 "nbformat": 4,
 "nbformat_minor": 5
}
