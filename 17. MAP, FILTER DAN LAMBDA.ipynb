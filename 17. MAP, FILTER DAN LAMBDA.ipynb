{
 "cells": [
  {
   "cell_type": "code",
   "execution_count": 1,
   "id": "931934af",
   "metadata": {},
   "outputs": [],
   "source": [
    "def kali0(num):\n",
    "    return num*10"
   ]
  },
  {
   "cell_type": "code",
   "execution_count": 2,
   "id": "c8d4b8d4",
   "metadata": {},
   "outputs": [
    {
     "data": {
      "text/plain": [
       "730"
      ]
     },
     "execution_count": 2,
     "metadata": {},
     "output_type": "execute_result"
    }
   ],
   "source": [
    "kali0(73)"
   ]
  },
  {
   "cell_type": "code",
   "execution_count": 3,
   "id": "54732c3d",
   "metadata": {},
   "outputs": [],
   "source": [
    "# map pada list\n",
    "\n",
    "angka = [3,6,9]"
   ]
  },
  {
   "cell_type": "code",
   "execution_count": 4,
   "id": "e82a1472",
   "metadata": {},
   "outputs": [
    {
     "name": "stdout",
     "output_type": "stream",
     "text": [
      "30\n",
      "60\n",
      "90\n"
     ]
    }
   ],
   "source": [
    "for item in map (kali0, angka):\n",
    "    print (item)"
   ]
  },
  {
   "cell_type": "code",
   "execution_count": 5,
   "id": "7ef846a8",
   "metadata": {},
   "outputs": [],
   "source": [
    "# map pada tuple\n",
    "\n",
    "angka2 = [31,62,95]"
   ]
  },
  {
   "cell_type": "code",
   "execution_count": 6,
   "id": "94e96b35",
   "metadata": {},
   "outputs": [
    {
     "data": {
      "text/plain": [
       "(310, 620, 950)"
      ]
     },
     "execution_count": 6,
     "metadata": {},
     "output_type": "execute_result"
    }
   ],
   "source": [
    "hasil2 = tuple(map(kali0, angka2))\n",
    "hasil2"
   ]
  },
  {
   "cell_type": "code",
   "execution_count": 11,
   "id": "367eff34",
   "metadata": {},
   "outputs": [],
   "source": [
    "def jumlahkata (kata):\n",
    "    if len(kata)%2 == 0:\n",
    "        return 'INI GENAP LHO'\n",
    "    else:\n",
    "        return 'INI GANJIL LHO'"
   ]
  },
  {
   "cell_type": "code",
   "execution_count": 9,
   "id": "bb1a53ff",
   "metadata": {},
   "outputs": [
    {
     "data": {
      "text/plain": [
       "'INI GENAP LHO'"
      ]
     },
     "execution_count": 9,
     "metadata": {},
     "output_type": "execute_result"
    }
   ],
   "source": [
    "jumlahkata ('hfasaksh') # ini ada 8 kata"
   ]
  },
  {
   "cell_type": "code",
   "execution_count": 10,
   "id": "8587275b",
   "metadata": {},
   "outputs": [
    {
     "data": {
      "text/plain": [
       "'INI GANJIL LHO'"
      ]
     },
     "execution_count": 10,
     "metadata": {},
     "output_type": "execute_result"
    }
   ],
   "source": [
    "jumlahkata  ('afjdkfahk') #ini ada 9 kata"
   ]
  },
  {
   "cell_type": "code",
   "execution_count": 12,
   "id": "4359ab73",
   "metadata": {},
   "outputs": [],
   "source": [
    "listkata = ['adhajdhaj', 'sjakhdfjkadh', 'saya']"
   ]
  },
  {
   "cell_type": "code",
   "execution_count": 13,
   "id": "a4d310d9",
   "metadata": {},
   "outputs": [
    {
     "data": {
      "text/plain": [
       "['INI GANJIL LHO', 'INI GENAP LHO', 'INI GENAP LHO']"
      ]
     },
     "execution_count": 13,
     "metadata": {},
     "output_type": "execute_result"
    }
   ],
   "source": [
    "list(map(jumlahkata, listkata))"
   ]
  },
  {
   "cell_type": "code",
   "execution_count": 15,
   "id": "2901cd5f",
   "metadata": {},
   "outputs": [],
   "source": [
    "def cekgenap (num):\n",
    "    return num%2 == 0"
   ]
  },
  {
   "cell_type": "code",
   "execution_count": 16,
   "id": "618ef591",
   "metadata": {},
   "outputs": [
    {
     "data": {
      "text/plain": [
       "True"
      ]
     },
     "execution_count": 16,
     "metadata": {},
     "output_type": "execute_result"
    }
   ],
   "source": [
    "cekgenap (10)"
   ]
  },
  {
   "cell_type": "code",
   "execution_count": 17,
   "id": "059b9520",
   "metadata": {},
   "outputs": [
    {
     "data": {
      "text/plain": [
       "False"
      ]
     },
     "execution_count": 17,
     "metadata": {},
     "output_type": "execute_result"
    }
   ],
   "source": [
    "cekgenap(9)"
   ]
  },
  {
   "cell_type": "code",
   "execution_count": 19,
   "id": "b648c594",
   "metadata": {},
   "outputs": [],
   "source": [
    "# cara menggunakan filter\n",
    "\n",
    "nomor = [1,2,3,4,5,6,7,8,9]"
   ]
  },
  {
   "cell_type": "code",
   "execution_count": 20,
   "id": "22335f80",
   "metadata": {},
   "outputs": [
    {
     "data": {
      "text/plain": [
       "[2, 4, 6, 8]"
      ]
     },
     "execution_count": 20,
     "metadata": {},
     "output_type": "execute_result"
    }
   ],
   "source": [
    "list(filter(cekgenap, nomor))"
   ]
  },
  {
   "cell_type": "code",
   "execution_count": 22,
   "id": "7dab7fc8",
   "metadata": {},
   "outputs": [
    {
     "name": "stdout",
     "output_type": "stream",
     "text": [
      "2\n",
      "4\n",
      "6\n",
      "8\n"
     ]
    }
   ],
   "source": [
    "for item in filter (cekgenap, nomor):\n",
    "    print (item)"
   ]
  },
  {
   "cell_type": "markdown",
   "id": "e60a9f96",
   "metadata": {},
   "source": [
    "**LAMBDA EXPRESSION**"
   ]
  },
  {
   "cell_type": "code",
   "execution_count": 23,
   "id": "8e5d061a",
   "metadata": {},
   "outputs": [],
   "source": [
    "fungsiku = lambda x: x*10"
   ]
  },
  {
   "cell_type": "code",
   "execution_count": 24,
   "id": "ef6efc26",
   "metadata": {},
   "outputs": [
    {
     "data": {
      "text/plain": [
       "600"
      ]
     },
     "execution_count": 24,
     "metadata": {},
     "output_type": "execute_result"
    }
   ],
   "source": [
    "fungsiku (60)"
   ]
  },
  {
   "cell_type": "code",
   "execution_count": 25,
   "id": "0b4ef499",
   "metadata": {},
   "outputs": [
    {
     "data": {
      "text/plain": [
       "3200"
      ]
     },
     "execution_count": 25,
     "metadata": {},
     "output_type": "execute_result"
    }
   ],
   "source": [
    "fungsiku (320)"
   ]
  },
  {
   "cell_type": "code",
   "execution_count": 26,
   "id": "4cb8d5f1",
   "metadata": {},
   "outputs": [
    {
     "data": {
      "text/plain": [
       "[30, 60, 90]"
      ]
     },
     "execution_count": 26,
     "metadata": {},
     "output_type": "execute_result"
    }
   ],
   "source": [
    "hasila = list(map(lambda x: x*10, angka))\n",
    "hasila"
   ]
  },
  {
   "cell_type": "code",
   "execution_count": 27,
   "id": "8fd55322",
   "metadata": {},
   "outputs": [
    {
     "data": {
      "text/plain": [
       "[310, 620, 950]"
      ]
     },
     "execution_count": 27,
     "metadata": {},
     "output_type": "execute_result"
    }
   ],
   "source": [
    "hasilb = list(map(lambda x: x*10, angka2))\n",
    "hasilb"
   ]
  },
  {
   "cell_type": "code",
   "execution_count": 28,
   "id": "87d97e7c",
   "metadata": {},
   "outputs": [
    {
     "data": {
      "text/plain": [
       "[2, 4, 6, 8]"
      ]
     },
     "execution_count": 28,
     "metadata": {},
     "output_type": "execute_result"
    }
   ],
   "source": [
    "genapku = list(filter(lambda num: num%2 == 0, nomor))\n",
    "genapku"
   ]
  },
  {
   "cell_type": "code",
   "execution_count": null,
   "id": "d63efa39",
   "metadata": {},
   "outputs": [],
   "source": []
  }
 ],
 "metadata": {
  "kernelspec": {
   "display_name": "Python 3 (ipykernel)",
   "language": "python",
   "name": "python3"
  },
  "language_info": {
   "codemirror_mode": {
    "name": "ipython",
    "version": 3
   },
   "file_extension": ".py",
   "mimetype": "text/x-python",
   "name": "python",
   "nbconvert_exporter": "python",
   "pygments_lexer": "ipython3",
   "version": "3.11.4"
  }
 },
 "nbformat": 4,
 "nbformat_minor": 5
}
