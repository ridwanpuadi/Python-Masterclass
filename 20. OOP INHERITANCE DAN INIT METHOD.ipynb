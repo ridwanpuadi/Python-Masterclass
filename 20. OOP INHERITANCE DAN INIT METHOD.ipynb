{
 "cells": [
  {
   "cell_type": "code",
   "execution_count": 25,
   "id": "27a6dbfc",
   "metadata": {},
   "outputs": [],
   "source": [
    "class Kulkas:\n",
    "    \n",
    "    # class object attribute (attribute ini bersifat global untuk class kulkas)\n",
    "    penjual = 'pak mamat'\n",
    "    \n",
    "    def __init__ (self, merek, harga):\n",
    "        self.merek = merek\n",
    "        self.harga = harga\n",
    "        self.garansi = 3\n",
    "        self.tenaga = 'listrik'\n",
    "        \n",
    "    def konsumsi(self):\n",
    "        print('500 watt')"
   ]
  },
  {
   "cell_type": "code",
   "execution_count": 26,
   "id": "15252d9e",
   "metadata": {},
   "outputs": [],
   "source": [
    "barang = Kulkas('LG', 200)"
   ]
  },
  {
   "cell_type": "code",
   "execution_count": 27,
   "id": "6287353d",
   "metadata": {},
   "outputs": [
    {
     "data": {
      "text/plain": [
       "'pak mamat'"
      ]
     },
     "execution_count": 27,
     "metadata": {},
     "output_type": "execute_result"
    }
   ],
   "source": [
    "barang.penjual"
   ]
  },
  {
   "cell_type": "code",
   "execution_count": 28,
   "id": "b27bf911",
   "metadata": {},
   "outputs": [
    {
     "data": {
      "text/plain": [
       "<bound method Kulkas.konsumsi of <__main__.Kulkas object at 0x000001ADF4D5F0D0>>"
      ]
     },
     "execution_count": 28,
     "metadata": {},
     "output_type": "execute_result"
    }
   ],
   "source": [
    "barang.konsumsi"
   ]
  },
  {
   "cell_type": "code",
   "execution_count": 29,
   "id": "e5160a71",
   "metadata": {},
   "outputs": [
    {
     "name": "stdout",
     "output_type": "stream",
     "text": [
      "500 watt\n"
     ]
    }
   ],
   "source": [
    "barang.konsumsi()"
   ]
  },
  {
   "cell_type": "code",
   "execution_count": 36,
   "id": "bb40de91",
   "metadata": {},
   "outputs": [],
   "source": [
    "class Kulkas:\n",
    "    \n",
    "    # class object attribute (attribute ini bersifat global untuk class kulkas)\n",
    "    penjual = 'pak mamat'\n",
    "    \n",
    "    def __init__ (self, merek, harga):\n",
    "        self.merek = merek\n",
    "        self.harga = harga\n",
    "        self.garansi = 3\n",
    "        self.tenaga = 'listrik'\n",
    "        \n",
    "    def keterangan (self, anak=6):\n",
    "        print('kulkas merek {} harganya sebesar {}, dan nama penjualnya adalah {} yang punya anak {}'.format(self.merek, self.harga, self.penjual, anak ))\n",
    "        \n",
    "        # format anak tidak memakai self karena masih dalam satu method yang sama"
   ]
  },
  {
   "cell_type": "code",
   "execution_count": 37,
   "id": "de27cfec",
   "metadata": {},
   "outputs": [],
   "source": [
    "barang1 = Kulkas('LG', 200)"
   ]
  },
  {
   "cell_type": "code",
   "execution_count": 38,
   "id": "5f8ae43d",
   "metadata": {},
   "outputs": [
    {
     "name": "stdout",
     "output_type": "stream",
     "text": [
      "kulkas merek LG harganya sebesar 200, dan nama penjualnya adalah pak mamat yang punya anak 3\n"
     ]
    }
   ],
   "source": [
    "barang1.keterangan(3)"
   ]
  },
  {
   "cell_type": "code",
   "execution_count": 39,
   "id": "692685b6",
   "metadata": {},
   "outputs": [
    {
     "name": "stdout",
     "output_type": "stream",
     "text": [
      "kulkas merek LG harganya sebesar 200, dan nama penjualnya adalah pak mamat yang punya anak 6\n"
     ]
    }
   ],
   "source": [
    "barang1.keterangan() #jika lupa memasukan nilai maka anak akan deffault = 6"
   ]
  },
  {
   "cell_type": "markdown",
   "id": "a053ee9f",
   "metadata": {},
   "source": [
    "**Lebih Advance**"
   ]
  },
  {
   "cell_type": "code",
   "execution_count": 41,
   "id": "6f048abb",
   "metadata": {},
   "outputs": [],
   "source": [
    "class Lingkaran:\n",
    "    \n",
    "    # misal koefisien phi\n",
    "    phi = 3.14\n",
    "    \n",
    "    def __init__(self, radius):\n",
    "        self.radius = radius\n",
    "        \n",
    "    def keliling(self):\n",
    "        return 2*self.phi*self.radius"
   ]
  },
  {
   "cell_type": "code",
   "execution_count": 42,
   "id": "27256bc7",
   "metadata": {},
   "outputs": [],
   "source": [
    "ling1 = Lingkaran(10)"
   ]
  },
  {
   "cell_type": "code",
   "execution_count": 43,
   "id": "81113c38",
   "metadata": {},
   "outputs": [
    {
     "data": {
      "text/plain": [
       "<bound method Lingkaran.keliling of <__main__.Lingkaran object at 0x000001ADF4BB0B90>>"
      ]
     },
     "execution_count": 43,
     "metadata": {},
     "output_type": "execute_result"
    }
   ],
   "source": [
    "ling1.keliling"
   ]
  },
  {
   "cell_type": "code",
   "execution_count": 44,
   "id": "e2a7cd71",
   "metadata": {},
   "outputs": [
    {
     "data": {
      "text/plain": [
       "62.800000000000004"
      ]
     },
     "execution_count": 44,
     "metadata": {},
     "output_type": "execute_result"
    }
   ],
   "source": [
    "ling1.keliling()"
   ]
  },
  {
   "cell_type": "code",
   "execution_count": 48,
   "id": "b3fc1548",
   "metadata": {},
   "outputs": [],
   "source": [
    "# bagaimana cara menghitung luas maka \n",
    "\n",
    "class Lingkaran:\n",
    "    \n",
    "    # misal koefisien phi\n",
    "    phi = 3.14\n",
    "    \n",
    "    def __init__(self, radius):\n",
    "        self.radius = radius\n",
    "        \n",
    "    def keliling(self):\n",
    "        return 2*self.phi*self.radius\n",
    "    \n",
    "    def luas(self):\n",
    "        return 2*self.phi*self.radius*self.radius"
   ]
  },
  {
   "cell_type": "code",
   "execution_count": 53,
   "id": "605ac87e",
   "metadata": {},
   "outputs": [],
   "source": [
    "ling2 = Lingkaran (10)"
   ]
  },
  {
   "cell_type": "code",
   "execution_count": 54,
   "id": "6d78c66c",
   "metadata": {},
   "outputs": [
    {
     "data": {
      "text/plain": [
       "62.800000000000004"
      ]
     },
     "execution_count": 54,
     "metadata": {},
     "output_type": "execute_result"
    }
   ],
   "source": [
    "ling2.keliling()"
   ]
  },
  {
   "cell_type": "code",
   "execution_count": 55,
   "id": "f039c72d",
   "metadata": {},
   "outputs": [
    {
     "data": {
      "text/plain": [
       "628.0"
      ]
     },
     "execution_count": 55,
     "metadata": {},
     "output_type": "execute_result"
    }
   ],
   "source": [
    "ling2.luas()"
   ]
  },
  {
   "cell_type": "code",
   "execution_count": 56,
   "id": "f5ff91dd",
   "metadata": {},
   "outputs": [],
   "source": [
    "# contoh def diatas adalah berdiri sendiri\n",
    "# namun bagaimana jika 'luas' ingin berada di dalam method _init_\n",
    "\n",
    "class Lingkaran:\n",
    "    \n",
    "    # misal koefisien phi\n",
    "    phi = 3.14\n",
    "    \n",
    "    def __init__(self, radius):\n",
    "        self.radius = radius\n",
    "        self.luas = 2*self.phi*radius*radius # radius tidak memakai self karena berada di dalam method yang sama\n",
    "        \n",
    "    def keliling(self):\n",
    "        return 2*self.phi*self.radius"
   ]
  },
  {
   "cell_type": "code",
   "execution_count": 58,
   "id": "a8f67a46",
   "metadata": {},
   "outputs": [],
   "source": [
    "ling3 = Lingkaran (10)"
   ]
  },
  {
   "cell_type": "code",
   "execution_count": 59,
   "id": "5f8393be",
   "metadata": {},
   "outputs": [
    {
     "data": {
      "text/plain": [
       "628.0"
      ]
     },
     "execution_count": 59,
     "metadata": {},
     "output_type": "execute_result"
    }
   ],
   "source": [
    "ling3.luas #tidak perlu tanda kurung karena luas berada dalam method _init_"
   ]
  },
  {
   "cell_type": "markdown",
   "id": "fa045cca",
   "metadata": {},
   "source": [
    "**Inheritance**"
   ]
  },
  {
   "cell_type": "code",
   "execution_count": 60,
   "id": "dead45e5",
   "metadata": {},
   "outputs": [],
   "source": [
    "class mahasiswa:\n",
    "    \n",
    "    status = 'mahasiswa'\n",
    "    \n",
    "    def __init__(self, nama, kelas):\n",
    "        self.nama = nama\n",
    "        self.kelas = kelas\n",
    "        \n",
    "    def keterangan(self):\n",
    "        print ('{} di kelas {} adalah seorang {}'.format(self.nama,self.kelas,self.status))"
   ]
  },
  {
   "cell_type": "code",
   "execution_count": 62,
   "id": "8aa8d6d5",
   "metadata": {},
   "outputs": [],
   "source": [
    "joko = mahasiswa ('joko', 12)"
   ]
  },
  {
   "cell_type": "code",
   "execution_count": 63,
   "id": "4d78ce7c",
   "metadata": {},
   "outputs": [
    {
     "name": "stdout",
     "output_type": "stream",
     "text": [
      "joko di kelas 12 adalah seorang mahasiswa\n"
     ]
    }
   ],
   "source": [
    "joko.keterangan()"
   ]
  },
  {
   "cell_type": "code",
   "execution_count": 66,
   "id": "9c5168e3",
   "metadata": {},
   "outputs": [],
   "source": [
    "# mulai memasukan kelas turunan atau warisannya\n",
    "\n",
    "class nilai(mahasiswa):\n",
    "    \n",
    "    def __init__(self, nama, kelas):    \n",
    "        super().__init__(nama, kelas) #ini sama saja seperti : mahasiswa.__init__(nama, kelas)\n",
    "        self.nilai_update = []\n",
    "    \n",
    "    def input_nilai(self, tambah):\n",
    "        return self.nilai_update.append(tambah)"
   ]
  },
  {
   "cell_type": "code",
   "execution_count": 67,
   "id": "41ecbf44",
   "metadata": {},
   "outputs": [],
   "source": [
    "budi = nilai('budi', 13)"
   ]
  },
  {
   "cell_type": "code",
   "execution_count": 68,
   "id": "5392eb94",
   "metadata": {},
   "outputs": [
    {
     "name": "stdout",
     "output_type": "stream",
     "text": [
      "budi di kelas 13 adalah seorang mahasiswa\n"
     ]
    }
   ],
   "source": [
    "budi.keterangan()"
   ]
  },
  {
   "cell_type": "code",
   "execution_count": 69,
   "id": "0718677d",
   "metadata": {},
   "outputs": [],
   "source": [
    "budi.input_nilai(88)"
   ]
  },
  {
   "cell_type": "code",
   "execution_count": 70,
   "id": "dacf06e5",
   "metadata": {},
   "outputs": [
    {
     "data": {
      "text/plain": [
       "[88]"
      ]
     },
     "execution_count": 70,
     "metadata": {},
     "output_type": "execute_result"
    }
   ],
   "source": [
    "budi.nilai_update"
   ]
  },
  {
   "cell_type": "code",
   "execution_count": 71,
   "id": "f1666121",
   "metadata": {},
   "outputs": [
    {
     "data": {
      "text/plain": [
       "<bound method nilai.input_nilai of <__main__.nilai object at 0x000001ADF504DAD0>>"
      ]
     },
     "execution_count": 71,
     "metadata": {},
     "output_type": "execute_result"
    }
   ],
   "source": [
    "budi.input_nilai"
   ]
  }
 ],
 "metadata": {
  "kernelspec": {
   "display_name": "Python 3 (ipykernel)",
   "language": "python",
   "name": "python3"
  },
  "language_info": {
   "codemirror_mode": {
    "name": "ipython",
    "version": 3
   },
   "file_extension": ".py",
   "mimetype": "text/x-python",
   "name": "python",
   "nbconvert_exporter": "python",
   "pygments_lexer": "ipython3",
   "version": "3.11.4"
  }
 },
 "nbformat": 4,
 "nbformat_minor": 5
}
