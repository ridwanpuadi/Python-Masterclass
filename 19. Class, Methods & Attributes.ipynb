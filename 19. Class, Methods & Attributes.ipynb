{
 "cells": [
  {
   "cell_type": "markdown",
   "id": "91ce0577",
   "metadata": {},
   "source": [
    "**Mendefinisikan Class**"
   ]
  },
  {
   "cell_type": "code",
   "execution_count": 1,
   "id": "90edfea1",
   "metadata": {},
   "outputs": [],
   "source": [
    "# class NamaClass:\n",
    "\n",
    "#     def_init_(self,nama_attribute1, nama_attribute2):\n",
    "#         self.nama_attribute1 = nama_attribute1\n",
    "#         self.nama_attribute2 = nama_attribute2\n",
    "\n",
    "#     def nama_method(self):\n",
    "#           return #tulis fungsinya"
   ]
  },
  {
   "cell_type": "markdown",
   "id": "750cf7eb",
   "metadata": {},
   "source": [
    "Perbedaan python 3 dan 2"
   ]
  },
  {
   "cell_type": "code",
   "execution_count": 2,
   "id": "cb527380",
   "metadata": {},
   "outputs": [],
   "source": [
    "# python 3.x\n",
    "\n",
    "class Nama:\n",
    "    pass"
   ]
  },
  {
   "cell_type": "code",
   "execution_count": 3,
   "id": "b17cbd17",
   "metadata": {},
   "outputs": [],
   "source": [
    "# python 2.x\n",
    "class Nama2():\n",
    "    pass"
   ]
  },
  {
   "cell_type": "code",
   "execution_count": 5,
   "id": "6700f763",
   "metadata": {},
   "outputs": [],
   "source": [
    "var1 = Nama()"
   ]
  },
  {
   "cell_type": "code",
   "execution_count": 6,
   "id": "0ca4ed85",
   "metadata": {},
   "outputs": [
    {
     "data": {
      "text/plain": [
       "__main__.Nama"
      ]
     },
     "execution_count": 6,
     "metadata": {},
     "output_type": "execute_result"
    }
   ],
   "source": [
    "type(var1)"
   ]
  },
  {
   "cell_type": "code",
   "execution_count": 53,
   "id": "406a4dae",
   "metadata": {},
   "outputs": [],
   "source": [
    "class Kulkas:\n",
    "    \n",
    "    def __init__(self, merek, harga): # _init_ adalah method yg di dalam kurung (self, merek, harga) adalah attribute\n",
    "        self.merek = merek\n",
    "        self.harga = harga\n",
    "        \n",
    "# self digunakan untuk mereprensikan/merujuk ke objek dimana 'Kulkas' di definisikan\n",
    "# kegunaan method _init_ adalah ketika mendefinisikan kulkas, maka wajib mendefinisikan attribute 'merek' dan 'harga'"
   ]
  },
  {
   "cell_type": "code",
   "execution_count": 54,
   "id": "a6a43f67",
   "metadata": {},
   "outputs": [],
   "source": [
    "barang2 = Kulkas ('Toshiba', 200)"
   ]
  },
  {
   "cell_type": "code",
   "execution_count": 56,
   "id": "f35419e4",
   "metadata": {},
   "outputs": [
    {
     "data": {
      "text/plain": [
       "200"
      ]
     },
     "execution_count": 56,
     "metadata": {},
     "output_type": "execute_result"
    }
   ],
   "source": [
    "barang2.harga"
   ]
  },
  {
   "cell_type": "code",
   "execution_count": 57,
   "id": "d3b5f2c1",
   "metadata": {},
   "outputs": [
    {
     "data": {
      "text/plain": [
       "'Toshiba'"
      ]
     },
     "execution_count": 57,
     "metadata": {},
     "output_type": "execute_result"
    }
   ],
   "source": [
    "barang2.merek"
   ]
  },
  {
   "cell_type": "code",
   "execution_count": 59,
   "id": "c731c3d0",
   "metadata": {},
   "outputs": [],
   "source": [
    "# bisa juga menggunakan \n",
    "\n",
    "class Mobil:\n",
    "    \n",
    "    def __init__ (self, merek1, harga1):\n",
    "        self.brand = merek1\n",
    "        self.price = harga1"
   ]
  },
  {
   "cell_type": "code",
   "execution_count": 60,
   "id": "165ea2ec",
   "metadata": {},
   "outputs": [],
   "source": [
    "barang3 = Mobil(merek1 = 'Avanza', harga1 = 1200)"
   ]
  },
  {
   "cell_type": "code",
   "execution_count": 61,
   "id": "3cdf2766",
   "metadata": {},
   "outputs": [
    {
     "data": {
      "text/plain": [
       "'Avanza'"
      ]
     },
     "execution_count": 61,
     "metadata": {},
     "output_type": "execute_result"
    }
   ],
   "source": [
    "barang3.brand"
   ]
  },
  {
   "cell_type": "code",
   "execution_count": 62,
   "id": "691a9d42",
   "metadata": {},
   "outputs": [
    {
     "data": {
      "text/plain": [
       "1200"
      ]
     },
     "execution_count": 62,
     "metadata": {},
     "output_type": "execute_result"
    }
   ],
   "source": [
    "barang3.price"
   ]
  },
  {
   "cell_type": "code",
   "execution_count": 65,
   "id": "265d7730",
   "metadata": {},
   "outputs": [],
   "source": [
    "class Mobil:\n",
    "    \n",
    "    def __init__ (self, merek, harga):\n",
    "        self.merek = merek\n",
    "        self.harga = harga\n",
    "        self.garansi = 4\n",
    "        self.tenaga = 'listrik'"
   ]
  },
  {
   "cell_type": "code",
   "execution_count": 66,
   "id": "2f206d80",
   "metadata": {},
   "outputs": [],
   "source": [
    "barang4 = Mobil ('Toyota', 1500)"
   ]
  },
  {
   "cell_type": "code",
   "execution_count": 67,
   "id": "55861d72",
   "metadata": {},
   "outputs": [
    {
     "data": {
      "text/plain": [
       "4"
      ]
     },
     "execution_count": 67,
     "metadata": {},
     "output_type": "execute_result"
    }
   ],
   "source": [
    "barang4.garansi"
   ]
  },
  {
   "cell_type": "code",
   "execution_count": 68,
   "id": "417eee78",
   "metadata": {},
   "outputs": [
    {
     "data": {
      "text/plain": [
       "'listrik'"
      ]
     },
     "execution_count": 68,
     "metadata": {},
     "output_type": "execute_result"
    }
   ],
   "source": [
    "barang4.tenaga"
   ]
  },
  {
   "cell_type": "code",
   "execution_count": 69,
   "id": "2be89615",
   "metadata": {},
   "outputs": [],
   "source": [
    "class Mobil:\n",
    "    \n",
    "    #class object attribute (attribute ini bersifat global untuk class kulkas)\n",
    "    penjual = 'Pak Mamat'\n",
    "    \n",
    "    def __init__ (self, merek, harga):\n",
    "        self.merek = merek\n",
    "        self.harga = harga\n",
    "        self.garansi = 4\n",
    "        self.tenaga = 'listrik'"
   ]
  },
  {
   "cell_type": "code",
   "execution_count": 70,
   "id": "f7943ed3",
   "metadata": {},
   "outputs": [],
   "source": [
    "barang5 = Mobil ('Toyota', 1500)"
   ]
  },
  {
   "cell_type": "code",
   "execution_count": 71,
   "id": "a53c7787",
   "metadata": {},
   "outputs": [
    {
     "data": {
      "text/plain": [
       "'Pak Mamat'"
      ]
     },
     "execution_count": 71,
     "metadata": {},
     "output_type": "execute_result"
    }
   ],
   "source": [
    "barang5.penjual"
   ]
  },
  {
   "cell_type": "code",
   "execution_count": null,
   "id": "f32bba8b",
   "metadata": {},
   "outputs": [],
   "source": []
  }
 ],
 "metadata": {
  "kernelspec": {
   "display_name": "Python 3 (ipykernel)",
   "language": "python",
   "name": "python3"
  },
  "language_info": {
   "codemirror_mode": {
    "name": "ipython",
    "version": 3
   },
   "file_extension": ".py",
   "mimetype": "text/x-python",
   "name": "python",
   "nbconvert_exporter": "python",
   "pygments_lexer": "ipython3",
   "version": "3.11.4"
  }
 },
 "nbformat": 4,
 "nbformat_minor": 5
}
