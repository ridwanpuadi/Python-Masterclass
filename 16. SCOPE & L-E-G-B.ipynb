{
 "cells": [
  {
   "cell_type": "code",
   "execution_count": 1,
   "id": "131ba606",
   "metadata": {},
   "outputs": [],
   "source": [
    "# contoh\n",
    "\n",
    "a = 1000\n",
    "\n",
    "def jumlah():\n",
    "    a = 79\n",
    "    return a"
   ]
  },
  {
   "cell_type": "code",
   "execution_count": 2,
   "id": "fcc0c579",
   "metadata": {},
   "outputs": [
    {
     "name": "stdout",
     "output_type": "stream",
     "text": [
      "1000\n"
     ]
    }
   ],
   "source": [
    "print (a)"
   ]
  },
  {
   "cell_type": "markdown",
   "id": "d13a1a3b",
   "metadata": {},
   "source": [
    "**Ruang Lingkup Algoritma Python**\n",
    "\n",
    "**Urutan Eksekusi Python adalah sebagai berikut**\n",
    "* L (local) = Variabel ini bersifat local, yang biasanya berada dalam fungsi (def/lambda) tertentu\n",
    "* E (Enclosing Function Local) = variabel ini berada dalam fungsi (def/lambda) mulai dari lingkup terdalam hingga terluar\n",
    "* G (Global) = Variabel ini di definisikan diluar, biasanya di tahap awal\n",
    "* B (Built-in) = Variabel bawaan python, seperti list, str, tup dll"
   ]
  },
  {
   "cell_type": "code",
   "execution_count": 3,
   "id": "709363f0",
   "metadata": {},
   "outputs": [
    {
     "name": "stdout",
     "output_type": "stream",
     "text": [
      "79\n"
     ]
    }
   ],
   "source": [
    "# cara nilai a adalah 79\n",
    "\n",
    "print (jumlah())"
   ]
  },
  {
   "cell_type": "code",
   "execution_count": 2,
   "id": "1c63173e",
   "metadata": {},
   "outputs": [],
   "source": [
    "kalimat = 'saya adalah GLOBAL' #ini adalah G (Global)\n",
    "\n",
    "def cetak():\n",
    "    kalimat = 'saya adalah LOCAL'#ini adalah L (Local)\n",
    "    \n",
    "    def eksekusi():\n",
    "        print ('Halo hasilnya adalah '+kalimat) #ini adalah E (Enclosing Function Local)\n",
    "        \n",
    "    eksekusi()"
   ]
  },
  {
   "cell_type": "code",
   "execution_count": 3,
   "id": "726f66e8",
   "metadata": {},
   "outputs": [
    {
     "name": "stdout",
     "output_type": "stream",
     "text": [
      "Halo hasilnya adalah saya adalah LOCAL\n"
     ]
    }
   ],
   "source": [
    "cetak()"
   ]
  },
  {
   "cell_type": "code",
   "execution_count": 6,
   "id": "e90a9a85",
   "metadata": {},
   "outputs": [],
   "source": [
    "kalimat = 'saya adalah GLOBAL' #ini adalah G (Global)\n",
    "\n",
    "def cetak():\n",
    "    #kalimat = 'saya adalah LOCAL'#ini adalah L (Local)\n",
    "    \n",
    "    def eksekusi():\n",
    "        print ('Halo hasilnya adalah '+kalimat) #ini adalah E (Enclosing Function Local)\n",
    "        \n",
    "    eksekusi()"
   ]
  },
  {
   "cell_type": "code",
   "execution_count": 7,
   "id": "55601c81",
   "metadata": {},
   "outputs": [
    {
     "name": "stdout",
     "output_type": "stream",
     "text": [
      "Halo hasilnya adalah saya adalah GLOBAL\n"
     ]
    }
   ],
   "source": [
    "cetak ()"
   ]
  },
  {
   "cell_type": "code",
   "execution_count": 9,
   "id": "bc9971f7",
   "metadata": {},
   "outputs": [],
   "source": [
    "# materi yang lebih advance\n",
    "\n",
    "angka = 99\n",
    "\n",
    "def tulis (angka):\n",
    "    print (f'Angka = {angka}')\n",
    "    # print ('Angka = {}'.format{angka})"
   ]
  },
  {
   "cell_type": "code",
   "execution_count": 10,
   "id": "b0c1a9a1",
   "metadata": {},
   "outputs": [
    {
     "name": "stdout",
     "output_type": "stream",
     "text": [
      "Angka = 99\n"
     ]
    }
   ],
   "source": [
    "tulis (angka)"
   ]
  },
  {
   "cell_type": "code",
   "execution_count": null,
   "id": "9e529003",
   "metadata": {},
   "outputs": [],
   "source": [
    "angka = 99\n",
    "\n",
    "def tulis (angka):\n",
    "    print (f'Angka = {angka}')\n",
    "    # print ('Angka = {}'.format{angka})\n",
    "    \n",
    "    # mendefinisikan ulang variabel global di fungsi\n",
    "    angka = 300\n",
    "    print (f'Angkanya sekarang saya rubah menjadi {angka}')"
   ]
  },
  {
   "cell_type": "code",
   "execution_count": 10,
   "id": "beda8026",
   "metadata": {},
   "outputs": [
    {
     "name": "stdout",
     "output_type": "stream",
     "text": [
      "Angka = 99\n",
      "Angkanya sekarang saya rubah menjadi 300\n"
     ]
    }
   ],
   "source": [
    "tulis (angka)"
   ]
  },
  {
   "cell_type": "code",
   "execution_count": 11,
   "id": "1305659a",
   "metadata": {},
   "outputs": [
    {
     "name": "stdout",
     "output_type": "stream",
     "text": [
      "99\n"
     ]
    }
   ],
   "source": [
    "print (angka) #karena secara global angka merujuk pada yang terluar"
   ]
  },
  {
   "cell_type": "code",
   "execution_count": 11,
   "id": "7bff706d",
   "metadata": {},
   "outputs": [],
   "source": [
    "angka = 99\n",
    "\n",
    "def tulis ():\n",
    "    global angka\n",
    "    \n",
    "    # mendefinisikan ulang variabel global di fungsi\n",
    "    angka = 'diganti angkanya'\n",
    "    print (f'Angkanya sekarang saya rubah menjadi {angka}')"
   ]
  },
  {
   "cell_type": "code",
   "execution_count": 12,
   "id": "17215fbc",
   "metadata": {},
   "outputs": [
    {
     "name": "stdout",
     "output_type": "stream",
     "text": [
      "Angkanya sekarang saya rubah menjadi diganti angkanya\n"
     ]
    }
   ],
   "source": [
    "tulis()"
   ]
  },
  {
   "cell_type": "code",
   "execution_count": 13,
   "id": "e7bca047",
   "metadata": {},
   "outputs": [
    {
     "name": "stdout",
     "output_type": "stream",
     "text": [
      "diganti angkanya\n"
     ]
    }
   ],
   "source": [
    "print(angka)"
   ]
  },
  {
   "cell_type": "code",
   "execution_count": 17,
   "id": "03f5e9ce",
   "metadata": {},
   "outputs": [],
   "source": [
    "# CARA KEDUA\n",
    "\n",
    "angka = 99\n",
    "\n",
    "def tulis (angka):\n",
    "    \n",
    "    # mendefinisikan ulang variabel global di fungsi\n",
    "    angka = 'diganti angkanya'\n",
    "    print (f'Angkanya sekarang saya rubah menjadi {angka}')\n",
    "    return angka"
   ]
  },
  {
   "cell_type": "code",
   "execution_count": 23,
   "id": "a94b2f95",
   "metadata": {},
   "outputs": [
    {
     "name": "stdout",
     "output_type": "stream",
     "text": [
      "Angkanya sekarang saya rubah menjadi diganti angkanya\n"
     ]
    }
   ],
   "source": [
    "angka = tulis (angka) #cara yang lebih aman"
   ]
  },
  {
   "cell_type": "code",
   "execution_count": 24,
   "id": "868b2346",
   "metadata": {},
   "outputs": [
    {
     "name": "stdout",
     "output_type": "stream",
     "text": [
      "diganti angkanya\n"
     ]
    }
   ],
   "source": [
    "print (angka)"
   ]
  }
 ],
 "metadata": {
  "kernelspec": {
   "display_name": "Python 3 (ipykernel)",
   "language": "python",
   "name": "python3"
  },
  "language_info": {
   "codemirror_mode": {
    "name": "ipython",
    "version": 3
   },
   "file_extension": ".py",
   "mimetype": "text/x-python",
   "name": "python",
   "nbconvert_exporter": "python",
   "pygments_lexer": "ipython3",
   "version": "3.11.4"
  }
 },
 "nbformat": 4,
 "nbformat_minor": 5
}
