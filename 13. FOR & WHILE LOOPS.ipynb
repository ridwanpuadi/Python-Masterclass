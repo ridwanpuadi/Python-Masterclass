{
 "cells": [
  {
   "cell_type": "markdown",
   "id": "24852a70",
   "metadata": {},
   "source": [
    "# For loops\n",
    "\n",
    "digunakan untuk melakukan iterasi.\n",
    "Hampir semua objek di Python bisa diiterasi (iterable).\n",
    "\n",
    "aturan penulisan:\n",
    "\n",
    "**for item in items**:\n",
    "\n",
    "   **eksekusi perintah**"
   ]
  },
  {
   "cell_type": "code",
   "execution_count": 2,
   "id": "44482d34",
   "metadata": {},
   "outputs": [
    {
     "name": "stdout",
     "output_type": "stream",
     "text": [
      "s\n",
      "a\n",
      "y\n",
      "a\n",
      " \n",
      "b\n",
      "e\n",
      "l\n",
      "a\n",
      "j\n",
      "a\n",
      "r\n",
      " \n",
      "p\n",
      "y\n",
      "t\n",
      "h\n",
      "o\n",
      "n\n"
     ]
    }
   ],
   "source": [
    "for i in 'saya belajar python':\n",
    "    print (i)"
   ]
  },
  {
   "cell_type": "code",
   "execution_count": 3,
   "id": "d78df213",
   "metadata": {},
   "outputs": [
    {
     "name": "stdout",
     "output_type": "stream",
     "text": [
      "saya belajar python"
     ]
    }
   ],
   "source": [
    "for i in 'saya belajar python':\n",
    "    print (i, end='')"
   ]
  },
  {
   "cell_type": "code",
   "execution_count": 4,
   "id": "5c022afb",
   "metadata": {},
   "outputs": [],
   "source": [
    "angka = [1,2,3,4,5,6,7,8,9,10]"
   ]
  },
  {
   "cell_type": "code",
   "execution_count": 5,
   "id": "46664691",
   "metadata": {},
   "outputs": [
    {
     "name": "stdout",
     "output_type": "stream",
     "text": [
      "1\n",
      "2\n",
      "3\n",
      "4\n",
      "5\n",
      "6\n",
      "7\n",
      "8\n",
      "9\n",
      "10\n"
     ]
    }
   ],
   "source": [
    "for i in angka:\n",
    "    print (i)"
   ]
  },
  {
   "cell_type": "code",
   "execution_count": 6,
   "id": "cbb50554",
   "metadata": {},
   "outputs": [],
   "source": [
    "jumlah = 0"
   ]
  },
  {
   "cell_type": "code",
   "execution_count": 7,
   "id": "c89ca99a",
   "metadata": {},
   "outputs": [
    {
     "name": "stdout",
     "output_type": "stream",
     "text": [
      "hasil penjumlahan pada iterator ke-1 adalah 1\n",
      "hasil penjumlahan pada iterator ke-2 adalah 3\n",
      "hasil penjumlahan pada iterator ke-3 adalah 6\n",
      "hasil penjumlahan pada iterator ke-4 adalah 10\n",
      "hasil penjumlahan pada iterator ke-5 adalah 15\n",
      "hasil penjumlahan pada iterator ke-6 adalah 21\n",
      "hasil penjumlahan pada iterator ke-7 adalah 28\n",
      "hasil penjumlahan pada iterator ke-8 adalah 36\n",
      "hasil penjumlahan pada iterator ke-9 adalah 45\n",
      "hasil penjumlahan pada iterator ke-10 adalah 55\n"
     ]
    }
   ],
   "source": [
    "for i in angka:\n",
    "    jumlah = jumlah + i\n",
    "    print ('hasil penjumlahan pada iterator ke-{} adalah {}'.format (i, jumlah))"
   ]
  },
  {
   "cell_type": "code",
   "execution_count": 8,
   "id": "a9c87549",
   "metadata": {},
   "outputs": [
    {
     "name": "stdout",
     "output_type": "stream",
     "text": [
      "hasil penjumlahan total adalah 110\n"
     ]
    }
   ],
   "source": [
    "for i in angka:\n",
    "    jumlah = jumlah + i\n",
    "print ('hasil penjumlahan total adalah', jumlah)"
   ]
  },
  {
   "cell_type": "markdown",
   "id": "d0146a90",
   "metadata": {},
   "source": [
    "# Penggunaan looping dan conditionals"
   ]
  },
  {
   "cell_type": "code",
   "execution_count": 9,
   "id": "8fecee2f",
   "metadata": {},
   "outputs": [
    {
     "name": "stdout",
     "output_type": "stream",
     "text": [
      "nilai kamu adalah A, selamat yah!\n",
      "nilai kamu adalah A, selamat yah!\n",
      "nilai kamu adalah A, selamat yah!\n",
      "nilai kamu adalah A, selamat yah!\n"
     ]
    }
   ],
   "source": [
    "for item in 'saya belajar python':\n",
    "    if (item == 'a'):\n",
    "        print ('nilai kamu adalah A, selamat yah!')"
   ]
  },
  {
   "cell_type": "code",
   "execution_count": 10,
   "id": "d0d1adcb",
   "metadata": {},
   "outputs": [
    {
     "name": "stdout",
     "output_type": "stream",
     "text": [
      "nilai kamu adalah A, selamat yah! 6\n",
      "nilai kamu adalah A, selamat yah! 18\n"
     ]
    }
   ],
   "source": [
    "jumlah = 3\n",
    "for item in 'saya belajar python':\n",
    "    jumlah += 1\n",
    "    if (item == 'y'):\n",
    "        print ('nilai kamu adalah A, selamat yah!', jumlah)"
   ]
  },
  {
   "cell_type": "code",
   "execution_count": 11,
   "id": "3325045f",
   "metadata": {},
   "outputs": [
    {
     "name": "stdout",
     "output_type": "stream",
     "text": [
      "nilai kamu adalah A, selamat yah! 6\n"
     ]
    }
   ],
   "source": [
    "jumlah = 0\n",
    "for item in 'saya belajar python':\n",
    "    jumlah += 1\n",
    "    if (item == 'b'):\n",
    "        print ('nilai kamu adalah A, selamat yah!', jumlah)"
   ]
  },
  {
   "cell_type": "code",
   "execution_count": 12,
   "id": "f287ce2a",
   "metadata": {},
   "outputs": [],
   "source": [
    "angka = [1,2,3,4,5,6,7,8,9,10]"
   ]
  },
  {
   "cell_type": "code",
   "execution_count": 13,
   "id": "ee7e8670",
   "metadata": {},
   "outputs": [
    {
     "name": "stdout",
     "output_type": "stream",
     "text": [
      "Angka 1 adalah bilangan ganjil\n",
      "Angka 2 adalah bilangan genap\n",
      "Angka 3 adalah bilangan ganjil\n",
      "Angka 4 adalah bilangan genap\n",
      "Angka 5 adalah bilangan ganjil\n",
      "Angka 6 adalah bilangan genap\n",
      "Angka 7 adalah bilangan ganjil\n",
      "Angka 8 adalah bilangan genap\n",
      "Angka 9 adalah bilangan ganjil\n",
      "Angka 10 adalah bilangan genap\n"
     ]
    }
   ],
   "source": [
    "for item in angka:\n",
    "    if item%2 == 0: #ini adalah modulus\n",
    "        print ('Angka {} adalah bilangan genap'. format(item))\n",
    "    else:\n",
    "        print ('Angka {} adalah bilangan ganjil'. format(item))"
   ]
  },
  {
   "cell_type": "code",
   "execution_count": 15,
   "id": "3c0552f1",
   "metadata": {},
   "outputs": [
    {
     "name": "stdout",
     "output_type": "stream",
     "text": [
      "Angka1adalah bilangan ganjil\n",
      "Angka 2 adalah bilangan genap\n",
      "Angka3adalah bilangan ganjil\n",
      "Angka 4 adalah bilangan genap\n",
      "Angka5adalah bilangan ganjil\n",
      "Angka 6 adalah bilangan genap\n",
      "Angka7adalah bilangan ganjil\n",
      "Angka 8 adalah bilangan genap\n",
      "Angka9adalah bilangan ganjil\n",
      "Angka 10 adalah bilangan genap\n"
     ]
    }
   ],
   "source": [
    "# cara kedua\n",
    "\n",
    "for item in angka:\n",
    "    if item%2 == 0:\n",
    "        print ('Angka',item, 'adalah bilangan genap')\n",
    "    else:\n",
    "        print ('Angka' +str(item)+ 'adalah bilangan ganjil')"
   ]
  },
  {
   "cell_type": "markdown",
   "id": "6c33f51e",
   "metadata": {},
   "source": [
    "# For loop dengan tuple dan list mutiple items"
   ]
  },
  {
   "cell_type": "code",
   "execution_count": 18,
   "id": "e0fd9f59",
   "metadata": {},
   "outputs": [
    {
     "data": {
      "text/plain": [
       "((1, 2), (3, 4), (5, 6))"
      ]
     },
     "execution_count": 18,
     "metadata": {},
     "output_type": "execute_result"
    }
   ],
   "source": [
    "box1 = ((1,2), (3,4), (5,6))\n",
    "box1"
   ]
  },
  {
   "cell_type": "code",
   "execution_count": 19,
   "id": "96557ccc",
   "metadata": {},
   "outputs": [
    {
     "data": {
      "text/plain": [
       "tuple"
      ]
     },
     "execution_count": 19,
     "metadata": {},
     "output_type": "execute_result"
    }
   ],
   "source": [
    "type(box1)"
   ]
  },
  {
   "cell_type": "code",
   "execution_count": 22,
   "id": "bddea497",
   "metadata": {},
   "outputs": [
    {
     "name": "stdout",
     "output_type": "stream",
     "text": [
      "(1, 2)\n",
      "(3, 4)\n",
      "(5, 6)\n"
     ]
    }
   ],
   "source": [
    "for item in box1:\n",
    "    print (item)"
   ]
  },
  {
   "cell_type": "code",
   "execution_count": 23,
   "id": "f5523c44",
   "metadata": {},
   "outputs": [
    {
     "name": "stdout",
     "output_type": "stream",
     "text": [
      "1 2\n",
      "3 4\n",
      "5 6\n"
     ]
    }
   ],
   "source": [
    "# tuple unpacking\n",
    "\n",
    "for a,b in box1:\n",
    "    print (a,b)"
   ]
  },
  {
   "cell_type": "code",
   "execution_count": 24,
   "id": "c276dc98",
   "metadata": {},
   "outputs": [
    {
     "name": "stdout",
     "output_type": "stream",
     "text": [
      "1\n",
      "2\n",
      "3\n",
      "4\n",
      "5\n",
      "6\n"
     ]
    }
   ],
   "source": [
    "for a,b in box1:\n",
    "    print (a)\n",
    "    print (b)"
   ]
  },
  {
   "cell_type": "code",
   "execution_count": 25,
   "id": "e1c6f768",
   "metadata": {},
   "outputs": [
    {
     "name": "stdout",
     "output_type": "stream",
     "text": [
      "1\n",
      "2\n",
      "3\n",
      "4\n",
      "5\n",
      "6\n"
     ]
    }
   ],
   "source": [
    "# ganti dengan list\n",
    "\n",
    "box2 = [[1,2], [3,4], [5,6]]\n",
    "for a, b, in box2:\n",
    "    print (a)\n",
    "    print (b)"
   ]
  },
  {
   "cell_type": "code",
   "execution_count": 20,
   "id": "8a46bb8a",
   "metadata": {},
   "outputs": [],
   "source": [
    "box3 = [[1,2,'a'], [3,4,'b'], [5,6,'c']]"
   ]
  },
  {
   "cell_type": "code",
   "execution_count": 23,
   "id": "4062f6c3",
   "metadata": {},
   "outputs": [
    {
     "name": "stdout",
     "output_type": "stream",
     "text": [
      "1\n",
      "a\n",
      "2\n",
      "3\n",
      "b\n",
      "4\n",
      "5\n",
      "c\n",
      "6\n"
     ]
    }
   ],
   "source": [
    "for i, j, l in box3:\n",
    "    print (i)\n",
    "    print (l)\n",
    "    print (j)"
   ]
  },
  {
   "cell_type": "markdown",
   "id": "d354de67",
   "metadata": {},
   "source": [
    "# While loop\n",
    "\n",
    "ada 3 argumen yang bisa digunakan:\n",
    "\n",
    "1. break = menghenikan looping\n",
    "2. continue = melanjutkan looping ke iterator selanjutnya dan melewati interator saat ini\n",
    "3. pass = tidak melakukan apa-apa"
   ]
  },
  {
   "cell_type": "code",
   "execution_count": null,
   "id": "4e74d0ab",
   "metadata": {},
   "outputs": [],
   "source": [
    "#rumus\n",
    "# while (sebuah kondisi = True):\n",
    "#    eksekusi\n",
    "\n",
    "indeks = 0\n",
    "while True:\n",
    "    print('saya berhasil menjalankan while loop')\n",
    "    indeks +=1\n",
    "    if indeks == 5:\n",
    "        break"
   ]
  },
  {
   "cell_type": "code",
   "execution_count": 30,
   "id": "75fc6fdd",
   "metadata": {},
   "outputs": [],
   "source": [
    "x = 0"
   ]
  },
  {
   "cell_type": "code",
   "execution_count": null,
   "id": "89f1bd1d",
   "metadata": {},
   "outputs": [],
   "source": [
    "while x < 10:\n",
    "    print ('bilangan x saat ini adalah: ',x)\n",
    "    x += 2"
   ]
  },
  {
   "cell_type": "code",
   "execution_count": 32,
   "id": "76fa8fb3",
   "metadata": {},
   "outputs": [],
   "source": [
    "angka = [1,2,3,4,5,6,7,8,9,10]"
   ]
  },
  {
   "cell_type": "code",
   "execution_count": 33,
   "id": "f94acf5d",
   "metadata": {},
   "outputs": [
    {
     "name": "stdout",
     "output_type": "stream",
     "text": [
      "anda berada di angka ganjil = 1\n",
      "anda berada di angka ganjil = 3\n",
      "anda berada di angka ganjil = 5\n",
      "anda berada di angka ganjil = 7\n",
      "anda berada di angka ganjil = 9\n"
     ]
    }
   ],
   "source": [
    "for item in angka:\n",
    "    if item%2 == 0:\n",
    "        continue\n",
    "    else:\n",
    "        print ('anda berada di angka ganjil =',item)"
   ]
  },
  {
   "cell_type": "code",
   "execution_count": 34,
   "id": "127c5533",
   "metadata": {},
   "outputs": [],
   "source": [
    "for i in 'saya sudah mulai mahir di python':\n",
    "    if i =='a':\n",
    "        pass\n",
    "    else:\n",
    "        continue"
   ]
  },
  {
   "cell_type": "code",
   "execution_count": 35,
   "id": "fcfe4832",
   "metadata": {},
   "outputs": [],
   "source": [
    "for i in 'abc':\n",
    "    pass"
   ]
  },
  {
   "cell_type": "code",
   "execution_count": null,
   "id": "4273ca51",
   "metadata": {},
   "outputs": [],
   "source": []
  }
 ],
 "metadata": {
  "kernelspec": {
   "display_name": "Python 3 (ipykernel)",
   "language": "python",
   "name": "python3"
  },
  "language_info": {
   "codemirror_mode": {
    "name": "ipython",
    "version": 3
   },
   "file_extension": ".py",
   "mimetype": "text/x-python",
   "name": "python",
   "nbconvert_exporter": "python",
   "pygments_lexer": "ipython3",
   "version": "3.11.4"
  }
 },
 "nbformat": 4,
 "nbformat_minor": 5
}
