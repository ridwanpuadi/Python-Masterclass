{
 "cells": [
  {
   "cell_type": "markdown",
   "id": "2632a570",
   "metadata": {},
   "source": [
    "Tuples bersifat immutables (tidak bisa diubah isinya)"
   ]
  },
  {
   "cell_type": "code",
   "execution_count": 4,
   "id": "51c435bf",
   "metadata": {},
   "outputs": [],
   "source": [
    "keranjangt = (1,2,3,4,5)"
   ]
  },
  {
   "cell_type": "code",
   "execution_count": 5,
   "id": "5d87d6bd",
   "metadata": {},
   "outputs": [
    {
     "data": {
      "text/plain": [
       "(1, 2, 3, 4, 5)"
      ]
     },
     "execution_count": 5,
     "metadata": {},
     "output_type": "execute_result"
    }
   ],
   "source": [
    "keranjangt"
   ]
  },
  {
   "cell_type": "code",
   "execution_count": 6,
   "id": "0a3d20ca",
   "metadata": {},
   "outputs": [
    {
     "data": {
      "text/plain": [
       "tuple"
      ]
     },
     "execution_count": 6,
     "metadata": {},
     "output_type": "execute_result"
    }
   ],
   "source": [
    "type (keranjangt)"
   ]
  },
  {
   "cell_type": "code",
   "execution_count": 7,
   "id": "1234310f",
   "metadata": {},
   "outputs": [],
   "source": [
    "keranjang2 = 1,2,3,4,5"
   ]
  },
  {
   "cell_type": "code",
   "execution_count": 8,
   "id": "6bd23b8d",
   "metadata": {},
   "outputs": [
    {
     "data": {
      "text/plain": [
       "(1, 2, 3, 4, 5)"
      ]
     },
     "execution_count": 8,
     "metadata": {},
     "output_type": "execute_result"
    }
   ],
   "source": [
    "keranjang2"
   ]
  },
  {
   "cell_type": "code",
   "execution_count": 9,
   "id": "0a5ae447",
   "metadata": {},
   "outputs": [
    {
     "data": {
      "text/plain": [
       "tuple"
      ]
     },
     "execution_count": 9,
     "metadata": {},
     "output_type": "execute_result"
    }
   ],
   "source": [
    "type(keranjang2)"
   ]
  },
  {
   "cell_type": "code",
   "execution_count": 10,
   "id": "a1206b95",
   "metadata": {},
   "outputs": [],
   "source": [
    "t1 = (1,2,3,4,'a','b','c')"
   ]
  },
  {
   "cell_type": "code",
   "execution_count": 11,
   "id": "06ab4c7f",
   "metadata": {},
   "outputs": [
    {
     "data": {
      "text/plain": [
       "tuple"
      ]
     },
     "execution_count": 11,
     "metadata": {},
     "output_type": "execute_result"
    }
   ],
   "source": [
    "type (t1)"
   ]
  },
  {
   "cell_type": "code",
   "execution_count": 12,
   "id": "6b334d8e",
   "metadata": {},
   "outputs": [],
   "source": [
    "t2 = 'saya ingin belanja', 'di supermarket'"
   ]
  },
  {
   "cell_type": "code",
   "execution_count": 13,
   "id": "72313e59",
   "metadata": {},
   "outputs": [
    {
     "data": {
      "text/plain": [
       "tuple"
      ]
     },
     "execution_count": 13,
     "metadata": {},
     "output_type": "execute_result"
    }
   ],
   "source": [
    "type (t2)"
   ]
  },
  {
   "cell_type": "code",
   "execution_count": 14,
   "id": "99dc9e9c",
   "metadata": {},
   "outputs": [],
   "source": [
    "L1 = (1,2,3,4,5)"
   ]
  },
  {
   "cell_type": "code",
   "execution_count": 15,
   "id": "d2bcaeb4",
   "metadata": {},
   "outputs": [
    {
     "data": {
      "text/plain": [
       "(1, 2, 3, 4, 5)"
      ]
     },
     "execution_count": 15,
     "metadata": {},
     "output_type": "execute_result"
    }
   ],
   "source": [
    "L1"
   ]
  },
  {
   "cell_type": "code",
   "execution_count": 16,
   "id": "b6107229",
   "metadata": {},
   "outputs": [
    {
     "ename": "TypeError",
     "evalue": "'tuple' object does not support item assignment",
     "output_type": "error",
     "traceback": [
      "\u001b[1;31m---------------------------------------------------------------------------\u001b[0m",
      "\u001b[1;31mTypeError\u001b[0m                                 Traceback (most recent call last)",
      "Cell \u001b[1;32mIn[16], line 1\u001b[0m\n\u001b[1;32m----> 1\u001b[0m L1[\u001b[38;5;241m1\u001b[39m] \u001b[38;5;241m=\u001b[39m \u001b[38;5;124m'\u001b[39m\u001b[38;5;124mBARU\u001b[39m\u001b[38;5;124m'\u001b[39m\n",
      "\u001b[1;31mTypeError\u001b[0m: 'tuple' object does not support item assignment"
     ]
    }
   ],
   "source": [
    "L1[1] = 'BARU'"
   ]
  },
  {
   "cell_type": "markdown",
   "id": "49f36e31",
   "metadata": {},
   "source": [
    "INDEK SING"
   ]
  },
  {
   "cell_type": "code",
   "execution_count": 17,
   "id": "8dd66624",
   "metadata": {},
   "outputs": [
    {
     "data": {
      "text/plain": [
       "(1, 2, 3, 4, 5)"
      ]
     },
     "execution_count": 17,
     "metadata": {},
     "output_type": "execute_result"
    }
   ],
   "source": [
    "keranjangt"
   ]
  },
  {
   "cell_type": "code",
   "execution_count": 18,
   "id": "e6affbdf",
   "metadata": {},
   "outputs": [
    {
     "data": {
      "text/plain": [
       "4"
      ]
     },
     "execution_count": 18,
     "metadata": {},
     "output_type": "execute_result"
    }
   ],
   "source": [
    "keranjangt[3]"
   ]
  },
  {
   "cell_type": "markdown",
   "id": "10af4c89",
   "metadata": {},
   "source": [
    "# MERUBAH ISI TUPLE"
   ]
  },
  {
   "cell_type": "code",
   "execution_count": 19,
   "id": "38441a15",
   "metadata": {},
   "outputs": [
    {
     "data": {
      "text/plain": [
       "(1, 2, 3, 4, 5)"
      ]
     },
     "execution_count": 19,
     "metadata": {},
     "output_type": "execute_result"
    }
   ],
   "source": [
    "keranjangt"
   ]
  },
  {
   "cell_type": "code",
   "execution_count": 20,
   "id": "e189a1e0",
   "metadata": {},
   "outputs": [],
   "source": [
    "keranjangt = keranjangt [0], keranjangt [1], 'jeruk', keranjangt [3], keranjangt [4]"
   ]
  },
  {
   "cell_type": "code",
   "execution_count": 21,
   "id": "92eb72b0",
   "metadata": {},
   "outputs": [
    {
     "data": {
      "text/plain": [
       "(1, 2, 'jeruk', 4, 5)"
      ]
     },
     "execution_count": 21,
     "metadata": {},
     "output_type": "execute_result"
    }
   ],
   "source": [
    "keranjangt"
   ]
  },
  {
   "cell_type": "markdown",
   "id": "6664f97d",
   "metadata": {},
   "source": [
    "**cara dua rubah menjadi sebuah list**"
   ]
  },
  {
   "cell_type": "code",
   "execution_count": 26,
   "id": "350de63f",
   "metadata": {},
   "outputs": [],
   "source": [
    "keranjangt = list(keranjangt)"
   ]
  },
  {
   "cell_type": "code",
   "execution_count": 27,
   "id": "57510b44",
   "metadata": {},
   "outputs": [
    {
     "data": {
      "text/plain": [
       "[1, 2, 6, 4, 5]"
      ]
     },
     "execution_count": 27,
     "metadata": {},
     "output_type": "execute_result"
    }
   ],
   "source": [
    "keranjangt"
   ]
  },
  {
   "cell_type": "code",
   "execution_count": 28,
   "id": "ec030bf8",
   "metadata": {},
   "outputs": [],
   "source": [
    "keranjangt [3] = 'apel'"
   ]
  },
  {
   "cell_type": "code",
   "execution_count": 29,
   "id": "6409fd75",
   "metadata": {},
   "outputs": [
    {
     "data": {
      "text/plain": [
       "[1, 2, 6, 'apel', 5]"
      ]
     },
     "execution_count": 29,
     "metadata": {},
     "output_type": "execute_result"
    }
   ],
   "source": [
    "keranjangt"
   ]
  },
  {
   "cell_type": "code",
   "execution_count": 30,
   "id": "d1f1cecf",
   "metadata": {},
   "outputs": [],
   "source": [
    "keranjangt = tuple(keranjangt)"
   ]
  },
  {
   "cell_type": "code",
   "execution_count": 31,
   "id": "8f4e904b",
   "metadata": {},
   "outputs": [
    {
     "data": {
      "text/plain": [
       "(1, 2, 6, 'apel', 5)"
      ]
     },
     "execution_count": 31,
     "metadata": {},
     "output_type": "execute_result"
    }
   ],
   "source": [
    "keranjangt"
   ]
  },
  {
   "cell_type": "code",
   "execution_count": 32,
   "id": "f9315677",
   "metadata": {},
   "outputs": [
    {
     "data": {
      "text/plain": [
       "tuple"
      ]
     },
     "execution_count": 32,
     "metadata": {},
     "output_type": "execute_result"
    }
   ],
   "source": [
    "type (keranjangt)"
   ]
  },
  {
   "cell_type": "markdown",
   "id": "b282d6aa",
   "metadata": {},
   "source": [
    "# Methods in tuple"
   ]
  },
  {
   "cell_type": "code",
   "execution_count": 33,
   "id": "b2e635f6",
   "metadata": {},
   "outputs": [],
   "source": [
    "t1 = (1,2,3,4,5,7,7,7,7,8)"
   ]
  },
  {
   "cell_type": "code",
   "execution_count": 34,
   "id": "47ad7044",
   "metadata": {},
   "outputs": [
    {
     "data": {
      "text/plain": [
       "4"
      ]
     },
     "execution_count": 34,
     "metadata": {},
     "output_type": "execute_result"
    }
   ],
   "source": [
    "t1.count(7)"
   ]
  },
  {
   "cell_type": "code",
   "execution_count": 36,
   "id": "17f84ce9",
   "metadata": {},
   "outputs": [
    {
     "data": {
      "text/plain": [
       "4"
      ]
     },
     "execution_count": 36,
     "metadata": {},
     "output_type": "execute_result"
    }
   ],
   "source": [
    "t1.index(5)"
   ]
  },
  {
   "cell_type": "markdown",
   "id": "b49012ce",
   "metadata": {},
   "source": [
    "# Multiples assigment & tuple"
   ]
  },
  {
   "cell_type": "code",
   "execution_count": 37,
   "id": "fc2f80ed",
   "metadata": {},
   "outputs": [],
   "source": [
    "# mengisikan variabel dengan nilai yang berbeda\n",
    "\n",
    "a,b,c,d = 1,2,3,4"
   ]
  },
  {
   "cell_type": "code",
   "execution_count": 38,
   "id": "9374e1de",
   "metadata": {},
   "outputs": [
    {
     "data": {
      "text/plain": [
       "1"
      ]
     },
     "execution_count": 38,
     "metadata": {},
     "output_type": "execute_result"
    }
   ],
   "source": [
    "a"
   ]
  },
  {
   "cell_type": "code",
   "execution_count": 39,
   "id": "1fdbb7bf",
   "metadata": {},
   "outputs": [
    {
     "data": {
      "text/plain": [
       "3"
      ]
     },
     "execution_count": 39,
     "metadata": {},
     "output_type": "execute_result"
    }
   ],
   "source": [
    "c"
   ]
  },
  {
   "cell_type": "code",
   "execution_count": 40,
   "id": "f0646e2f",
   "metadata": {},
   "outputs": [
    {
     "data": {
      "text/plain": [
       "2"
      ]
     },
     "execution_count": 40,
     "metadata": {},
     "output_type": "execute_result"
    }
   ],
   "source": [
    "b"
   ]
  },
  {
   "cell_type": "code",
   "execution_count": 2,
   "id": "79504411",
   "metadata": {},
   "outputs": [],
   "source": [
    " # mengisikan variabel dengan nilai yang sama\n",
    "\n",
    "a = b = c = d = 'asik'"
   ]
  },
  {
   "cell_type": "code",
   "execution_count": 3,
   "id": "38aab44b",
   "metadata": {},
   "outputs": [
    {
     "data": {
      "text/plain": [
       "'asik'"
      ]
     },
     "execution_count": 3,
     "metadata": {},
     "output_type": "execute_result"
    }
   ],
   "source": [
    "a"
   ]
  },
  {
   "cell_type": "code",
   "execution_count": 4,
   "id": "6c566be8",
   "metadata": {},
   "outputs": [
    {
     "data": {
      "text/plain": [
       "'asik'"
      ]
     },
     "execution_count": 4,
     "metadata": {},
     "output_type": "execute_result"
    }
   ],
   "source": [
    "c"
   ]
  },
  {
   "cell_type": "code",
   "execution_count": 5,
   "id": "f2a3e595",
   "metadata": {},
   "outputs": [],
   "source": [
    "a,b = 1,2"
   ]
  },
  {
   "cell_type": "code",
   "execution_count": 6,
   "id": "f067c92e",
   "metadata": {},
   "outputs": [
    {
     "data": {
      "text/plain": [
       "1"
      ]
     },
     "execution_count": 6,
     "metadata": {},
     "output_type": "execute_result"
    }
   ],
   "source": [
    "a"
   ]
  },
  {
   "cell_type": "code",
   "execution_count": 7,
   "id": "7f9604c0",
   "metadata": {},
   "outputs": [
    {
     "data": {
      "text/plain": [
       "2"
      ]
     },
     "execution_count": 7,
     "metadata": {},
     "output_type": "execute_result"
    }
   ],
   "source": [
    "b"
   ]
  },
  {
   "cell_type": "code",
   "execution_count": 8,
   "id": "96a01663",
   "metadata": {},
   "outputs": [],
   "source": [
    "a,b = b,a"
   ]
  },
  {
   "cell_type": "code",
   "execution_count": 48,
   "id": "fcc856be",
   "metadata": {},
   "outputs": [
    {
     "data": {
      "text/plain": [
       "2"
      ]
     },
     "execution_count": 48,
     "metadata": {},
     "output_type": "execute_result"
    }
   ],
   "source": [
    "a"
   ]
  },
  {
   "cell_type": "code",
   "execution_count": 49,
   "id": "d5edcab9",
   "metadata": {},
   "outputs": [
    {
     "data": {
      "text/plain": [
       "1"
      ]
     },
     "execution_count": 49,
     "metadata": {},
     "output_type": "execute_result"
    }
   ],
   "source": [
    "b"
   ]
  },
  {
   "cell_type": "code",
   "execution_count": 9,
   "id": "f066a895",
   "metadata": {},
   "outputs": [],
   "source": [
    "tas = ('jeruk', 41, 9, 87, [1,2,3,4])"
   ]
  },
  {
   "cell_type": "code",
   "execution_count": 10,
   "id": "4ac52692",
   "metadata": {},
   "outputs": [
    {
     "data": {
      "text/plain": [
       "('jeruk', 41, 9, 87, [1, 2, 3, 4])"
      ]
     },
     "execution_count": 10,
     "metadata": {},
     "output_type": "execute_result"
    }
   ],
   "source": [
    "tas"
   ]
  },
  {
   "cell_type": "code",
   "execution_count": 11,
   "id": "8097d986",
   "metadata": {},
   "outputs": [],
   "source": [
    "item1, item2, item3, item4, item5 = tas"
   ]
  },
  {
   "cell_type": "code",
   "execution_count": 61,
   "id": "beff9cf1",
   "metadata": {},
   "outputs": [
    {
     "data": {
      "text/plain": [
       "9"
      ]
     },
     "execution_count": 61,
     "metadata": {},
     "output_type": "execute_result"
    }
   ],
   "source": [
    "item3"
   ]
  },
  {
   "cell_type": "code",
   "execution_count": 62,
   "id": "2d3bcf3e",
   "metadata": {},
   "outputs": [
    {
     "data": {
      "text/plain": [
       "[1, 2, 3, 4]"
      ]
     },
     "execution_count": 62,
     "metadata": {},
     "output_type": "execute_result"
    }
   ],
   "source": [
    "item5"
   ]
  },
  {
   "cell_type": "markdown",
   "id": "40b25648",
   "metadata": {},
   "source": [
    "# sets"
   ]
  },
  {
   "cell_type": "markdown",
   "id": "bb178ac2",
   "metadata": {},
   "source": [
    "sets adalah sebuah tipe data untuk elemen yang bersifat unik (tanpa duplikasi) dan tidak berurutan"
   ]
  },
  {
   "cell_type": "code",
   "execution_count": 25,
   "id": "82c01406",
   "metadata": {},
   "outputs": [],
   "source": [
    "set1 = set()"
   ]
  },
  {
   "cell_type": "code",
   "execution_count": 26,
   "id": "211d1faa",
   "metadata": {},
   "outputs": [
    {
     "data": {
      "text/plain": [
       "set()"
      ]
     },
     "execution_count": 26,
     "metadata": {},
     "output_type": "execute_result"
    }
   ],
   "source": [
    "set1"
   ]
  },
  {
   "cell_type": "code",
   "execution_count": 27,
   "id": "1671dec5",
   "metadata": {},
   "outputs": [
    {
     "data": {
      "text/plain": [
       "set"
      ]
     },
     "execution_count": 27,
     "metadata": {},
     "output_type": "execute_result"
    }
   ],
   "source": [
    "type(set1)"
   ]
  },
  {
   "cell_type": "code",
   "execution_count": 65,
   "id": "070534d1",
   "metadata": {},
   "outputs": [],
   "source": [
    "set1.add ('biru')"
   ]
  },
  {
   "cell_type": "code",
   "execution_count": 66,
   "id": "d827bf19",
   "metadata": {},
   "outputs": [
    {
     "data": {
      "text/plain": [
       "{'biru'}"
      ]
     },
     "execution_count": 66,
     "metadata": {},
     "output_type": "execute_result"
    }
   ],
   "source": [
    "set1"
   ]
  },
  {
   "cell_type": "code",
   "execution_count": 67,
   "id": "7a56dff8",
   "metadata": {},
   "outputs": [],
   "source": [
    "set1.add ('hijau')"
   ]
  },
  {
   "cell_type": "code",
   "execution_count": 68,
   "id": "af134050",
   "metadata": {},
   "outputs": [
    {
     "data": {
      "text/plain": [
       "{'biru', 'hijau'}"
      ]
     },
     "execution_count": 68,
     "metadata": {},
     "output_type": "execute_result"
    }
   ],
   "source": [
    "set1"
   ]
  },
  {
   "cell_type": "code",
   "execution_count": 29,
   "id": "f0389133",
   "metadata": {},
   "outputs": [
    {
     "data": {
      "text/plain": [
       "[1, 2, 3, 3, 3, 3, 3, 4, 4, 5, 7, 9]"
      ]
     },
     "execution_count": 29,
     "metadata": {},
     "output_type": "execute_result"
    }
   ],
   "source": [
    "list_angka = [1,2,3,3,3,3,3,4,4,5,7,9]\n",
    "list_angka"
   ]
  },
  {
   "cell_type": "code",
   "execution_count": 31,
   "id": "02c1d22e",
   "metadata": {},
   "outputs": [
    {
     "data": {
      "text/plain": [
       "list"
      ]
     },
     "execution_count": 31,
     "metadata": {},
     "output_type": "execute_result"
    }
   ],
   "source": [
    "type(list_angka)"
   ]
  },
  {
   "cell_type": "code",
   "execution_count": 70,
   "id": "00a2a5b5",
   "metadata": {},
   "outputs": [],
   "source": [
    "set_angka = set(list_angka)"
   ]
  },
  {
   "cell_type": "code",
   "execution_count": 72,
   "id": "72c2a965",
   "metadata": {},
   "outputs": [
    {
     "data": {
      "text/plain": [
       "{1, 2, 3, 4, 5, 7, 9}"
      ]
     },
     "execution_count": 72,
     "metadata": {},
     "output_type": "execute_result"
    }
   ],
   "source": [
    "set_angka"
   ]
  }
 ],
 "metadata": {
  "kernelspec": {
   "display_name": "Python 3 (ipykernel)",
   "language": "python",
   "name": "python3"
  },
  "language_info": {
   "codemirror_mode": {
    "name": "ipython",
    "version": 3
   },
   "file_extension": ".py",
   "mimetype": "text/x-python",
   "name": "python",
   "nbconvert_exporter": "python",
   "pygments_lexer": "ipython3",
   "version": "3.11.4"
  }
 },
 "nbformat": 4,
 "nbformat_minor": 5
}
