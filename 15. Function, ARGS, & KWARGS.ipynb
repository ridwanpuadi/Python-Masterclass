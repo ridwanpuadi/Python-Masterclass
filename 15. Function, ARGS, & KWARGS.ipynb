{
 "cells": [
  {
   "cell_type": "markdown",
   "id": "e37f3260",
   "metadata": {},
   "source": [
    "**Function**\n",
    "\n",
    "def nama_fungsinya(variabel):\n",
    "'''\n",
    "doctring = sebuah komentar untuk pembaca\n",
    "'''\n",
    "\n",
    "**perintah yang diinginkan return/print**\n",
    "* Return digunakan untuk mendefinisikan fungsi ke variabel\n",
    "* Print digunakan jika hanya ingin mencetak hasil dari fungsinya"
   ]
  },
  {
   "cell_type": "code",
   "execution_count": 1,
   "id": "80e0ec36",
   "metadata": {},
   "outputs": [],
   "source": [
    "def cetak_kalimat():\n",
    "    print ('ternyata belajar python itu mudah!')"
   ]
  },
  {
   "cell_type": "code",
   "execution_count": 2,
   "id": "3f2c6198",
   "metadata": {},
   "outputs": [
    {
     "data": {
      "text/plain": [
       "<function __main__.cetak_kalimat()>"
      ]
     },
     "execution_count": 2,
     "metadata": {},
     "output_type": "execute_result"
    }
   ],
   "source": [
    "cetak_kalimat"
   ]
  },
  {
   "cell_type": "code",
   "execution_count": 3,
   "id": "a339ca78",
   "metadata": {},
   "outputs": [
    {
     "name": "stdout",
     "output_type": "stream",
     "text": [
      "ternyata belajar python itu mudah!\n"
     ]
    }
   ],
   "source": [
    "cetak_kalimat()"
   ]
  },
  {
   "cell_type": "code",
   "execution_count": 1,
   "id": "239fcbc2",
   "metadata": {},
   "outputs": [],
   "source": [
    "# contoh yang harus menggunakan tanda kurung()\n",
    "\n",
    "list1 = list(range(1,10))"
   ]
  },
  {
   "cell_type": "code",
   "execution_count": 2,
   "id": "48bfa11a",
   "metadata": {},
   "outputs": [
    {
     "data": {
      "text/plain": [
       "<function list.append(object, /)>"
      ]
     },
     "execution_count": 2,
     "metadata": {},
     "output_type": "execute_result"
    }
   ],
   "source": [
    "list1.append"
   ]
  },
  {
   "cell_type": "code",
   "execution_count": 12,
   "id": "94a5572a",
   "metadata": {},
   "outputs": [
    {
     "data": {
      "text/plain": [
       "[1, 2, 3, 4, 5, 6, 7, 8, 9, 12]"
      ]
     },
     "execution_count": 12,
     "metadata": {},
     "output_type": "execute_result"
    }
   ],
   "source": [
    "list1.append(12)\n",
    "list1"
   ]
  },
  {
   "cell_type": "code",
   "execution_count": 4,
   "id": "2777bfb1",
   "metadata": {},
   "outputs": [],
   "source": [
    "def perkalian (num1,num2):\n",
    "    return num1*num2"
   ]
  },
  {
   "cell_type": "code",
   "execution_count": 5,
   "id": "7f190e2e",
   "metadata": {},
   "outputs": [
    {
     "data": {
      "text/plain": [
       "48"
      ]
     },
     "execution_count": 5,
     "metadata": {},
     "output_type": "execute_result"
    }
   ],
   "source": [
    "kali = perkalian (6,8)\n",
    "kali"
   ]
  },
  {
   "cell_type": "code",
   "execution_count": 3,
   "id": "73a626cc",
   "metadata": {},
   "outputs": [],
   "source": [
    "def penjumlahan (num1,num2):\n",
    "    print (num1+num2)"
   ]
  },
  {
   "cell_type": "code",
   "execution_count": 17,
   "id": "b0c1b2ea",
   "metadata": {},
   "outputs": [
    {
     "name": "stdout",
     "output_type": "stream",
     "text": [
      "4\n"
     ]
    }
   ],
   "source": [
    "jumlah = penjumlahan (1,3)"
   ]
  },
  {
   "cell_type": "code",
   "execution_count": 18,
   "id": "6798afd9",
   "metadata": {},
   "outputs": [],
   "source": [
    "jumlah"
   ]
  },
  {
   "cell_type": "code",
   "execution_count": 19,
   "id": "ef284bea",
   "metadata": {},
   "outputs": [
    {
     "data": {
      "text/plain": [
       "NoneType"
      ]
     },
     "execution_count": 19,
     "metadata": {},
     "output_type": "execute_result"
    }
   ],
   "source": [
    "type(jumlah)"
   ]
  },
  {
   "cell_type": "code",
   "execution_count": 20,
   "id": "8703b9e4",
   "metadata": {},
   "outputs": [],
   "source": [
    "def belajar (var='python'):\n",
    "    print ('saya sedang belajar '+var)"
   ]
  },
  {
   "cell_type": "code",
   "execution_count": 21,
   "id": "617567cb",
   "metadata": {},
   "outputs": [
    {
     "name": "stdout",
     "output_type": "stream",
     "text": [
      "saya sedang belajar python\n"
     ]
    }
   ],
   "source": [
    "belajar()"
   ]
  },
  {
   "cell_type": "code",
   "execution_count": 22,
   "id": "2b92e875",
   "metadata": {},
   "outputs": [
    {
     "name": "stdout",
     "output_type": "stream",
     "text": [
      "saya sedang belajar matematika\n"
     ]
    }
   ],
   "source": [
    "belajar ('matematika')"
   ]
  },
  {
   "cell_type": "code",
   "execution_count": 6,
   "id": "08ef779d",
   "metadata": {},
   "outputs": [],
   "source": [
    "def deteksi_genap (var1):\n",
    "    '''\n",
    "    ini adalah fungsi untuk membedakan ganjil dan genap (ini adalah doctring)\n",
    "    '''\n",
    "    if (var1%2 ==0):\n",
    "        print ('ini adalah angka genap')\n",
    "    else:\n",
    "        print ('ini adalah angka ganjil')"
   ]
  },
  {
   "cell_type": "code",
   "execution_count": 7,
   "id": "40791dd5",
   "metadata": {},
   "outputs": [
    {
     "name": "stdout",
     "output_type": "stream",
     "text": [
      "ini adalah angka genap\n"
     ]
    }
   ],
   "source": [
    "deteksi_genap (6)"
   ]
  },
  {
   "cell_type": "code",
   "execution_count": 25,
   "id": "be7cd8b1",
   "metadata": {},
   "outputs": [
    {
     "name": "stdout",
     "output_type": "stream",
     "text": [
      "ini adalah angka ganjil\n"
     ]
    }
   ],
   "source": [
    "deteksi_genap (7)"
   ]
  },
  {
   "cell_type": "markdown",
   "id": "713c9849",
   "metadata": {},
   "source": [
    "# fungsi"
   ]
  },
  {
   "cell_type": "code",
   "execution_count": 8,
   "id": "aa74215e",
   "metadata": {},
   "outputs": [
    {
     "name": "stdout",
     "output_type": "stream",
     "text": [
      "masukan kalimat yang diinginkan'belajar python bersama pak mega sangat seru'\n"
     ]
    }
   ],
   "source": [
    "kalimat = input ('masukan kalimat yang diinginkan')"
   ]
  },
  {
   "cell_type": "code",
   "execution_count": 9,
   "id": "657d4ffa",
   "metadata": {},
   "outputs": [
    {
     "data": {
      "text/plain": [
       "\"'belajar python bersama pak mega sangat seru'\""
      ]
     },
     "execution_count": 9,
     "metadata": {},
     "output_type": "execute_result"
    }
   ],
   "source": [
    "kalimat"
   ]
  },
  {
   "cell_type": "code",
   "execution_count": 12,
   "id": "28552930",
   "metadata": {},
   "outputs": [],
   "source": [
    "def cek_kalimat (var):\n",
    "    if 'Python' in var:\n",
    "        return True\n",
    "    else:\n",
    "        return False"
   ]
  },
  {
   "cell_type": "code",
   "execution_count": 13,
   "id": "ba29f39b",
   "metadata": {},
   "outputs": [
    {
     "data": {
      "text/plain": [
       "False"
      ]
     },
     "execution_count": 13,
     "metadata": {},
     "output_type": "execute_result"
    }
   ],
   "source": [
    "cek_kalimat (kalimat)"
   ]
  },
  {
   "cell_type": "code",
   "execution_count": 14,
   "id": "2d81cbfa",
   "metadata": {},
   "outputs": [],
   "source": [
    "def cek_kalimat (var):\n",
    "    if 'Python'.lower() in var: #tambahkan method lowe() agar huru P dalam kata Python jadi kecil\n",
    "        return True\n",
    "    else:\n",
    "        return False"
   ]
  },
  {
   "cell_type": "code",
   "execution_count": 15,
   "id": "6873e5f8",
   "metadata": {},
   "outputs": [
    {
     "data": {
      "text/plain": [
       "True"
      ]
     },
     "execution_count": 15,
     "metadata": {},
     "output_type": "execute_result"
    }
   ],
   "source": [
    "cek_kalimat(kalimat)"
   ]
  },
  {
   "cell_type": "code",
   "execution_count": 16,
   "id": "2d4fcd3e",
   "metadata": {},
   "outputs": [],
   "source": [
    "# ketika orang yang sudah mahir python maka menggunakan syntax berikut\n",
    "\n",
    "def cek_kalimat (var):\n",
    "    return 'Python'.lower() in var"
   ]
  },
  {
   "cell_type": "code",
   "execution_count": 45,
   "id": "fc327677",
   "metadata": {},
   "outputs": [
    {
     "data": {
      "text/plain": [
       "True"
      ]
     },
     "execution_count": 45,
     "metadata": {},
     "output_type": "execute_result"
    }
   ],
   "source": [
    "cek_kalimat(kalimat)"
   ]
  },
  {
   "cell_type": "markdown",
   "id": "824be7fb",
   "metadata": {},
   "source": [
    "# *ARGS & **KWARGS\n",
    "\n",
    "*Args hanyalah sebuah nama, bisa saja menuliskan dengan *hebat, *baru dll. namun agar lebih mudah dibaca oleh banyak orang maka menggunakan *args artinya kita bisa memasukan sekian banyak variabel"
   ]
  },
  {
   "cell_type": "code",
   "execution_count": 18,
   "id": "4a580d08",
   "metadata": {},
   "outputs": [],
   "source": [
    "# cara yang tidak efisien \n",
    "\n",
    "def jumlah (a,b,c,d):\n",
    "    return a+b+c+d"
   ]
  },
  {
   "cell_type": "code",
   "execution_count": 20,
   "id": "31c45fd2",
   "metadata": {},
   "outputs": [
    {
     "data": {
      "text/plain": [
       "16"
      ]
     },
     "execution_count": 20,
     "metadata": {},
     "output_type": "execute_result"
    }
   ],
   "source": [
    "jumlah (4,2,1,9)"
   ]
  },
  {
   "cell_type": "code",
   "execution_count": 21,
   "id": "5164dc1e",
   "metadata": {},
   "outputs": [],
   "source": [
    "# cara yang lebih efisien menggunakan *args\n",
    "# args hanyalah sebuah nama berdasarkan kesepakatan bersama, yang paling penting adala lambang bintang*\n",
    "# *args adalah sebuah argumen\n",
    "\n",
    "def jumlah (*args):\n",
    "    return sum((args))"
   ]
  },
  {
   "cell_type": "code",
   "execution_count": 47,
   "id": "133678a0",
   "metadata": {},
   "outputs": [
    {
     "data": {
      "text/plain": [
       "2334"
      ]
     },
     "execution_count": 47,
     "metadata": {},
     "output_type": "execute_result"
    }
   ],
   "source": [
    "jumlah (8,9,0,5,98,874,928,412)"
   ]
  },
  {
   "cell_type": "code",
   "execution_count": 49,
   "id": "e8c11663",
   "metadata": {},
   "outputs": [],
   "source": [
    "# hasil dari *args adalah sebuah tuple\n",
    "\n",
    "def cek_args (*args):\n",
    "    print (args)"
   ]
  },
  {
   "cell_type": "code",
   "execution_count": 50,
   "id": "603f8bc8",
   "metadata": {},
   "outputs": [
    {
     "name": "stdout",
     "output_type": "stream",
     "text": [
      "(1, 2, 3, 4, 5, 6)\n"
     ]
    }
   ],
   "source": [
    "cek_args (1,2,3,4,5,6)"
   ]
  },
  {
   "cell_type": "code",
   "execution_count": 22,
   "id": "1b3903e0",
   "metadata": {},
   "outputs": [
    {
     "data": {
      "text/plain": [
       "15"
      ]
     },
     "execution_count": 22,
     "metadata": {},
     "output_type": "execute_result"
    }
   ],
   "source": [
    "sum ((1,2,3,4,5)) #sum harus pakai iterasi()"
   ]
  },
  {
   "cell_type": "code",
   "execution_count": 23,
   "id": "3861dc16",
   "metadata": {},
   "outputs": [],
   "source": [
    "# **kwargs adalah keyword argumen\n",
    "# hasil dari **kwargs adalah sebuah dictonaries\n",
    "\n",
    "def cek_kwargs (**kwargs):\n",
    "    print(kwargs)"
   ]
  },
  {
   "cell_type": "code",
   "execution_count": 54,
   "id": "4a0aeb53",
   "metadata": {},
   "outputs": [
    {
     "name": "stdout",
     "output_type": "stream",
     "text": [
      "{'anak': 'gemuk'}\n"
     ]
    }
   ],
   "source": [
    "cek_kwargs(anak='gemuk')"
   ]
  },
  {
   "cell_type": "code",
   "execution_count": 25,
   "id": "72cb1c27",
   "metadata": {},
   "outputs": [],
   "source": [
    "def cek_berat (**kwargs):\n",
    "    if 'Budi' in kwargs:\n",
    "        print ('berat Budi tergolong ke kategori {}'.format(kwargs['Budi']))\n",
    "    else:\n",
    "        print ('Budi tidak termasuk ke database kita')"
   ]
  },
  {
   "cell_type": "code",
   "execution_count": 26,
   "id": "ade0fa1b",
   "metadata": {},
   "outputs": [
    {
     "name": "stdout",
     "output_type": "stream",
     "text": [
      "berat Budi tergolong ke kategori gemuk\n"
     ]
    }
   ],
   "source": [
    "cek_berat (Budi='gemuk') #kata awalan disini adalah budi tidak perlu pakai tanda petik('') karna sudah tau bakal str"
   ]
  },
  {
   "cell_type": "code",
   "execution_count": 27,
   "id": "b7a023a6",
   "metadata": {},
   "outputs": [
    {
     "name": "stdout",
     "output_type": "stream",
     "text": [
      "berat Budi tergolong ke kategori gemuk\n"
     ]
    }
   ],
   "source": [
    "cek_berat (Budi='gemuk', joko='kurus') #tidak bakal eror karena **kwargs bisa diisi item berapapun"
   ]
  },
  {
   "cell_type": "markdown",
   "id": "40c33a40",
   "metadata": {},
   "source": [
    "# menggabungkan *args dan **kwargs"
   ]
  },
  {
   "cell_type": "code",
   "execution_count": 61,
   "id": "6e6babe7",
   "metadata": {},
   "outputs": [],
   "source": [
    "def fungsiku (*args, **kwargs):\n",
    "    print('saya ingin membeli {} {} secara tunai'.format (args[0], kwargs['makanan']))"
   ]
  },
  {
   "cell_type": "code",
   "execution_count": 62,
   "id": "49a0be35",
   "metadata": {},
   "outputs": [
    {
     "name": "stdout",
     "output_type": "stream",
     "text": [
      "saya ingin membeli 23 apel secara tunai\n"
     ]
    }
   ],
   "source": [
    "fungsiku (23,27,89, makanan='apel')"
   ]
  }
 ],
 "metadata": {
  "kernelspec": {
   "display_name": "Python 3 (ipykernel)",
   "language": "python",
   "name": "python3"
  },
  "language_info": {
   "codemirror_mode": {
    "name": "ipython",
    "version": 3
   },
   "file_extension": ".py",
   "mimetype": "text/x-python",
   "name": "python",
   "nbconvert_exporter": "python",
   "pygments_lexer": "ipython3",
   "version": "3.11.4"
  }
 },
 "nbformat": 4,
 "nbformat_minor": 5
}
