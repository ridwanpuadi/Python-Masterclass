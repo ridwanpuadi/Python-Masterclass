{
 "cells": [
  {
   "cell_type": "markdown",
   "id": "cad34ae5",
   "metadata": {},
   "source": [
    "**Perintah-perintah dalam Error Handling**\n",
    "\n",
    "* **Try** Mencoba mengeksekusi argumen setelah perintah try bisa jadi argumennya akan error bisa jadi tidak\n",
    "* **Except** Akan mengeksekusi argumen setelah perintah except, hanya jika terjadi error di perintah try sebelumnya\n",
    "* **Finally** Akan mengeksekusi argumen setelah perintah finally, apapun yang terjadi di atasnya\n",
    "* **Raise** Akan mengeluarkan keterangan error di dalam program"
   ]
  },
  {
   "cell_type": "code",
   "execution_count": 1,
   "id": "f5e55c66",
   "metadata": {
    "scrolled": true
   },
   "outputs": [
    {
     "name": "stdout",
     "output_type": "stream",
     "text": [
      "cetak\n"
     ]
    }
   ],
   "source": [
    "print ('cetak')"
   ]
  },
  {
   "cell_type": "code",
   "execution_count": 5,
   "id": "2ed43569",
   "metadata": {},
   "outputs": [
    {
     "name": "stdout",
     "output_type": "stream",
     "text": [
      "masukanlah angka = 12\n",
      "12\n"
     ]
    }
   ],
   "source": [
    "print(int(input('masukanlah angka = '))) "
   ]
  },
  {
   "cell_type": "code",
   "execution_count": 4,
   "id": "a0d8d1f8",
   "metadata": {
    "scrolled": true
   },
   "outputs": [
    {
     "name": "stdout",
     "output_type": "stream",
     "text": [
      "masukanlah angka = ok\n"
     ]
    },
    {
     "ename": "ValueError",
     "evalue": "invalid literal for int() with base 10: 'ok'",
     "output_type": "error",
     "traceback": [
      "\u001b[1;31m---------------------------------------------------------------------------\u001b[0m",
      "\u001b[1;31mValueError\u001b[0m                                Traceback (most recent call last)",
      "Cell \u001b[1;32mIn[4], line 1\u001b[0m\n\u001b[1;32m----> 1\u001b[0m \u001b[38;5;28mprint\u001b[39m(\u001b[38;5;28mint\u001b[39m(\u001b[38;5;28minput\u001b[39m(\u001b[38;5;124m'\u001b[39m\u001b[38;5;124mmasukanlah angka = \u001b[39m\u001b[38;5;124m'\u001b[39m)))\n",
      "\u001b[1;31mValueError\u001b[0m: invalid literal for int() with base 10: 'ok'"
     ]
    }
   ],
   "source": [
    "print(int(input('masukanlah angka = '))) #yang dimasukan harus integer"
   ]
  },
  {
   "cell_type": "code",
   "execution_count": 7,
   "id": "756eb439",
   "metadata": {},
   "outputs": [
    {
     "name": "stdout",
     "output_type": "stream",
     "text": [
      "masukanlah angka = 12\n",
      "12\n"
     ]
    }
   ],
   "source": [
    "# Penggunaan Try\n",
    "\n",
    "try:\n",
    "    print(int(input('masukanlah angka = '))) \n",
    "except:\n",
    "    print ('tolong masukan angka yang benar')"
   ]
  },
  {
   "cell_type": "code",
   "execution_count": 8,
   "id": "ef0d77cf",
   "metadata": {},
   "outputs": [
    {
     "name": "stdout",
     "output_type": "stream",
     "text": [
      "masukanlah angka = Kudil\n",
      "tolong masukan angka yang benar\n"
     ]
    }
   ],
   "source": [
    "try:\n",
    "    print(int(input('masukanlah angka = '))) \n",
    "except:\n",
    "    print ('tolong masukan angka yang benar')"
   ]
  },
  {
   "cell_type": "code",
   "execution_count": 9,
   "id": "8cd9d437",
   "metadata": {},
   "outputs": [
    {
     "name": "stdout",
     "output_type": "stream",
     "text": [
      "masukanlah angka = 12\n",
      "12\n",
      "terimakasih sudah memasukan angka yang benar\n"
     ]
    }
   ],
   "source": [
    "while True:\n",
    "    try:\n",
    "        print(int(input('masukanlah angka = '))) \n",
    "    except:\n",
    "        print ('tolong masukan angka yang benar')\n",
    "    else: \n",
    "        print ('terimakasih sudah memasukan angka yang benar')\n",
    "        break"
   ]
  },
  {
   "cell_type": "code",
   "execution_count": 10,
   "id": "7342d328",
   "metadata": {},
   "outputs": [
    {
     "name": "stdout",
     "output_type": "stream",
     "text": [
      "masukanlah angka = Kudil\n",
      "tolong masukan angka yang benar\n",
      "masukanlah angka = Dede\n",
      "tolong masukan angka yang benar\n",
      "masukanlah angka = Madun\n",
      "tolong masukan angka yang benar\n",
      "masukanlah angka = Vijay\n",
      "tolong masukan angka yang benar\n",
      "masukanlah angka = 12\n",
      "12\n",
      "terimakasih sudah memasukan angka yang benar\n"
     ]
    }
   ],
   "source": [
    "# APAPUN ERROR YANG TERJADI SEMUA AKAN MASUK KE GOLONGAN EXCEPT\n",
    "\n",
    "while True:\n",
    "    try:\n",
    "        print(int(input('masukanlah angka = '))) \n",
    "    except:\n",
    "        print ('tolong masukan angka yang benar')\n",
    "    else: \n",
    "        print ('terimakasih sudah memasukan angka yang benar')\n",
    "        break"
   ]
  },
  {
   "cell_type": "code",
   "execution_count": null,
   "id": "a737e149",
   "metadata": {},
   "outputs": [],
   "source": [
    "while True:\n",
    "    try:\n",
    "        print(int(input('masukanlah angka = '))) \n",
    "    except:\n",
    "        print ('tolong masukan angka yang benar')\n",
    "    else: \n",
    "        print ('terimakasih sudah memasukan angka yang benar')\n",
    "        break"
   ]
  },
  {
   "cell_type": "code",
   "execution_count": 11,
   "id": "ea57da50",
   "metadata": {},
   "outputs": [
    {
     "ename": "ZeroDivisionError",
     "evalue": "division by zero",
     "output_type": "error",
     "traceback": [
      "\u001b[1;31m---------------------------------------------------------------------------\u001b[0m",
      "\u001b[1;31mZeroDivisionError\u001b[0m                         Traceback (most recent call last)",
      "Cell \u001b[1;32mIn[11], line 3\u001b[0m\n\u001b[0;32m      1\u001b[0m \u001b[38;5;66;03m# Konsep sederhana\u001b[39;00m\n\u001b[1;32m----> 3\u001b[0m \u001b[38;5;28mprint\u001b[39m (\u001b[38;5;241m5\u001b[39m\u001b[38;5;241m/\u001b[39m\u001b[38;5;241m0\u001b[39m)\n",
      "\u001b[1;31mZeroDivisionError\u001b[0m: division by zero"
     ]
    }
   ],
   "source": [
    "# Konsep sederhana (1)\n",
    "\n",
    "print (5/0) # segala sesuatu yang dibagi null maka akan error disebut \"ZeroDivisionError\""
   ]
  },
  {
   "cell_type": "code",
   "execution_count": 12,
   "id": "0068f19c",
   "metadata": {},
   "outputs": [
    {
     "ename": "TypeError",
     "evalue": "unsupported operand type(s) for +: 'int' and 'str'",
     "output_type": "error",
     "traceback": [
      "\u001b[1;31m---------------------------------------------------------------------------\u001b[0m",
      "\u001b[1;31mTypeError\u001b[0m                                 Traceback (most recent call last)",
      "Cell \u001b[1;32mIn[12], line 3\u001b[0m\n\u001b[0;32m      1\u001b[0m \u001b[38;5;66;03m# konsep (2)\u001b[39;00m\n\u001b[1;32m----> 3\u001b[0m \u001b[38;5;28mprint\u001b[39m (\u001b[38;5;241m1\u001b[39m\u001b[38;5;241m+\u001b[39m\u001b[38;5;124m'\u001b[39m\u001b[38;5;124mkudil\u001b[39m\u001b[38;5;124m'\u001b[39m)\n",
      "\u001b[1;31mTypeError\u001b[0m: unsupported operand type(s) for +: 'int' and 'str'"
     ]
    }
   ],
   "source": [
    "# konsep (2) \n",
    "# jenis-jenis error bisa dibaca di dokumentasi Built-in Exceptions in Python\n",
    "\n",
    "print (1+'kudil') # print penggabungan int + str maka akan error disebut \"TypeError\""
   ]
  },
  {
   "cell_type": "code",
   "execution_count": 13,
   "id": "09bbeaab",
   "metadata": {},
   "outputs": [
    {
     "name": "stdout",
     "output_type": "stream",
     "text": [
      "masukanlah angka = Kudil\n"
     ]
    },
    {
     "ename": "ValueError",
     "evalue": "invalid literal for int() with base 10: 'Kudil'",
     "output_type": "error",
     "traceback": [
      "\u001b[1;31m---------------------------------------------------------------------------\u001b[0m",
      "\u001b[1;31mValueError\u001b[0m                                Traceback (most recent call last)",
      "Cell \u001b[1;32mIn[13], line 1\u001b[0m\n\u001b[1;32m----> 1\u001b[0m \u001b[38;5;28mprint\u001b[39m(\u001b[38;5;28mint\u001b[39m(\u001b[38;5;28minput\u001b[39m(\u001b[38;5;124m'\u001b[39m\u001b[38;5;124mmasukanlah angka = \u001b[39m\u001b[38;5;124m'\u001b[39m)))\n",
      "\u001b[1;31mValueError\u001b[0m: invalid literal for int() with base 10: 'Kudil'"
     ]
    }
   ],
   "source": [
    "print(int(input('masukanlah angka = '))) #yang dimasukan harus integer selain itu maka akan \"ValueError\""
   ]
  },
  {
   "cell_type": "code",
   "execution_count": 14,
   "id": "c667c94d",
   "metadata": {},
   "outputs": [
    {
     "name": "stdout",
     "output_type": "stream",
     "text": [
      "masukanlah angka = 0\n",
      "Tolong masukan angka lebih besar dari 0\n",
      "masukanlah angka = kudil\n",
      "Tolong masukan angka dan bukan karakter\n",
      "masukanlah angka = 10\n",
      "2.0\n",
      "terimakasih sudah memasukan angka yang benar\n"
     ]
    }
   ],
   "source": [
    "while True:\n",
    "    try:\n",
    "        angka =(int(input('masukanlah angka = '))) \n",
    "        print(20/angka)\n",
    "    except ZeroDivisionError:\n",
    "        print ('Tolong masukan angka lebih besar dari 0')\n",
    "    except ValueError:\n",
    "        print ('Tolong masukan angka dan bukan karakter')\n",
    "    else: \n",
    "        print ('terimakasih sudah memasukan angka yang benar')\n",
    "        break"
   ]
  },
  {
   "cell_type": "code",
   "execution_count": null,
   "id": "217eb510",
   "metadata": {},
   "outputs": [],
   "source": [
    "# handling error dalam definition\n",
    "\n",
    "def hitung (a1,a2):\n",
    "    return a1+a2"
   ]
  },
  {
   "cell_type": "code",
   "execution_count": 16,
   "id": "85c433c5",
   "metadata": {},
   "outputs": [
    {
     "name": "stdout",
     "output_type": "stream",
     "text": [
      "15\n"
     ]
    }
   ],
   "source": [
    "print(hitung(7,8))"
   ]
  },
  {
   "cell_type": "code",
   "execution_count": 17,
   "id": "8b37846d",
   "metadata": {},
   "outputs": [
    {
     "ename": "TypeError",
     "evalue": "unsupported operand type(s) for +: 'int' and 'str'",
     "output_type": "error",
     "traceback": [
      "\u001b[1;31m---------------------------------------------------------------------------\u001b[0m",
      "\u001b[1;31mTypeError\u001b[0m                                 Traceback (most recent call last)",
      "Cell \u001b[1;32mIn[17], line 1\u001b[0m\n\u001b[1;32m----> 1\u001b[0m \u001b[38;5;28mprint\u001b[39m(hitung(\u001b[38;5;241m7\u001b[39m,\u001b[38;5;124m'\u001b[39m\u001b[38;5;124mkudil\u001b[39m\u001b[38;5;124m'\u001b[39m))\n",
      "Cell \u001b[1;32mIn[15], line 2\u001b[0m, in \u001b[0;36mhitung\u001b[1;34m(a1, a2)\u001b[0m\n\u001b[0;32m      1\u001b[0m \u001b[38;5;28;01mdef\u001b[39;00m \u001b[38;5;21mhitung\u001b[39m (a1,a2):\n\u001b[1;32m----> 2\u001b[0m     \u001b[38;5;28;01mreturn\u001b[39;00m a1\u001b[38;5;241m+\u001b[39ma2\n",
      "\u001b[1;31mTypeError\u001b[0m: unsupported operand type(s) for +: 'int' and 'str'"
     ]
    }
   ],
   "source": [
    "print(hitung(7,'kudil'))"
   ]
  },
  {
   "cell_type": "markdown",
   "id": "afc5f4e9",
   "metadata": {},
   "source": [
    "**catatan** dalam kasus ini nilai a1 dan a2 itu harus berupa angka dan string. jika diisikan berupa variabel yang belum di definisikan, maka akan memberikan keterangan 'NameError'"
   ]
  },
  {
   "cell_type": "code",
   "execution_count": 1,
   "id": "dcd6a8a0",
   "metadata": {},
   "outputs": [],
   "source": [
    "def hitung (a1,a2):\n",
    "    \n",
    "    while True:\n",
    "        try:\n",
    "            a1+a2\n",
    "        except:\n",
    "            print ('masukanlah angka pada fungsi hitung dan bukan karakter')\n",
    "            while True:\n",
    "                try:\n",
    "                    a1 = int(input('masukanlah nilai pertama berupa angka = '))\n",
    "                    b2 = int(input('masukanlah nilai kedua berupa angka = '))\n",
    "                except:\n",
    "                    print ('nilai yang dimasukan harus berupa angka dan bukan karakter')\n",
    "                else:\n",
    "                    break\n",
    "        else:\n",
    "            print(a1+a2)\n",
    "            print('selamat fungsi anda sudah berhasil dijalankan')\n",
    "            break"
   ]
  },
  {
   "cell_type": "code",
   "execution_count": 2,
   "id": "fad9208b",
   "metadata": {},
   "outputs": [
    {
     "name": "stdout",
     "output_type": "stream",
     "text": [
      "4\n",
      "selamat fungsi anda sudah berhasil dijalankan\n"
     ]
    }
   ],
   "source": [
    "hitung (1,3)"
   ]
  },
  {
   "cell_type": "code",
   "execution_count": null,
   "id": "4c07f303",
   "metadata": {},
   "outputs": [],
   "source": [
    "hitung (1,5)"
   ]
  },
  {
   "cell_type": "code",
   "execution_count": null,
   "id": "544b518d",
   "metadata": {},
   "outputs": [],
   "source": []
  }
 ],
 "metadata": {
  "kernelspec": {
   "display_name": "Python 3 (ipykernel)",
   "language": "python",
   "name": "python3"
  },
  "language_info": {
   "codemirror_mode": {
    "name": "ipython",
    "version": 3
   },
   "file_extension": ".py",
   "mimetype": "text/x-python",
   "name": "python",
   "nbconvert_exporter": "python",
   "pygments_lexer": "ipython3",
   "version": "3.11.4"
  }
 },
 "nbformat": 4,
 "nbformat_minor": 5
}
