{
 "cells": [
  {
   "cell_type": "code",
   "execution_count": 15,
   "id": "ff0afbdf",
   "metadata": {},
   "outputs": [],
   "source": [
    "import numpy as np"
   ]
  },
  {
   "cell_type": "code",
   "execution_count": 16,
   "id": "17eb7ab6",
   "metadata": {},
   "outputs": [
    {
     "data": {
      "text/plain": [
       "array([0.62145478, 0.93180133, 0.3683911 , 0.03344113, 0.61924157,\n",
       "       0.79949862, 0.24279062])"
      ]
     },
     "execution_count": 16,
     "metadata": {},
     "output_type": "execute_result"
    }
   ],
   "source": [
    "# bilangan distribusi uniform (0-1)\n",
    "\n",
    "np.random.rand(7) #bilangan random 7 list"
   ]
  },
  {
   "cell_type": "code",
   "execution_count": 17,
   "id": "64767aaf",
   "metadata": {},
   "outputs": [
    {
     "data": {
      "text/plain": [
       "array([[0.58885814, 0.42909117, 0.55548163, 0.54350304],\n",
       "       [0.87940099, 0.28964915, 0.50120118, 0.42604704],\n",
       "       [0.49400207, 0.37296248, 0.25558756, 0.26839237],\n",
       "       [0.27964674, 0.3162291 , 0.07406649, 0.92246512],\n",
       "       [0.66662205, 0.98297645, 0.70520722, 0.51101099]])"
      ]
     },
     "execution_count": 17,
     "metadata": {},
     "output_type": "execute_result"
    }
   ],
   "source": [
    "# bilangan distribusi uniform (0-1) matriks dua dimensi\n",
    "\n",
    "np.random.rand(5,4)"
   ]
  },
  {
   "cell_type": "code",
   "execution_count": 18,
   "id": "afaf4839",
   "metadata": {},
   "outputs": [
    {
     "data": {
      "text/plain": [
       "array([ 1.90766814, -0.72446307, -0.18869831,  1.21030175,  0.04522266,\n",
       "        0.93487766, -0.08311853,  0.49473814,  0.44678763, -1.3261697 ])"
      ]
     },
     "execution_count": 18,
     "metadata": {},
     "output_type": "execute_result"
    }
   ],
   "source": [
    "# distribusi normal (gaussian) angkanya tidak lagi 0-1 melainkan minus (-) tak hingga sampi plus (+) tak hingga\n",
    "\n",
    "np.random.randn(10)"
   ]
  },
  {
   "cell_type": "code",
   "execution_count": 19,
   "id": "6d503581",
   "metadata": {},
   "outputs": [
    {
     "data": {
      "text/plain": [
       "array([[ 0.71343929,  0.58155417, -1.07342103,  1.56715894],\n",
       "       [ 0.31831913, -1.19968689,  2.45776316, -0.77423726],\n",
       "       [-0.58671067, -0.05894615, -0.4429161 ,  1.53356668],\n",
       "       [-0.43945574,  2.26399083, -0.93868477,  1.16357706]])"
      ]
     },
     "execution_count": 19,
     "metadata": {},
     "output_type": "execute_result"
    }
   ],
   "source": [
    "# distribusi normal (gaussian) matriks dua dimensi\n",
    "\n",
    "np.random.randn(4,4)"
   ]
  },
  {
   "cell_type": "code",
   "execution_count": 20,
   "id": "515d1050",
   "metadata": {},
   "outputs": [],
   "source": [
    "# ada cara cepat agar tidak terlalu panjang\n",
    "\n",
    "from numpy.random import randn"
   ]
  },
  {
   "cell_type": "code",
   "execution_count": 21,
   "id": "ed30c58e",
   "metadata": {},
   "outputs": [
    {
     "data": {
      "text/plain": [
       "array([[ 0.35278583,  0.02050464],\n",
       "       [-0.29141732,  0.68063802],\n",
       "       [-1.3237619 , -0.84019147],\n",
       "       [ 0.59019744, -0.61687342],\n",
       "       [-1.07191364,  0.45719011],\n",
       "       [ 0.38989933,  0.92060242]])"
      ]
     },
     "execution_count": 21,
     "metadata": {},
     "output_type": "execute_result"
    }
   ],
   "source": [
    "randn(6,2)"
   ]
  },
  {
   "cell_type": "code",
   "execution_count": 22,
   "id": "134ba498",
   "metadata": {},
   "outputs": [],
   "source": [
    "from numpy.random import rand"
   ]
  },
  {
   "cell_type": "code",
   "execution_count": 23,
   "id": "825ca8fb",
   "metadata": {},
   "outputs": [
    {
     "data": {
      "text/plain": [
       "array([[ 0.74976671, -0.36474426,  1.37921738,  0.58316481],\n",
       "       [-1.49685246, -0.51352208,  1.11267023, -1.81219717],\n",
       "       [ 1.37676135,  1.43104529, -0.22762528,  1.6241492 ]])"
      ]
     },
     "execution_count": 23,
     "metadata": {},
     "output_type": "execute_result"
    }
   ],
   "source": [
    "randn(3,4)"
   ]
  },
  {
   "cell_type": "code",
   "execution_count": 24,
   "id": "1def39ca",
   "metadata": {},
   "outputs": [],
   "source": [
    "from numpy.random import randn, randint #mengenerate sebuah integer"
   ]
  },
  {
   "cell_type": "code",
   "execution_count": 25,
   "id": "9fb7fa1d",
   "metadata": {},
   "outputs": [
    {
     "data": {
      "text/plain": [
       "6"
      ]
     },
     "execution_count": 25,
     "metadata": {},
     "output_type": "execute_result"
    }
   ],
   "source": [
    "randint(0,10)"
   ]
  },
  {
   "cell_type": "code",
   "execution_count": 26,
   "id": "ab222928",
   "metadata": {},
   "outputs": [
    {
     "data": {
      "text/plain": [
       "array([2, 3, 7, 3, 9])"
      ]
     },
     "execution_count": 26,
     "metadata": {},
     "output_type": "execute_result"
    }
   ],
   "source": [
    "randint(0,10,5) # butuh 5 angka integer dari bilangan 0 - 10"
   ]
  },
  {
   "cell_type": "code",
   "execution_count": 27,
   "id": "cb1b6918",
   "metadata": {},
   "outputs": [],
   "source": [
    "bilangan = randint (0,100,20) # butuh 20 angka integer dari bilangan 0 - 100"
   ]
  },
  {
   "cell_type": "code",
   "execution_count": 28,
   "id": "23623d63",
   "metadata": {},
   "outputs": [
    {
     "data": {
      "text/plain": [
       "array([70, 41, 34, 84,  4, 90, 60, 57, 61, 31, 29, 16, 95, 46, 27, 63, 25,\n",
       "       25, 36, 82])"
      ]
     },
     "execution_count": 28,
     "metadata": {},
     "output_type": "execute_result"
    }
   ],
   "source": [
    "bilangan"
   ]
  },
  {
   "cell_type": "code",
   "execution_count": 29,
   "id": "f90e11e0",
   "metadata": {},
   "outputs": [
    {
     "data": {
      "text/plain": [
       "array([[70, 41, 34, 84,  4, 90, 60, 57, 61, 31],\n",
       "       [29, 16, 95, 46, 27, 63, 25, 25, 36, 82]])"
      ]
     },
     "execution_count": 29,
     "metadata": {},
     "output_type": "execute_result"
    }
   ],
   "source": [
    "bilangan.reshape(2,10) # mengkalikan dua dimensi"
   ]
  },
  {
   "cell_type": "code",
   "execution_count": 30,
   "id": "c7802bca",
   "metadata": {},
   "outputs": [],
   "source": [
    "from numpy.random import rand, randn, randint"
   ]
  },
  {
   "cell_type": "code",
   "execution_count": 31,
   "id": "c152c017",
   "metadata": {},
   "outputs": [
    {
     "data": {
      "text/plain": [
       "array([0, 2, 2, 0, 1])"
      ]
     },
     "execution_count": 31,
     "metadata": {},
     "output_type": "execute_result"
    }
   ],
   "source": [
    "randint (0,3,5) #maka angka 3 tidak diikutkan karena slicing"
   ]
  },
  {
   "cell_type": "code",
   "execution_count": 32,
   "id": "bf7b81a7",
   "metadata": {},
   "outputs": [
    {
     "data": {
      "text/plain": [
       "array([3, 8, 3, 1, 5, 6, 1, 5, 4, 3, 1, 2, 8, 3, 3, 5, 2, 4, 9, 8, 1, 0,\n",
       "       8, 3, 5])"
      ]
     },
     "execution_count": 32,
     "metadata": {},
     "output_type": "execute_result"
    }
   ],
   "source": [
    "randint (0,10,25)"
   ]
  },
  {
   "cell_type": "code",
   "execution_count": 33,
   "id": "46f56608",
   "metadata": {},
   "outputs": [
    {
     "data": {
      "text/plain": [
       "array([[5, 2, 3, 5],\n",
       "       [2, 5, 2, 5],\n",
       "       [3, 2, 9, 7],\n",
       "       [0, 0, 6, 4],\n",
       "       [2, 4, 3, 2]])"
      ]
     },
     "execution_count": 33,
     "metadata": {},
     "output_type": "execute_result"
    }
   ],
   "source": [
    "coba = randint (0,10,20).reshape(5,4)\n",
    "coba"
   ]
  },
  {
   "cell_type": "code",
   "execution_count": 34,
   "id": "555168ed",
   "metadata": {},
   "outputs": [
    {
     "data": {
      "text/plain": [
       "array([[5, 2, 3, 5, 2, 5, 2, 5, 3, 2],\n",
       "       [9, 7, 0, 0, 6, 4, 2, 4, 3, 2]])"
      ]
     },
     "execution_count": 34,
     "metadata": {},
     "output_type": "execute_result"
    }
   ],
   "source": [
    "coba.reshape(2,10)"
   ]
  },
  {
   "cell_type": "code",
   "execution_count": 35,
   "id": "011e0fe2",
   "metadata": {},
   "outputs": [],
   "source": [
    "coba = coba.reshape(2,10)"
   ]
  },
  {
   "cell_type": "code",
   "execution_count": 36,
   "id": "33cc748f",
   "metadata": {},
   "outputs": [
    {
     "data": {
      "text/plain": [
       "array([[5, 2, 3, 5, 2, 5, 2, 5, 3, 2],\n",
       "       [9, 7, 0, 0, 6, 4, 2, 4, 3, 2]])"
      ]
     },
     "execution_count": 36,
     "metadata": {},
     "output_type": "execute_result"
    }
   ],
   "source": [
    "coba"
   ]
  },
  {
   "cell_type": "code",
   "execution_count": 37,
   "id": "171fe220",
   "metadata": {},
   "outputs": [],
   "source": [
    "from numpy.random import rand, randn, randint"
   ]
  },
  {
   "cell_type": "code",
   "execution_count": 38,
   "id": "e720d26c",
   "metadata": {},
   "outputs": [],
   "source": [
    "# membuat satu dimensi dengan dua dimensi\n",
    "\n",
    "coba1d = randint (0,100,20) #ini satu dimensi"
   ]
  },
  {
   "cell_type": "code",
   "execution_count": 39,
   "id": "7594bce9",
   "metadata": {},
   "outputs": [],
   "source": [
    "coba2d = randint (0,100,20).reshape(4,5) #ini dua dimensi"
   ]
  },
  {
   "cell_type": "code",
   "execution_count": 40,
   "id": "74658b11",
   "metadata": {},
   "outputs": [
    {
     "data": {
      "text/plain": [
       "array([32, 58, 59, 43, 35, 14, 17, 75, 88, 13, 82, 26, 56, 82, 86, 69, 44,\n",
       "       51, 21, 24])"
      ]
     },
     "execution_count": 40,
     "metadata": {},
     "output_type": "execute_result"
    }
   ],
   "source": [
    "coba1d"
   ]
  },
  {
   "cell_type": "code",
   "execution_count": 41,
   "id": "fa40d1ea",
   "metadata": {},
   "outputs": [
    {
     "data": {
      "text/plain": [
       "array([[ 9, 91, 74, 81, 66],\n",
       "       [95, 87, 27, 87, 19],\n",
       "       [63, 75, 95, 44,  6],\n",
       "       [ 8, 57, 39, 52, 21]])"
      ]
     },
     "execution_count": 41,
     "metadata": {},
     "output_type": "execute_result"
    }
   ],
   "source": [
    "coba2d"
   ]
  },
  {
   "cell_type": "code",
   "execution_count": 42,
   "id": "c75c0d32",
   "metadata": {},
   "outputs": [
    {
     "data": {
      "text/plain": [
       "88"
      ]
     },
     "execution_count": 42,
     "metadata": {},
     "output_type": "execute_result"
    }
   ],
   "source": [
    "coba1d.max() #melihat nilai terbesar dari 1 dimensi"
   ]
  },
  {
   "cell_type": "code",
   "execution_count": 43,
   "id": "ac7ef88b",
   "metadata": {},
   "outputs": [
    {
     "data": {
      "text/plain": [
       "95"
      ]
     },
     "execution_count": 43,
     "metadata": {},
     "output_type": "execute_result"
    }
   ],
   "source": [
    "coba2d.max() #melihat nilai terbesar dari 2 dimensi"
   ]
  },
  {
   "cell_type": "code",
   "execution_count": 44,
   "id": "d757ba38",
   "metadata": {},
   "outputs": [
    {
     "data": {
      "text/plain": [
       "13"
      ]
     },
     "execution_count": 44,
     "metadata": {},
     "output_type": "execute_result"
    }
   ],
   "source": [
    "coba1d.min() #melihat nilai terkecil dari 1 dimensi"
   ]
  },
  {
   "cell_type": "code",
   "execution_count": 45,
   "id": "80f9b8b9",
   "metadata": {},
   "outputs": [
    {
     "data": {
      "text/plain": [
       "6"
      ]
     },
     "execution_count": 45,
     "metadata": {},
     "output_type": "execute_result"
    }
   ],
   "source": [
    "coba2d.min() #melihat nilai terkecil dari 2 dimensi"
   ]
  },
  {
   "cell_type": "code",
   "execution_count": 46,
   "id": "58787bb8",
   "metadata": {},
   "outputs": [
    {
     "data": {
      "text/plain": [
       "8"
      ]
     },
     "execution_count": 46,
     "metadata": {},
     "output_type": "execute_result"
    }
   ],
   "source": [
    "coba1d.argmax () #melihat indeks keberapa nilai terbesar dari dimensi 1"
   ]
  },
  {
   "cell_type": "code",
   "execution_count": 47,
   "id": "98f224b2",
   "metadata": {},
   "outputs": [
    {
     "data": {
      "text/plain": [
       "5"
      ]
     },
     "execution_count": 47,
     "metadata": {},
     "output_type": "execute_result"
    }
   ],
   "source": [
    "coba2d.argmax ()"
   ]
  },
  {
   "cell_type": "code",
   "execution_count": 48,
   "id": "e7915a35",
   "metadata": {},
   "outputs": [
    {
     "data": {
      "text/plain": [
       "9"
      ]
     },
     "execution_count": 48,
     "metadata": {},
     "output_type": "execute_result"
    }
   ],
   "source": [
    "coba1d.argmin () #melihat indeks keberapa nilai terkecil dari dimensi 1"
   ]
  },
  {
   "cell_type": "code",
   "execution_count": 49,
   "id": "0fd11dfe",
   "metadata": {},
   "outputs": [
    {
     "data": {
      "text/plain": [
       "14"
      ]
     },
     "execution_count": 49,
     "metadata": {},
     "output_type": "execute_result"
    }
   ],
   "source": [
    "coba2d.argmin ()"
   ]
  },
  {
   "cell_type": "code",
   "execution_count": 49,
   "id": "8e73dfa5",
   "metadata": {},
   "outputs": [],
   "source": [
    "# perlu diperhatikan penggunaan argmax dan agrmin akan sangat berguna di AI dan data science"
   ]
  },
  {
   "cell_type": "code",
   "execution_count": 50,
   "id": "fd4f2943",
   "metadata": {},
   "outputs": [
    {
     "data": {
      "text/plain": [
       "(20,)"
      ]
     },
     "execution_count": 50,
     "metadata": {},
     "output_type": "execute_result"
    }
   ],
   "source": [
    "coba1d.shape #agar tahu dimensi array/matriks kita seperti apa"
   ]
  },
  {
   "cell_type": "code",
   "execution_count": 51,
   "id": "b36b6121",
   "metadata": {},
   "outputs": [
    {
     "data": {
      "text/plain": [
       "(4, 5)"
      ]
     },
     "execution_count": 51,
     "metadata": {},
     "output_type": "execute_result"
    }
   ],
   "source": [
    "coba2d.shape"
   ]
  },
  {
   "cell_type": "code",
   "execution_count": 52,
   "id": "5f2140a1",
   "metadata": {},
   "outputs": [
    {
     "data": {
      "text/plain": [
       "dtype('int32')"
      ]
     },
     "execution_count": 52,
     "metadata": {},
     "output_type": "execute_result"
    }
   ],
   "source": [
    "coba1d.dtype"
   ]
  },
  {
   "cell_type": "markdown",
   "id": "3e2ed7b0",
   "metadata": {},
   "source": [
    "# Indexing di Numpy"
   ]
  },
  {
   "cell_type": "code",
   "execution_count": 53,
   "id": "919435ca",
   "metadata": {},
   "outputs": [],
   "source": [
    "import numpy as np"
   ]
  },
  {
   "cell_type": "code",
   "execution_count": 56,
   "id": "f13fb022",
   "metadata": {},
   "outputs": [
    {
     "data": {
      "text/plain": [
       "array([ 0,  1,  2,  3,  4,  5,  6,  7,  8,  9, 10])"
      ]
     },
     "execution_count": 56,
     "metadata": {},
     "output_type": "execute_result"
    }
   ],
   "source": [
    "coba = np.arange(0,11)\n",
    "coba"
   ]
  },
  {
   "cell_type": "code",
   "execution_count": 57,
   "id": "c0ba46a6",
   "metadata": {},
   "outputs": [
    {
     "data": {
      "text/plain": [
       "7"
      ]
     },
     "execution_count": 57,
     "metadata": {},
     "output_type": "execute_result"
    }
   ],
   "source": [
    "coba [7]"
   ]
  },
  {
   "cell_type": "code",
   "execution_count": 58,
   "id": "cde3979e",
   "metadata": {},
   "outputs": [
    {
     "data": {
      "text/plain": [
       "array([ 5,  6,  7,  8,  9, 10])"
      ]
     },
     "execution_count": 58,
     "metadata": {},
     "output_type": "execute_result"
    }
   ],
   "source": [
    "coba[5:]"
   ]
  },
  {
   "cell_type": "code",
   "execution_count": 59,
   "id": "4e90e64c",
   "metadata": {},
   "outputs": [
    {
     "data": {
      "text/plain": [
       "array([5, 6, 7, 8])"
      ]
     },
     "execution_count": 59,
     "metadata": {},
     "output_type": "execute_result"
    }
   ],
   "source": [
    "coba[5:9]"
   ]
  },
  {
   "cell_type": "code",
   "execution_count": 60,
   "id": "d0c090c9",
   "metadata": {},
   "outputs": [
    {
     "data": {
      "text/plain": [
       "array([0, 1, 2, 3, 4, 5, 6])"
      ]
     },
     "execution_count": 60,
     "metadata": {},
     "output_type": "execute_result"
    }
   ],
   "source": [
    "coba[:7]"
   ]
  },
  {
   "cell_type": "code",
   "execution_count": 62,
   "id": "177ed917",
   "metadata": {},
   "outputs": [
    {
     "data": {
      "text/plain": [
       "array([0, 1, 2, 3, 4, 5])"
      ]
     },
     "execution_count": 62,
     "metadata": {},
     "output_type": "execute_result"
    }
   ],
   "source": [
    "coba2 = coba [:6]\n",
    "coba2"
   ]
  },
  {
   "cell_type": "code",
   "execution_count": 63,
   "id": "050d1dca",
   "metadata": {},
   "outputs": [
    {
     "data": {
      "text/plain": [
       "array([100, 100, 100, 100, 100, 100])"
      ]
     },
     "execution_count": 63,
     "metadata": {},
     "output_type": "execute_result"
    }
   ],
   "source": [
    "coba2 [:] = 100\n",
    "coba2    # di numpy jika kita otak-atik coba2 maka akan berpengaruh pada coba"
   ]
  },
  {
   "cell_type": "code",
   "execution_count": 64,
   "id": "1adbf138",
   "metadata": {},
   "outputs": [
    {
     "data": {
      "text/plain": [
       "array([100, 100, 100, 100, 100, 100,   6,   7,   8,   9,  10])"
      ]
     },
     "execution_count": 64,
     "metadata": {},
     "output_type": "execute_result"
    }
   ],
   "source": [
    "coba"
   ]
  },
  {
   "cell_type": "code",
   "execution_count": 65,
   "id": "5323992e",
   "metadata": {},
   "outputs": [],
   "source": [
    "# bagaimana jika coba2 ingin berdiri sendiri yitu dengan copy\n",
    "coba2 = coba.copy()"
   ]
  },
  {
   "cell_type": "code",
   "execution_count": 67,
   "id": "6ddc1053",
   "metadata": {},
   "outputs": [
    {
     "data": {
      "text/plain": [
       "array([200, 200, 200, 200, 200, 200, 200, 200, 200, 200, 200])"
      ]
     },
     "execution_count": 67,
     "metadata": {},
     "output_type": "execute_result"
    }
   ],
   "source": [
    "coba2 [:] = 200\n",
    "coba2"
   ]
  },
  {
   "cell_type": "code",
   "execution_count": 68,
   "id": "3d7ba8ed",
   "metadata": {},
   "outputs": [
    {
     "data": {
      "text/plain": [
       "array([100, 100, 100, 100, 100, 100,   6,   7,   8,   9,  10])"
      ]
     },
     "execution_count": 68,
     "metadata": {},
     "output_type": "execute_result"
    }
   ],
   "source": [
    "coba"
   ]
  },
  {
   "cell_type": "code",
   "execution_count": 69,
   "id": "b2856a86",
   "metadata": {},
   "outputs": [
    {
     "data": {
      "text/plain": [
       "array([[1, 2, 3],\n",
       "       [4, 5, 6],\n",
       "       [7, 8, 9]])"
      ]
     },
     "execution_count": 69,
     "metadata": {},
     "output_type": "execute_result"
    }
   ],
   "source": [
    "bil2d = np.array ([[1,2,3],[4,5,6],[7,8,9]])\n",
    "bil2d"
   ]
  },
  {
   "cell_type": "code",
   "execution_count": 70,
   "id": "f4522ddf",
   "metadata": {},
   "outputs": [
    {
     "data": {
      "text/plain": [
       "1"
      ]
     },
     "execution_count": 70,
     "metadata": {},
     "output_type": "execute_result"
    }
   ],
   "source": [
    "# jika ingin mengambil angka 1 maka tuliskan baris ke berapa diikuti kolom keberapa\n",
    "\n",
    "bil2d [0][0]"
   ]
  },
  {
   "cell_type": "code",
   "execution_count": 71,
   "id": "23f0891e",
   "metadata": {},
   "outputs": [
    {
     "data": {
      "text/plain": [
       "array([4, 5, 6])"
      ]
     },
     "execution_count": 71,
     "metadata": {},
     "output_type": "execute_result"
    }
   ],
   "source": [
    "bil2d[1]"
   ]
  },
  {
   "cell_type": "code",
   "execution_count": 72,
   "id": "42f8bbec",
   "metadata": {},
   "outputs": [
    {
     "data": {
      "text/plain": [
       "9"
      ]
     },
     "execution_count": 72,
     "metadata": {},
     "output_type": "execute_result"
    }
   ],
   "source": [
    "bil2d[2][2]"
   ]
  },
  {
   "cell_type": "code",
   "execution_count": 73,
   "id": "82ce391e",
   "metadata": {},
   "outputs": [
    {
     "data": {
      "text/plain": [
       "9"
      ]
     },
     "execution_count": 73,
     "metadata": {},
     "output_type": "execute_result"
    }
   ],
   "source": [
    "# cara yang direkomendasikan\n",
    "bil2d [2,2]"
   ]
  },
  {
   "cell_type": "code",
   "execution_count": 74,
   "id": "3cb61045",
   "metadata": {},
   "outputs": [
    {
     "data": {
      "text/plain": [
       "1"
      ]
     },
     "execution_count": 74,
     "metadata": {},
     "output_type": "execute_result"
    }
   ],
   "source": [
    "bil2d[0,0]"
   ]
  },
  {
   "cell_type": "code",
   "execution_count": 75,
   "id": "4c3516de",
   "metadata": {},
   "outputs": [
    {
     "data": {
      "text/plain": [
       "array([[1, 2, 3],\n",
       "       [4, 5, 6],\n",
       "       [7, 8, 9]])"
      ]
     },
     "execution_count": 75,
     "metadata": {},
     "output_type": "execute_result"
    }
   ],
   "source": [
    "bil2d"
   ]
  },
  {
   "cell_type": "code",
   "execution_count": 76,
   "id": "86335cff",
   "metadata": {},
   "outputs": [
    {
     "data": {
      "text/plain": [
       "array([[5, 6]])"
      ]
     },
     "execution_count": 76,
     "metadata": {},
     "output_type": "execute_result"
    }
   ],
   "source": [
    "bil2d[1:2,1:] #jika kita ingin mengambil angka 5 dan 6"
   ]
  },
  {
   "cell_type": "markdown",
   "id": "2bc95080",
   "metadata": {},
   "source": [
    "**Slicing dengan boolean di Numpy**"
   ]
  },
  {
   "cell_type": "code",
   "execution_count": 77,
   "id": "d039400e",
   "metadata": {},
   "outputs": [],
   "source": [
    "import numpy as pd"
   ]
  },
  {
   "cell_type": "code",
   "execution_count": 80,
   "id": "67e59d4f",
   "metadata": {},
   "outputs": [
    {
     "data": {
      "text/plain": [
       "array([ 1,  2,  3,  4,  5,  6,  7,  8,  9, 10])"
      ]
     },
     "execution_count": 80,
     "metadata": {},
     "output_type": "execute_result"
    }
   ],
   "source": [
    "bil = np.arange(1,11)\n",
    "bil"
   ]
  },
  {
   "cell_type": "code",
   "execution_count": 81,
   "id": "2657f52e",
   "metadata": {},
   "outputs": [
    {
     "data": {
      "text/plain": [
       "array([False, False, False, False, False,  True,  True,  True,  True,\n",
       "        True])"
      ]
     },
     "execution_count": 81,
     "metadata": {},
     "output_type": "execute_result"
    }
   ],
   "source": [
    "angkaT = bil>5\n",
    "angkaT"
   ]
  },
  {
   "cell_type": "code",
   "execution_count": 82,
   "id": "d11759f9",
   "metadata": {},
   "outputs": [
    {
     "data": {
      "text/plain": [
       "array([ 6,  7,  8,  9, 10])"
      ]
     },
     "execution_count": 82,
     "metadata": {},
     "output_type": "execute_result"
    }
   ],
   "source": [
    "bil = bil [angkaT] # karena ini bersifat True maka angka yang ditampilkan adalah yang >5 = True\n",
    "bil"
   ]
  },
  {
   "cell_type": "code",
   "execution_count": 83,
   "id": "fd538c3f",
   "metadata": {},
   "outputs": [
    {
     "data": {
      "text/plain": [
       "array([ 1,  2,  3,  4,  5,  6,  7,  8,  9, 10])"
      ]
     },
     "execution_count": 83,
     "metadata": {},
     "output_type": "execute_result"
    }
   ],
   "source": [
    "# cara yang lebih simple\n",
    "\n",
    "bil = np.arange(1,11)\n",
    "bil"
   ]
  },
  {
   "cell_type": "code",
   "execution_count": 84,
   "id": "9363e0c7",
   "metadata": {},
   "outputs": [
    {
     "data": {
      "text/plain": [
       "array([ 6,  7,  8,  9, 10])"
      ]
     },
     "execution_count": 84,
     "metadata": {},
     "output_type": "execute_result"
    }
   ],
   "source": [
    "bil[bil>5]"
   ]
  },
  {
   "cell_type": "code",
   "execution_count": 85,
   "id": "7ba22855",
   "metadata": {},
   "outputs": [
    {
     "data": {
      "text/plain": [
       "array([ 6,  7,  8,  9, 10])"
      ]
     },
     "execution_count": 85,
     "metadata": {},
     "output_type": "execute_result"
    }
   ],
   "source": [
    "bil2 = bil[bil>5]\n",
    "bil2"
   ]
  }
 ],
 "metadata": {
  "kernelspec": {
   "display_name": "Python 3 (ipykernel)",
   "language": "python",
   "name": "python3"
  },
  "language_info": {
   "codemirror_mode": {
    "name": "ipython",
    "version": 3
   },
   "file_extension": ".py",
   "mimetype": "text/x-python",
   "name": "python",
   "nbconvert_exporter": "python",
   "pygments_lexer": "ipython3",
   "version": "3.11.4"
  }
 },
 "nbformat": 4,
 "nbformat_minor": 5
}
