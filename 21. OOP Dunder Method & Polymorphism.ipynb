{
 "cells": [
  {
   "cell_type": "markdown",
   "id": "1c0c3e65",
   "metadata": {},
   "source": [
    "**Polymorpism** adalah sebuah teknik di OOP dimana kita bisa menggunakan beberapa fitur dari beberapa class ke dalam sebuah fungsi atau class lain"
   ]
  },
  {
   "cell_type": "code",
   "execution_count": 3,
   "id": "8de82b26",
   "metadata": {},
   "outputs": [],
   "source": [
    "class kucing:\n",
    "    \n",
    "    def __init__(self, nama):\n",
    "        self.nama = nama\n",
    "        \n",
    "    def respon(self):\n",
    "        return self.nama + ' meong-meong'"
   ]
  },
  {
   "cell_type": "code",
   "execution_count": 4,
   "id": "815aeb2d",
   "metadata": {},
   "outputs": [],
   "source": [
    "class anjing:\n",
    "    \n",
    "    def __init__(self, nama):\n",
    "        self.nama = nama\n",
    "        \n",
    "    def respon(self):\n",
    "        return self.nama + ' guk-guk'"
   ]
  },
  {
   "cell_type": "code",
   "execution_count": 5,
   "id": "dedc5adb",
   "metadata": {},
   "outputs": [],
   "source": [
    "riri = kucing ('riri')"
   ]
  },
  {
   "cell_type": "code",
   "execution_count": 6,
   "id": "c6bbc513",
   "metadata": {},
   "outputs": [],
   "source": [
    "bono = anjing ('bono')"
   ]
  },
  {
   "cell_type": "code",
   "execution_count": 7,
   "id": "9d0a8a2b",
   "metadata": {},
   "outputs": [
    {
     "data": {
      "text/plain": [
       "'riri meong-meong'"
      ]
     },
     "execution_count": 7,
     "metadata": {},
     "output_type": "execute_result"
    }
   ],
   "source": [
    "riri.respon()"
   ]
  },
  {
   "cell_type": "code",
   "execution_count": 8,
   "id": "af784149",
   "metadata": {},
   "outputs": [
    {
     "data": {
      "text/plain": [
       "'bono guk-guk'"
      ]
     },
     "execution_count": 8,
     "metadata": {},
     "output_type": "execute_result"
    }
   ],
   "source": [
    "bono.respon()"
   ]
  },
  {
   "cell_type": "code",
   "execution_count": 9,
   "id": "ea4fa424",
   "metadata": {},
   "outputs": [
    {
     "name": "stdout",
     "output_type": "stream",
     "text": [
      "<class '__main__.kucing'>\n",
      "riri meong-meong\n",
      "<class '__main__.anjing'>\n",
      "bono guk-guk\n"
     ]
    }
   ],
   "source": [
    "for binatang in (riri, bono):\n",
    "    print (type (binatang))\n",
    "    print (binatang.respon())"
   ]
  },
  {
   "cell_type": "code",
   "execution_count": 10,
   "id": "f4a64c2a",
   "metadata": {},
   "outputs": [],
   "source": [
    "# kita menggunakan fungsi\n",
    "\n",
    "def hewan_ngomong(binatang): #kata binatang adalah objek abstrak bisa pakai kata lainnya\n",
    "    print(binatang.respon())\n",
    "    "
   ]
  },
  {
   "cell_type": "code",
   "execution_count": 11,
   "id": "c94d8e30",
   "metadata": {},
   "outputs": [
    {
     "name": "stdout",
     "output_type": "stream",
     "text": [
      "riri meong-meong\n"
     ]
    }
   ],
   "source": [
    "hewan_ngomong(riri)"
   ]
  },
  {
   "cell_type": "code",
   "execution_count": 12,
   "id": "c06ed25f",
   "metadata": {},
   "outputs": [
    {
     "name": "stdout",
     "output_type": "stream",
     "text": [
      "bono guk-guk\n"
     ]
    }
   ],
   "source": [
    "hewan_ngomong(bono)"
   ]
  },
  {
   "cell_type": "markdown",
   "id": "b0cdf5f9",
   "metadata": {},
   "source": [
    "**Dunder/Magic Methods**"
   ]
  },
  {
   "cell_type": "code",
   "execution_count": 14,
   "id": "a824ae1f",
   "metadata": {},
   "outputs": [],
   "source": [
    "class coba:\n",
    "    \n",
    "    def __init__(self, nama):\n",
    "        self.nama = nama\n",
    "        \n",
    "    def cetak (self):\n",
    "        return self.nama"
   ]
  },
  {
   "cell_type": "code",
   "execution_count": 15,
   "id": "e69dbe72",
   "metadata": {},
   "outputs": [],
   "source": [
    "coba = coba ('test')"
   ]
  },
  {
   "cell_type": "code",
   "execution_count": 16,
   "id": "2c55f9fe",
   "metadata": {},
   "outputs": [
    {
     "data": {
      "text/plain": [
       "'test'"
      ]
     },
     "execution_count": 16,
     "metadata": {},
     "output_type": "execute_result"
    }
   ],
   "source": [
    "coba.cetak()"
   ]
  },
  {
   "cell_type": "code",
   "execution_count": 17,
   "id": "f4cb6fb4",
   "metadata": {},
   "outputs": [
    {
     "name": "stdout",
     "output_type": "stream",
     "text": [
      "['__class__', '__delattr__', '__dict__', '__dir__', '__doc__', '__eq__', '__format__', '__ge__', '__getattribute__', '__getstate__', '__gt__', '__hash__', '__init__', '__init_subclass__', '__le__', '__lt__', '__module__', '__ne__', '__new__', '__reduce__', '__reduce_ex__', '__repr__', '__setattr__', '__sizeof__', '__str__', '__subclasshook__', '__weakref__', 'cetak', 'nama']\n"
     ]
    }
   ],
   "source": [
    "# di python ada fungsi dir untuk memunculkan sebuah dunder\n",
    "\n",
    "print(dir(coba))"
   ]
  },
  {
   "cell_type": "code",
   "execution_count": 18,
   "id": "a85ca1bd",
   "metadata": {},
   "outputs": [
    {
     "data": {
      "text/plain": [
       "(<function copyreg._reconstructor(cls, base, state)>,\n",
       " (__main__.coba, object, None),\n",
       " {'nama': 'test'})"
      ]
     },
     "execution_count": 18,
     "metadata": {},
     "output_type": "execute_result"
    }
   ],
   "source": [
    "coba.__reduce__()"
   ]
  },
  {
   "cell_type": "code",
   "execution_count": 19,
   "id": "56133230",
   "metadata": {},
   "outputs": [
    {
     "data": {
      "text/plain": [
       "<function coba.__reduce_ex__(protocol, /)>"
      ]
     },
     "execution_count": 19,
     "metadata": {},
     "output_type": "execute_result"
    }
   ],
   "source": [
    "coba.__reduce_ex__"
   ]
  },
  {
   "cell_type": "code",
   "execution_count": 20,
   "id": "38f52dee",
   "metadata": {},
   "outputs": [
    {
     "data": {
      "text/plain": [
       "<method-wrapper '__str__' of coba object at 0x0000025599D61B10>"
      ]
     },
     "execution_count": 20,
     "metadata": {},
     "output_type": "execute_result"
    }
   ],
   "source": [
    "coba.__str__"
   ]
  },
  {
   "cell_type": "code",
   "execution_count": 21,
   "id": "cffc68c9",
   "metadata": {},
   "outputs": [],
   "source": [
    "# mendefiniskan dunder method sendiri\n",
    "\n",
    "class coba:\n",
    "    \n",
    "    def __init__(self, nama, angka, kata):\n",
    "        self.nama = nama\n",
    "        self.angka = angka\n",
    "        self.kata = kata\n",
    "        \n",
    "    def __str__ (self):\n",
    "        return self.nama"
   ]
  },
  {
   "cell_type": "code",
   "execution_count": 23,
   "id": "7024ad3b",
   "metadata": {},
   "outputs": [],
   "source": [
    "coba = coba('joko', 200, 'sehat')"
   ]
  },
  {
   "cell_type": "code",
   "execution_count": 24,
   "id": "c5bcfb56",
   "metadata": {},
   "outputs": [
    {
     "data": {
      "text/plain": [
       "'joko'"
      ]
     },
     "execution_count": 24,
     "metadata": {},
     "output_type": "execute_result"
    }
   ],
   "source": [
    "coba.__str__()"
   ]
  },
  {
   "cell_type": "code",
   "execution_count": 28,
   "id": "6c0d94bb",
   "metadata": {},
   "outputs": [
    {
     "data": {
      "text/plain": [
       "'joko'"
      ]
     },
     "execution_count": 28,
     "metadata": {},
     "output_type": "execute_result"
    }
   ],
   "source": [
    "str(coba)"
   ]
  },
  {
   "cell_type": "code",
   "execution_count": 39,
   "id": "e93320e0",
   "metadata": {},
   "outputs": [],
   "source": [
    "class coba:\n",
    "    \n",
    "    def __init__(self, nama, angka, kata):\n",
    "        self.nama = nama\n",
    "        self.angka = angka\n",
    "        self.kata = kata\n",
    "        \n",
    "    def __str__ (self):\n",
    "        return self.nama\n",
    "    \n",
    "    def __len__ (self):\n",
    "        return 100"
   ]
  },
  {
   "cell_type": "code",
   "execution_count": 40,
   "id": "98ec3e3d",
   "metadata": {},
   "outputs": [],
   "source": [
    "coba = coba('joko', 200, 'sehat')"
   ]
  },
  {
   "cell_type": "code",
   "execution_count": 42,
   "id": "65bbce53",
   "metadata": {},
   "outputs": [
    {
     "data": {
      "text/plain": [
       "100"
      ]
     },
     "execution_count": 42,
     "metadata": {},
     "output_type": "execute_result"
    }
   ],
   "source": [
    "coba.__len__()"
   ]
  },
  {
   "cell_type": "code",
   "execution_count": 43,
   "id": "306c8170",
   "metadata": {},
   "outputs": [
    {
     "data": {
      "text/plain": [
       "100"
      ]
     },
     "execution_count": 43,
     "metadata": {},
     "output_type": "execute_result"
    }
   ],
   "source": [
    "len(coba)"
   ]
  },
  {
   "cell_type": "markdown",
   "id": "d0047765",
   "metadata": {},
   "source": [
    "**Tantangan OOP**\n",
    "\n",
    "* buatlah sebuah class dengan nama RekeningBank\n",
    "* kemudian class ini memiliki beberapa methods seperti mencetak saldo, menabung dan menarik uang\n",
    "* Jika rekeningnya kurang, maka akan menunjukan keterangan bahwa saldo tidak bisa ditarik karena tidak mencukupi"
   ]
  },
  {
   "cell_type": "code",
   "execution_count": null,
   "id": "e066ede5",
   "metadata": {},
   "outputs": [],
   "source": [
    "class RekeningBank:\n",
    "    \n",
    "    def __init__(self, tabungan):\n",
    "        self.tabungan = tabungan\n",
    "        \n",
    "    def cek_saldo(Self):\n",
    "        print ('Jumlah saldo anda adalah = Rp {}'.format(self.tabungan))\n",
    "        \n",
    "    def menabung(Self):\n",
    "        tambah = int(input('masukan jumlah yang ingin ditabung = '))\n",
    "        self.tabungan += tambah #self.tabungan = self.tabungan + tambah\n",
    "        \n",
    "    def menarik(self):\n",
    "        kurang = int(input('masukan jumlah yang ingin diambil = '))\n",
    "        if self.tabungan < kurang:\n",
    "            print ('maaf saldo anda tidak mencukupi \\nsaldo anda saat ini adalah {}'. format(self.tabungan, self.RekeningBank))\n",
    "        else:\n",
    "            self.tabungan -= kurang #self.tabungan = self.tabungan - kurang"
   ]
  },
  {
   "cell_type": "code",
   "execution_count": null,
   "id": "b9dd9b18",
   "metadata": {},
   "outputs": [],
   "source": [
    "tabunganku = RekeningBank(100000)"
   ]
  },
  {
   "cell_type": "code",
   "execution_count": null,
   "id": "8ada49c1",
   "metadata": {},
   "outputs": [],
   "source": [
    "tabunganku.cek_saldo()"
   ]
  },
  {
   "cell_type": "code",
   "execution_count": null,
   "id": "90863cf3",
   "metadata": {},
   "outputs": [],
   "source": [
    "tabunganku.menabung()"
   ]
  },
  {
   "cell_type": "code",
   "execution_count": null,
   "id": "78760bd6",
   "metadata": {},
   "outputs": [],
   "source": [
    "tabunganku.cek_saldo()"
   ]
  },
  {
   "cell_type": "code",
   "execution_count": null,
   "id": "b2eb3f35",
   "metadata": {},
   "outputs": [],
   "source": []
  }
 ],
 "metadata": {
  "kernelspec": {
   "display_name": "Python 3 (ipykernel)",
   "language": "python",
   "name": "python3"
  },
  "language_info": {
   "codemirror_mode": {
    "name": "ipython",
    "version": 3
   },
   "file_extension": ".py",
   "mimetype": "text/x-python",
   "name": "python",
   "nbconvert_exporter": "python",
   "pygments_lexer": "ipython3",
   "version": "3.11.4"
  }
 },
 "nbformat": 4,
 "nbformat_minor": 5
}
