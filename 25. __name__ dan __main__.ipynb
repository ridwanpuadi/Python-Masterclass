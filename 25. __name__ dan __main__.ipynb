{
 "cells": [
  {
   "cell_type": "markdown",
   "id": "42108e2d",
   "metadata": {},
   "source": [
    "**Mengapa Penting**\n",
    "\n",
    "* Kita akan sering menjumpai if __name__ == __main__\n",
    "* Ketika kita menjalankan sebuah *module*, kita ingin tahu apakah saat menjalankan *module*, kita menjalankan langsung di *module* itu atau hasil import\n",
    "\n",
    "**Apa Itu __name__?**\n",
    "* Hal penting yang harus difahami adalah:\n",
    "\n",
    "* Setiap python membaca sebuah file (*source code*), ia akan membuat beberapa variabel khusus, salah satunya __name__\n",
    "* Python akan mengeksekusi semua codes yang ada di file tersebut"
   ]
  },
  {
   "cell_type": "code",
   "execution_count": null,
   "id": "14cced20",
   "metadata": {},
   "outputs": [],
   "source": []
  }
 ],
 "metadata": {
  "kernelspec": {
   "display_name": "Python 3 (ipykernel)",
   "language": "python",
   "name": "python3"
  },
  "language_info": {
   "codemirror_mode": {
    "name": "ipython",
    "version": 3
   },
   "file_extension": ".py",
   "mimetype": "text/x-python",
   "name": "python",
   "nbconvert_exporter": "python",
   "pygments_lexer": "ipython3",
   "version": "3.11.4"
  }
 },
 "nbformat": 4,
 "nbformat_minor": 5
}
