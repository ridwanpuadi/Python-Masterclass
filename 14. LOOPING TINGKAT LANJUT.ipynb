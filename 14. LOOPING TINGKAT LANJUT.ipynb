{
 "cells": [
  {
   "cell_type": "markdown",
   "id": "3e3d6191",
   "metadata": {},
   "source": [
    "# range"
   ]
  },
  {
   "cell_type": "code",
   "execution_count": 3,
   "id": "7e5f7e8d",
   "metadata": {},
   "outputs": [
    {
     "name": "stdout",
     "output_type": "stream",
     "text": [
      "1\n",
      "2\n",
      "3\n",
      "4\n",
      "5\n",
      "6\n",
      "7\n",
      "8\n",
      "9\n"
     ]
    }
   ],
   "source": [
    "for item in range (1,10):\n",
    "    print (item)"
   ]
  },
  {
   "cell_type": "code",
   "execution_count": 1,
   "id": "bb4bbe5b",
   "metadata": {},
   "outputs": [
    {
     "name": "stdout",
     "output_type": "stream",
     "text": [
      "1\n",
      "4\n",
      "7\n",
      "10\n",
      "13\n",
      "16\n",
      "19\n"
     ]
    }
   ],
   "source": [
    "for item in range (1,20,3):\n",
    "    print (item)"
   ]
  },
  {
   "cell_type": "code",
   "execution_count": 2,
   "id": "68f60765",
   "metadata": {},
   "outputs": [
    {
     "data": {
      "text/plain": [
       "[1, 2, 3, 4, 5, 6, 7, 8, 9, 10]"
      ]
     },
     "execution_count": 2,
     "metadata": {},
     "output_type": "execute_result"
    }
   ],
   "source": [
    "angka =[1,2,3,4,5,6,7,8,9,10]\n",
    "angka"
   ]
  },
  {
   "cell_type": "code",
   "execution_count": 7,
   "id": "323ce6a4",
   "metadata": {},
   "outputs": [],
   "source": [
    "angka2=list(range(1,11))"
   ]
  },
  {
   "cell_type": "code",
   "execution_count": 8,
   "id": "6707cd00",
   "metadata": {},
   "outputs": [
    {
     "data": {
      "text/plain": [
       "[1, 2, 3, 4, 5, 6, 7, 8, 9, 10]"
      ]
     },
     "execution_count": 8,
     "metadata": {},
     "output_type": "execute_result"
    }
   ],
   "source": [
    "angka2"
   ]
  },
  {
   "cell_type": "markdown",
   "id": "441a9b51",
   "metadata": {},
   "source": [
    "# Enumerate\n",
    "\n",
    "menunjukan indeks sebuah item di for loop"
   ]
  },
  {
   "cell_type": "code",
   "execution_count": 3,
   "id": "530ae876",
   "metadata": {},
   "outputs": [
    {
     "name": "stdout",
     "output_type": "stream",
     "text": [
      "karakter a berada di indeks ke- 0\n",
      "karakter b berada di indeks ke- 1\n",
      "karakter c berada di indeks ke- 2\n",
      "karakter d berada di indeks ke- 3\n",
      "karakter e berada di indeks ke- 4\n",
      "karakter f berada di indeks ke- 5\n",
      "karakter g berada di indeks ke- 6\n"
     ]
    }
   ],
   "source": [
    "indeks = 0\n",
    "for item in 'abcdefg':\n",
    "    print ('karakter {} berada di indeks ke- {}'. format (item, indeks))\n",
    "    indeks += 1"
   ]
  },
  {
   "cell_type": "code",
   "execution_count": 2,
   "id": "8b14e75a",
   "metadata": {},
   "outputs": [
    {
     "name": "stdout",
     "output_type": "stream",
     "text": [
      "(0, 'a')\n",
      "(1, 'b')\n",
      "(2, 'c')\n",
      "(3, 'd')\n",
      "(4, 'e')\n",
      "(5, 'f')\n",
      "(6, 'g')\n"
     ]
    }
   ],
   "source": [
    "# lebih efisien pakai enumerate\n",
    "\n",
    "kata = 'abcdefg'\n",
    "for item in enumerate(kata):\n",
    "    print (item)"
   ]
  },
  {
   "cell_type": "code",
   "execution_count": 3,
   "id": "9d791cff",
   "metadata": {},
   "outputs": [
    {
     "name": "stdout",
     "output_type": "stream",
     "text": [
      "0\n",
      "a\n",
      "1\n",
      "b\n",
      "2\n",
      "c\n",
      "3\n",
      "d\n",
      "4\n",
      "e\n",
      "5\n",
      "f\n",
      "6\n",
      "g\n"
     ]
    }
   ],
   "source": [
    "for a,b in enumerate (kata):\n",
    "    print (a)\n",
    "    print (b)"
   ]
  },
  {
   "cell_type": "markdown",
   "id": "ca81a387",
   "metadata": {},
   "source": [
    "# Zip\n",
    "\n",
    "digunakan untuk menggabungkan satu atau lebih list"
   ]
  },
  {
   "cell_type": "code",
   "execution_count": 18,
   "id": "dd086db3",
   "metadata": {},
   "outputs": [],
   "source": [
    "list1 = [1,2,3,4,5]\n",
    "list2 = ['a','b','c','d','e']"
   ]
  },
  {
   "cell_type": "code",
   "execution_count": 19,
   "id": "4b5c6399",
   "metadata": {},
   "outputs": [
    {
     "name": "stdout",
     "output_type": "stream",
     "text": [
      "(1, 'a')\n",
      "(2, 'b')\n",
      "(3, 'c')\n",
      "(4, 'd')\n",
      "(5, 'e')\n"
     ]
    }
   ],
   "source": [
    "for item in zip (list1, list2):\n",
    "    print (item)"
   ]
  },
  {
   "cell_type": "code",
   "execution_count": 7,
   "id": "f56d4292",
   "metadata": {},
   "outputs": [
    {
     "name": "stdout",
     "output_type": "stream",
     "text": [
      "(1, 'a', 100)\n",
      "(2, 'b', 200)\n",
      "(3, 'c', 300)\n",
      "(4, 'd', 400)\n",
      "(5, 'e', 500)\n"
     ]
    }
   ],
   "source": [
    "list1 = [1,2,3,4,5,]\n",
    "list2 = ['a','b','c','d','e']\n",
    "list3 = [100, 200, 300, 400, 500]\n",
    "\n",
    "for item in zip (list1, list2, list3):\n",
    "    print (item)"
   ]
  },
  {
   "cell_type": "code",
   "execution_count": 20,
   "id": "c5441fd0",
   "metadata": {},
   "outputs": [
    {
     "data": {
      "text/plain": [
       "[(1, 'a'), (2, 'b'), (3, 'c'), (4, 'd'), (5, 'e')]"
      ]
     },
     "execution_count": 20,
     "metadata": {},
     "output_type": "execute_result"
    }
   ],
   "source": [
    "list(zip(list1,list2))"
   ]
  },
  {
   "cell_type": "markdown",
   "id": "d2af816b",
   "metadata": {},
   "source": [
    "# item cheking\n",
    "\n",
    "mengecek nilai boolean"
   ]
  },
  {
   "cell_type": "code",
   "execution_count": 21,
   "id": "697d4212",
   "metadata": {},
   "outputs": [
    {
     "data": {
      "text/plain": [
       "'aku belajar'"
      ]
     },
     "execution_count": 21,
     "metadata": {},
     "output_type": "execute_result"
    }
   ],
   "source": [
    "'aku belajar'"
   ]
  },
  {
   "cell_type": "code",
   "execution_count": 24,
   "id": "fc9b847a",
   "metadata": {},
   "outputs": [
    {
     "data": {
      "text/plain": [
       "True"
      ]
     },
     "execution_count": 24,
     "metadata": {},
     "output_type": "execute_result"
    }
   ],
   "source": [
    "'k' in 'aku belajar'"
   ]
  },
  {
   "cell_type": "code",
   "execution_count": 8,
   "id": "db665b96",
   "metadata": {},
   "outputs": [
    {
     "data": {
      "text/plain": [
       "False"
      ]
     },
     "execution_count": 8,
     "metadata": {},
     "output_type": "execute_result"
    }
   ],
   "source": [
    "'v' in 'aku belajar'"
   ]
  },
  {
   "cell_type": "code",
   "execution_count": 25,
   "id": "e9206a7d",
   "metadata": {},
   "outputs": [],
   "source": [
    "kotak1 = {'a':100, 'b':200, 'c':300}"
   ]
  },
  {
   "cell_type": "code",
   "execution_count": 26,
   "id": "b19fb036",
   "metadata": {},
   "outputs": [
    {
     "data": {
      "text/plain": [
       "True"
      ]
     },
     "execution_count": 26,
     "metadata": {},
     "output_type": "execute_result"
    }
   ],
   "source": [
    "'a' in kotak1"
   ]
  },
  {
   "cell_type": "code",
   "execution_count": 27,
   "id": "3f226cab",
   "metadata": {},
   "outputs": [
    {
     "data": {
      "text/plain": [
       "False"
      ]
     },
     "execution_count": 27,
     "metadata": {},
     "output_type": "execute_result"
    }
   ],
   "source": [
    "'d' in kotak1"
   ]
  },
  {
   "cell_type": "code",
   "execution_count": 28,
   "id": "7656b937",
   "metadata": {},
   "outputs": [
    {
     "data": {
      "text/plain": [
       "True"
      ]
     },
     "execution_count": 28,
     "metadata": {},
     "output_type": "execute_result"
    }
   ],
   "source": [
    "# cara mengecek nilai 200 dari kepala b\n",
    "\n",
    "200 in kotak1.values()"
   ]
  },
  {
   "cell_type": "markdown",
   "id": "46249c26",
   "metadata": {},
   "source": [
    "# Advanced For Loops"
   ]
  },
  {
   "cell_type": "code",
   "execution_count": 29,
   "id": "b9154e45",
   "metadata": {},
   "outputs": [
    {
     "data": {
      "text/plain": [
       "[1, 2, 3, 4, 5, 6, 7, 8, 9, 10]"
      ]
     },
     "execution_count": 29,
     "metadata": {},
     "output_type": "execute_result"
    }
   ],
   "source": [
    "# cara panjang\n",
    "\n",
    "isi = list(range(1,11))\n",
    "isi"
   ]
  },
  {
   "cell_type": "code",
   "execution_count": 30,
   "id": "44451ecf",
   "metadata": {},
   "outputs": [
    {
     "data": {
      "text/plain": [
       "[1, 2, 3, 4, 5, 6, 7, 8, 9, 10]"
      ]
     },
     "execution_count": 30,
     "metadata": {},
     "output_type": "execute_result"
    }
   ],
   "source": [
    "isi2 = list()\n",
    "for item in range (1,11):\n",
    "    isi2.append(item)\n",
    "isi2"
   ]
  },
  {
   "cell_type": "code",
   "execution_count": 31,
   "id": "35c7f9b2",
   "metadata": {},
   "outputs": [
    {
     "data": {
      "text/plain": [
       "[1, 2, 3, 4, 5, 6, 7, 8, 9, 10]"
      ]
     },
     "execution_count": 31,
     "metadata": {},
     "output_type": "execute_result"
    }
   ],
   "source": [
    "# cara simple\n",
    "\n",
    "isi3 = [item for item in range (1,11)]\n",
    "isi3"
   ]
  },
  {
   "cell_type": "code",
   "execution_count": 9,
   "id": "cff65ac2",
   "metadata": {},
   "outputs": [
    {
     "data": {
      "text/plain": [
       "[0.3333333333333333,\n",
       " 1.3333333333333333,\n",
       " 3.0,\n",
       " 5.333333333333333,\n",
       " 8.333333333333334,\n",
       " 12.0,\n",
       " 16.333333333333332,\n",
       " 21.333333333333332,\n",
       " 27.0,\n",
       " 33.333333333333336]"
      ]
     },
     "execution_count": 9,
     "metadata": {},
     "output_type": "execute_result"
    }
   ],
   "source": [
    "# cara seperti ini memiliki kelebihan yaitu bisa menambahkan arimatika\n",
    "\n",
    "isi4 = [(item**2/3) for item in range(1,11)]\n",
    "isi4"
   ]
  },
  {
   "cell_type": "code",
   "execution_count": 10,
   "id": "a60adae3",
   "metadata": {},
   "outputs": [
    {
     "data": {
      "text/plain": [
       "[1, 4, 9, 16, 25, 36, 49, 64, 81, 100]"
      ]
     },
     "execution_count": 10,
     "metadata": {},
     "output_type": "execute_result"
    }
   ],
   "source": [
    "isi4 = [item**2 for item in range(1,11)]\n",
    "isi4"
   ]
  },
  {
   "cell_type": "code",
   "execution_count": 34,
   "id": "d1ca0310",
   "metadata": {},
   "outputs": [
    {
     "data": {
      "text/plain": [
       "[2, 4, 6, 8, 10]"
      ]
     },
     "execution_count": 34,
     "metadata": {},
     "output_type": "execute_result"
    }
   ],
   "source": [
    "isi5 = [item for item in range (1,11) if item%2==0]\n",
    "isi5"
   ]
  },
  {
   "cell_type": "code",
   "execution_count": 11,
   "id": "6c1901b7",
   "metadata": {},
   "outputs": [
    {
     "data": {
      "text/plain": [
       "[4,\n",
       " 16,\n",
       " 36,\n",
       " 64,\n",
       " 100,\n",
       " 144,\n",
       " 196,\n",
       " 256,\n",
       " 324,\n",
       " 400,\n",
       " 484,\n",
       " 576,\n",
       " 676,\n",
       " 784,\n",
       " 900,\n",
       " 1024,\n",
       " 1156,\n",
       " 1296,\n",
       " 1444]"
      ]
     },
     "execution_count": 11,
     "metadata": {},
     "output_type": "execute_result"
    }
   ],
   "source": [
    "isi10 = [(item**2) for item in range (1,40) if item%2==0]\n",
    "isi10"
   ]
  },
  {
   "cell_type": "code",
   "execution_count": 12,
   "id": "c675dbdc",
   "metadata": {},
   "outputs": [
    {
     "data": {
      "text/plain": [
       "['angka ini bilangan ganjil',\n",
       " 2,\n",
       " 'angka ini bilangan ganjil',\n",
       " 4,\n",
       " 'angka ini bilangan ganjil',\n",
       " 6,\n",
       " 'angka ini bilangan ganjil',\n",
       " 8,\n",
       " 'angka ini bilangan ganjil',\n",
       " 10]"
      ]
     },
     "execution_count": 12,
     "metadata": {},
     "output_type": "execute_result"
    }
   ],
   "source": [
    "# jika memakai else maka if pindah ke depan\n",
    "\n",
    "isi6 = [item if item%2==0 else 'angka ini bilangan ganjil' for item in range (1,11)]\n",
    "isi6"
   ]
  },
  {
   "cell_type": "code",
   "execution_count": 36,
   "id": "df10b5f0",
   "metadata": {},
   "outputs": [
    {
     "data": {
      "text/plain": [
       "['angka ini bilangan ganjil',\n",
       " 2,\n",
       " 'angka ini bilangan ganjil',\n",
       " 4,\n",
       " 'angka ini bilangan ganjil',\n",
       " 6,\n",
       " 'angka ini bilangan ganjil',\n",
       " 8,\n",
       " 'angka ini bilangan ganjil',\n",
       " 10]"
      ]
     },
     "execution_count": 36,
     "metadata": {},
     "output_type": "execute_result"
    }
   ],
   "source": [
    "isi7 = []\n",
    "for item in range (1,11):\n",
    "    if item%2==0:\n",
    "        isi7.append(item)\n",
    "    else:\n",
    "        isi7.append('angka ini bilangan ganjil')\n",
    "isi7"
   ]
  },
  {
   "cell_type": "code",
   "execution_count": null,
   "id": "b16f473c",
   "metadata": {},
   "outputs": [],
   "source": []
  }
 ],
 "metadata": {
  "kernelspec": {
   "display_name": "Python 3 (ipykernel)",
   "language": "python",
   "name": "python3"
  },
  "language_info": {
   "codemirror_mode": {
    "name": "ipython",
    "version": 3
   },
   "file_extension": ".py",
   "mimetype": "text/x-python",
   "name": "python",
   "nbconvert_exporter": "python",
   "pygments_lexer": "ipython3",
   "version": "3.11.4"
  }
 },
 "nbformat": 4,
 "nbformat_minor": 5
}
