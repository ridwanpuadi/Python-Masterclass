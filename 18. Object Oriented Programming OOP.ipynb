{
 "cells": [
  {
   "cell_type": "markdown",
   "id": "c9ebb845",
   "metadata": {},
   "source": [
    "**Apa itu Object Oriented Programming**\n",
    "\n",
    "* Di python semuanya adalah objek, seperti type data (list, str, int,dict dll)\n",
    "* Di python, objek disebut dengan istilah *class*\n",
    "* Setelah mendefinisikan objek , kita bisa menggunakan *methods* dan *attributes* terhadap objek tersebut\n",
    "* OOP memungkinkan programmer untuk menciptakan objek mereka sendiri, termasuk *methods* dan *attributes* nya\n",
    "\n",
    "catatan\n",
    "* procedural languange adalah pembacaan dari atas ke bawah\n",
    "* namun cara prosecural languange tidak cocok untuk aplikasi AI\n",
    "* disinal OOP menjadi solusi dari keterbatasan teknik procedural\n",
    "* Konsep OOP sama seperti kita membangun rumah mulai dari pondasi hingga bahan bangunannya\n",
    "* OOP akan sangat terasa ketika kita menciptakan sebuah produk dimana sparepart/masing2 objek dikembangkan oleh orang/div yg berbeda-beda"
   ]
  },
  {
   "cell_type": "code",
   "execution_count": 2,
   "id": "835b0a1f",
   "metadata": {},
   "outputs": [
    {
     "name": "stdout",
     "output_type": "stream",
     "text": [
      "<class 'list'>\n",
      "<class 'dict'>\n",
      "<class 'tuple'>\n",
      "<class 'str'>\n",
      "<class 'int'>\n",
      "<class 'float'>\n",
      "<class 'bool'>\n",
      "<class 'NoneType'>\n"
     ]
    }
   ],
   "source": [
    "print(type([]))\n",
    "print(type({}))\n",
    "print(type(()))\n",
    "print(type('string'))\n",
    "print(type(20))\n",
    "print(type(2.50))\n",
    "print(type(True))\n",
    "print(type(None))\n"
   ]
  },
  {
   "cell_type": "code",
   "execution_count": 4,
   "id": "716bc0a7",
   "metadata": {},
   "outputs": [],
   "source": [
    "# dengan OOP memungkinkan kita membuat objek sendiri, termasuk methods dan attribuutes nya\n",
    "# ciri objek ketika kita menambahkan dot (.) maka akan muncul pilihan methods\n",
    "# print(type('saya adalah string'.))"
   ]
  }
 ],
 "metadata": {
  "kernelspec": {
   "display_name": "Python 3 (ipykernel)",
   "language": "python",
   "name": "python3"
  },
  "language_info": {
   "codemirror_mode": {
    "name": "ipython",
    "version": 3
   },
   "file_extension": ".py",
   "mimetype": "text/x-python",
   "name": "python",
   "nbconvert_exporter": "python",
   "pygments_lexer": "ipython3",
   "version": "3.11.4"
  }
 },
 "nbformat": 4,
 "nbformat_minor": 5
}
